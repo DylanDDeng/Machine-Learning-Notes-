{
 "cells": [
  {
   "cell_type": "code",
   "execution_count": 1,
   "id": "82497f22",
   "metadata": {
    "ExecuteTime": {
     "end_time": "2022-07-06T02:08:20.024558Z",
     "start_time": "2022-07-06T02:08:16.576476Z"
    }
   },
   "outputs": [],
   "source": [
    "import numpy as np \n",
    "import matplotlib.pyplot as plt \n",
    "from sklearn.naive_bayes import GaussianNB \n",
    "from sklearn.datasets import load_digits \n",
    "from sklearn.model_selection import train_test_split "
   ]
  },
  {
   "cell_type": "code",
   "execution_count": 2,
   "id": "3e5458ca",
   "metadata": {
    "ExecuteTime": {
     "end_time": "2022-07-06T02:08:20.140189Z",
     "start_time": "2022-07-06T02:08:20.030518Z"
    }
   },
   "outputs": [],
   "source": [
    "digits = load_digits() \n",
    "X,y = digits.data, digits.target "
   ]
  },
  {
   "cell_type": "code",
   "execution_count": 3,
   "id": "2f1eddf6",
   "metadata": {
    "ExecuteTime": {
     "end_time": "2022-07-06T02:08:20.150005Z",
     "start_time": "2022-07-06T02:08:20.144249Z"
    }
   },
   "outputs": [],
   "source": [
    "Xtrain,Xtest,ytrain,ytest = train_test_split(X,y,test_size = 0.3,random_state= 420) "
   ]
  },
  {
   "cell_type": "code",
   "execution_count": 4,
   "id": "14d00324",
   "metadata": {
    "ExecuteTime": {
     "end_time": "2022-07-06T02:08:20.159972Z",
     "start_time": "2022-07-06T02:08:20.152423Z"
    }
   },
   "outputs": [
    {
     "data": {
      "text/plain": [
       "(1257, 64)"
      ]
     },
     "execution_count": 4,
     "metadata": {},
     "output_type": "execute_result"
    }
   ],
   "source": [
    "Xtrain.shape # 64 features "
   ]
  },
  {
   "cell_type": "code",
   "execution_count": 5,
   "id": "d42d93f6",
   "metadata": {
    "ExecuteTime": {
     "end_time": "2022-07-06T02:08:20.183238Z",
     "start_time": "2022-07-06T02:08:20.162497Z"
    }
   },
   "outputs": [
    {
     "data": {
      "text/plain": [
       "(540, 64)"
      ]
     },
     "execution_count": 5,
     "metadata": {},
     "output_type": "execute_result"
    }
   ],
   "source": [
    "Xtest.shape "
   ]
  },
  {
   "cell_type": "code",
   "execution_count": 6,
   "id": "23c64bb7",
   "metadata": {
    "ExecuteTime": {
     "end_time": "2022-07-06T02:08:20.232611Z",
     "start_time": "2022-07-06T02:08:20.185348Z"
    }
   },
   "outputs": [
    {
     "data": {
      "text/plain": [
       "array([0, 1, 2, 3, 4, 5, 6, 7, 8, 9])"
      ]
     },
     "execution_count": 6,
     "metadata": {},
     "output_type": "execute_result"
    }
   ],
   "source": [
    "np.unique(ytrain) "
   ]
  },
  {
   "cell_type": "code",
   "execution_count": 7,
   "id": "f7ad0b2e",
   "metadata": {
    "ExecuteTime": {
     "end_time": "2022-07-06T02:08:20.278900Z",
     "start_time": "2022-07-06T02:08:20.234710Z"
    }
   },
   "outputs": [],
   "source": [
    "# model \n",
    "gnb = GaussianNB().fit(Xtrain,ytrain) \n",
    "# 查看分数\n",
    "acc_score = gnb.score(Xtest,ytest)"
   ]
  },
  {
   "cell_type": "code",
   "execution_count": 8,
   "id": "084d65b5",
   "metadata": {
    "ExecuteTime": {
     "end_time": "2022-07-06T02:08:20.288165Z",
     "start_time": "2022-07-06T02:08:20.282633Z"
    }
   },
   "outputs": [
    {
     "data": {
      "text/plain": [
       "0.8592592592592593"
      ]
     },
     "execution_count": 8,
     "metadata": {},
     "output_type": "execute_result"
    }
   ],
   "source": [
    "acc_score # accuracy "
   ]
  },
  {
   "cell_type": "code",
   "execution_count": 9,
   "id": "edb41275",
   "metadata": {
    "ExecuteTime": {
     "end_time": "2022-07-06T02:08:20.302603Z",
     "start_time": "2022-07-06T02:08:20.294191Z"
    }
   },
   "outputs": [
    {
     "data": {
      "text/plain": [
       "array([6, 1, 3, 0, 4, 5, 0, 8, 3, 8, 6, 8, 7, 8, 8, 8, 5, 9, 5, 6, 5, 4,\n",
       "       7, 4, 8, 2, 7, 2, 8, 9, 2, 8, 3, 6, 0, 3, 8, 8, 1, 5, 2, 8, 8, 9,\n",
       "       2, 2, 0, 7, 3, 6, 7, 2, 8, 0, 5, 4, 1, 9, 4, 0, 5, 8, 9, 1, 7, 8,\n",
       "       7, 5, 8, 2, 4, 4, 8, 2, 6, 1, 2, 1, 7, 8, 8, 5, 9, 4, 3, 6, 9, 7,\n",
       "       4, 2, 4, 8, 0, 5, 7, 7, 7, 4, 7, 8, 8, 7, 0, 7, 2, 1, 9, 9, 8, 7,\n",
       "       1, 5, 1, 8, 0, 4, 8, 9, 5, 6, 4, 8, 3, 8, 0, 6, 8, 6, 7, 6, 1, 8,\n",
       "       5, 0, 8, 2, 1, 8, 8, 6, 6, 0, 2, 4, 7, 8, 9, 5, 9, 4, 7, 8, 8, 6,\n",
       "       7, 0, 8, 4, 7, 2, 2, 6, 4, 4, 1, 0, 3, 4, 3, 8, 7, 0, 6, 9, 7, 5,\n",
       "       5, 3, 6, 1, 6, 6, 2, 3, 8, 2, 7, 3, 1, 1, 6, 8, 8, 8, 7, 7, 2, 5,\n",
       "       0, 0, 8, 6, 6, 7, 6, 0, 7, 5, 5, 8, 4, 6, 5, 1, 5, 1, 9, 6, 8, 8,\n",
       "       8, 2, 4, 8, 6, 5, 9, 9, 3, 1, 9, 1, 3, 3, 5, 5, 7, 7, 4, 0, 9, 0,\n",
       "       9, 9, 6, 4, 3, 4, 8, 1, 0, 2, 9, 7, 6, 8, 8, 0, 6, 0, 1, 7, 1, 9,\n",
       "       5, 4, 6, 8, 1, 5, 7, 7, 5, 1, 0, 0, 9, 3, 9, 1, 6, 3, 7, 2, 7, 1,\n",
       "       9, 9, 8, 3, 3, 5, 7, 7, 7, 3, 9, 5, 0, 7, 5, 5, 1, 4, 9, 2, 0, 6,\n",
       "       3, 0, 8, 7, 2, 8, 1, 6, 4, 1, 2, 5, 7, 1, 4, 9, 5, 4, 2, 3, 5, 9,\n",
       "       8, 0, 0, 0, 0, 4, 2, 0, 6, 6, 8, 7, 1, 1, 8, 1, 1, 7, 8, 7, 8, 3,\n",
       "       1, 4, 6, 1, 8, 1, 6, 6, 7, 2, 8, 5, 3, 2, 1, 8, 7, 8, 5, 1, 7, 2,\n",
       "       1, 1, 7, 8, 9, 5, 0, 4, 7, 8, 8, 9, 5, 5, 8, 5, 5, 8, 1, 0, 4, 3,\n",
       "       8, 2, 8, 5, 7, 6, 9, 9, 5, 8, 9, 9, 1, 8, 6, 4, 3, 3, 3, 3, 0, 8,\n",
       "       0, 7, 7, 6, 0, 8, 9, 8, 3, 6, 6, 8, 7, 5, 8, 4, 5, 8, 6, 7, 6, 7,\n",
       "       7, 8, 0, 8, 2, 2, 0, 5, 7, 3, 0, 2, 8, 2, 0, 2, 3, 6, 8, 1, 7, 5,\n",
       "       7, 1, 7, 7, 2, 7, 5, 2, 6, 5, 8, 0, 0, 8, 1, 3, 7, 6, 1, 5, 6, 2,\n",
       "       0, 1, 5, 7, 8, 0, 3, 5, 0, 7, 5, 4, 4, 1, 5, 9, 5, 3, 7, 1, 7, 3,\n",
       "       5, 8, 5, 8, 5, 6, 1, 6, 7, 4, 3, 7, 0, 5, 4, 9, 3, 3, 6, 3, 5, 2,\n",
       "       9, 8, 9, 3, 9, 7, 3, 4, 9, 4, 3, 1])"
      ]
     },
     "execution_count": 9,
     "metadata": {},
     "output_type": "execute_result"
    }
   ],
   "source": [
    "# prediction \n",
    "Y_pred = gnb.predict(Xtest) \n",
    "Y_pred "
   ]
  },
  {
   "cell_type": "code",
   "execution_count": 10,
   "id": "6339eaf0",
   "metadata": {
    "ExecuteTime": {
     "end_time": "2022-07-06T02:08:20.330111Z",
     "start_time": "2022-07-06T02:08:20.304692Z"
    }
   },
   "outputs": [],
   "source": [
    "# prediction probability \n",
    "prob = gnb.predict_proba(Xtest) \n"
   ]
  },
  {
   "cell_type": "code",
   "execution_count": 11,
   "id": "12f41d93",
   "metadata": {
    "ExecuteTime": {
     "end_time": "2022-07-06T02:08:20.337587Z",
     "start_time": "2022-07-06T02:08:20.332272Z"
    }
   },
   "outputs": [
    {
     "data": {
      "text/plain": [
       "(540, 10)"
      ]
     },
     "execution_count": 11,
     "metadata": {},
     "output_type": "execute_result"
    }
   ],
   "source": [
    "prob.shape "
   ]
  },
  {
   "cell_type": "code",
   "execution_count": 12,
   "id": "e5b4d74b",
   "metadata": {
    "ExecuteTime": {
     "end_time": "2022-07-06T02:08:20.379598Z",
     "start_time": "2022-07-06T02:08:20.339840Z"
    }
   },
   "outputs": [
    {
     "data": {
      "text/plain": [
       "array([0.00000000e+00, 1.00000000e+00, 9.26742456e-13, 0.00000000e+00,\n",
       "       0.00000000e+00, 0.00000000e+00, 0.00000000e+00, 0.00000000e+00,\n",
       "       0.00000000e+00, 0.00000000e+00])"
      ]
     },
     "execution_count": 12,
     "metadata": {},
     "output_type": "execute_result"
    }
   ],
   "source": [
    "prob[1,:]# 样本在每个标签下的概率"
   ]
  },
  {
   "cell_type": "code",
   "execution_count": 13,
   "id": "435e14aa",
   "metadata": {
    "ExecuteTime": {
     "end_time": "2022-07-06T02:08:20.400125Z",
     "start_time": "2022-07-06T02:08:20.381849Z"
    }
   },
   "outputs": [
    {
     "data": {
      "text/plain": [
       "1.000000000000003"
      ]
     },
     "execution_count": 13,
     "metadata": {},
     "output_type": "execute_result"
    }
   ],
   "source": [
    "prob[1,:].sum()"
   ]
  },
  {
   "cell_type": "code",
   "execution_count": 14,
   "id": "abd31b32",
   "metadata": {
    "ExecuteTime": {
     "end_time": "2022-07-06T02:08:20.409261Z",
     "start_time": "2022-07-06T02:08:20.403001Z"
    }
   },
   "outputs": [
    {
     "data": {
      "text/plain": [
       "(540,)"
      ]
     },
     "execution_count": 14,
     "metadata": {},
     "output_type": "execute_result"
    }
   ],
   "source": [
    "prob.sum(axis = 1).shape "
   ]
  },
  {
   "cell_type": "code",
   "execution_count": 15,
   "id": "4c884dad",
   "metadata": {
    "ExecuteTime": {
     "end_time": "2022-07-06T02:08:20.416607Z",
     "start_time": "2022-07-06T02:08:20.411808Z"
    }
   },
   "outputs": [],
   "source": [
    "from sklearn.metrics import confusion_matrix as CM "
   ]
  },
  {
   "cell_type": "code",
   "execution_count": 16,
   "id": "ed97378e",
   "metadata": {
    "ExecuteTime": {
     "end_time": "2022-07-06T02:08:20.436963Z",
     "start_time": "2022-07-06T02:08:20.419779Z"
    }
   },
   "outputs": [
    {
     "data": {
      "text/plain": [
       "array([[47,  0,  0,  0,  0,  0,  0,  1,  0,  0],\n",
       "       [ 0, 46,  2,  0,  0,  0,  0,  3,  6,  2],\n",
       "       [ 0,  2, 35,  0,  0,  0,  1,  0, 16,  0],\n",
       "       [ 0,  0,  1, 40,  0,  1,  0,  3,  4,  0],\n",
       "       [ 0,  0,  1,  0, 39,  0,  1,  4,  0,  0],\n",
       "       [ 0,  0,  0,  2,  0, 58,  1,  1,  1,  0],\n",
       "       [ 0,  0,  1,  0,  0,  1, 49,  0,  0,  0],\n",
       "       [ 0,  0,  0,  0,  0,  0,  0, 54,  0,  0],\n",
       "       [ 0,  3,  0,  1,  0,  0,  0,  2, 55,  0],\n",
       "       [ 1,  1,  0,  1,  2,  0,  0,  3,  7, 41]])"
      ]
     },
     "execution_count": 16,
     "metadata": {},
     "output_type": "execute_result"
    }
   ],
   "source": [
    "CM(ytest,Y_pred)"
   ]
  },
  {
   "cell_type": "code",
   "execution_count": 17,
   "id": "68f95e25",
   "metadata": {
    "ExecuteTime": {
     "end_time": "2022-07-06T02:08:20.654072Z",
     "start_time": "2022-07-06T02:08:20.439036Z"
    }
   },
   "outputs": [],
   "source": [
    "import numpy as np\n",
    "import matplotlib.pyplot as plt\n",
    "from sklearn.naive_bayes import GaussianNB\n",
    "from sklearn.svm import SVC\n",
    "from sklearn.ensemble import RandomForestClassifier as RFC\n",
    "from sklearn.tree import DecisionTreeClassifier as DTC\n",
    "from sklearn.linear_model import LogisticRegression as LR\n",
    "from sklearn.datasets import load_digits\n",
    "from sklearn.model_selection import learning_curve\n",
    "from sklearn.model_selection import ShuffleSplit\n",
    "from time import time\n",
    "import datetime "
   ]
  },
  {
   "cell_type": "code",
   "execution_count": 18,
   "id": "67fcd7e7",
   "metadata": {
    "ExecuteTime": {
     "end_time": "2022-07-06T02:08:20.662404Z",
     "start_time": "2022-07-06T02:08:20.655959Z"
    }
   },
   "outputs": [],
   "source": [
    "# learning curve functions \n",
    "def plot_learning_curve(estimator,title,X,y,ax,\n",
    "                       ylim = None, \n",
    "                       cv = None, \n",
    "                       n_jobs = None \n",
    "                       ): \n",
    "    train_sizes, train_scores, test_scores = learning_curve(estimator,X,y,cv = cv,n_jobs = n_jobs) \n",
    "    ax.set_title(title) \n",
    "    if ylim is not None: \n",
    "        ax.set_ylim(*ylim) \n",
    "    ax.set_xlabel('training examples') \n",
    "    ax.set_ylabel('Score') \n",
    "    ax.grid()\n",
    "    ax.plot(train_sizes,np.mean(train_scores,axis = 1),'o-',color = 'r',label = 'Training score')\n",
    "    ax.plot(train_sizes,np.mean(test_scores,axis = 1),'o-',color = 'g',label = 'Test score') \n",
    "    ax.legend(loc = 'best') \n",
    "    \n",
    "    return ax \n"
   ]
  },
  {
   "cell_type": "code",
   "execution_count": 19,
   "id": "c4c0494e",
   "metadata": {
    "ExecuteTime": {
     "end_time": "2022-07-06T02:08:20.889842Z",
     "start_time": "2022-07-06T02:08:20.664858Z"
    }
   },
   "outputs": [],
   "source": [
    "# load datasets \n",
    "digits = load_digits() \n"
   ]
  },
  {
   "cell_type": "code",
   "execution_count": 20,
   "id": "e27153fd",
   "metadata": {
    "ExecuteTime": {
     "end_time": "2022-07-06T02:08:20.899102Z",
     "start_time": "2022-07-06T02:08:20.893716Z"
    }
   },
   "outputs": [],
   "source": [
    "X,y = digits.data, digits.target "
   ]
  },
  {
   "cell_type": "code",
   "execution_count": 21,
   "id": "204835f5",
   "metadata": {
    "ExecuteTime": {
     "end_time": "2022-07-06T02:08:20.941808Z",
     "start_time": "2022-07-06T02:08:20.902844Z"
    }
   },
   "outputs": [
    {
     "data": {
      "text/plain": [
       "(1797, 64)"
      ]
     },
     "execution_count": 21,
     "metadata": {},
     "output_type": "execute_result"
    }
   ],
   "source": [
    "X.shape "
   ]
  },
  {
   "cell_type": "code",
   "execution_count": 22,
   "id": "56548184",
   "metadata": {
    "ExecuteTime": {
     "end_time": "2022-07-06T02:08:20.961275Z",
     "start_time": "2022-07-06T02:08:20.945053Z"
    }
   },
   "outputs": [],
   "source": [
    "title = ['Native Bayes','Decision Tree','SVM, RBF kernel', 'Random Forest','Logistic'] \n",
    "model = [GaussianNB(),DTC(),SVC(gamma = 0.001),  \n",
    "        RFC(n_estimators = 50),LR(C = 1,solver = 'lbfgs')] \n",
    "cv = ShuffleSplit(n_splits = 50, test_size= 0.2, random_state = 0) \n"
   ]
  },
  {
   "cell_type": "code",
   "execution_count": 23,
   "id": "0ad4c3c4",
   "metadata": {
    "ExecuteTime": {
     "end_time": "2022-07-06T02:09:03.337066Z",
     "start_time": "2022-07-06T02:08:20.963926Z"
    }
   },
   "outputs": [
    {
     "name": "stdout",
     "output_type": "stream",
     "text": [
      "Native Bayes:00:02s:934689\n",
      "Decision Tree:00:01s:439033\n",
      "SVM, RBF kernel:00:15s:361862\n",
      "Random Forest:00:12s:141084\n"
     ]
    },
    {
     "name": "stderr",
     "output_type": "stream",
     "text": [
      "/Applications/anaconda3/lib/python3.7/site-packages/sklearn/linear_model/_logistic.py:818: ConvergenceWarning: lbfgs failed to converge (status=1):\n",
      "STOP: TOTAL NO. of ITERATIONS REACHED LIMIT.\n",
      "\n",
      "Increase the number of iterations (max_iter) or scale the data as shown in:\n",
      "    https://scikit-learn.org/stable/modules/preprocessing.html\n",
      "Please also refer to the documentation for alternative solver options:\n",
      "    https://scikit-learn.org/stable/modules/linear_model.html#logistic-regression\n",
      "  extra_warning_msg=_LOGISTIC_SOLVER_CONVERGENCE_MSG,\n",
      "/Applications/anaconda3/lib/python3.7/site-packages/sklearn/linear_model/_logistic.py:818: ConvergenceWarning: lbfgs failed to converge (status=1):\n",
      "STOP: TOTAL NO. of ITERATIONS REACHED LIMIT.\n",
      "\n",
      "Increase the number of iterations (max_iter) or scale the data as shown in:\n",
      "    https://scikit-learn.org/stable/modules/preprocessing.html\n",
      "Please also refer to the documentation for alternative solver options:\n",
      "    https://scikit-learn.org/stable/modules/linear_model.html#logistic-regression\n",
      "  extra_warning_msg=_LOGISTIC_SOLVER_CONVERGENCE_MSG,\n",
      "/Applications/anaconda3/lib/python3.7/site-packages/sklearn/linear_model/_logistic.py:818: ConvergenceWarning: lbfgs failed to converge (status=1):\n",
      "STOP: TOTAL NO. of ITERATIONS REACHED LIMIT.\n",
      "\n",
      "Increase the number of iterations (max_iter) or scale the data as shown in:\n",
      "    https://scikit-learn.org/stable/modules/preprocessing.html\n",
      "Please also refer to the documentation for alternative solver options:\n",
      "    https://scikit-learn.org/stable/modules/linear_model.html#logistic-regression\n",
      "  extra_warning_msg=_LOGISTIC_SOLVER_CONVERGENCE_MSG,\n",
      "/Applications/anaconda3/lib/python3.7/site-packages/sklearn/linear_model/_logistic.py:818: ConvergenceWarning: lbfgs failed to converge (status=1):\n",
      "STOP: TOTAL NO. of ITERATIONS REACHED LIMIT.\n",
      "\n",
      "Increase the number of iterations (max_iter) or scale the data as shown in:\n",
      "    https://scikit-learn.org/stable/modules/preprocessing.html\n",
      "Please also refer to the documentation for alternative solver options:\n",
      "    https://scikit-learn.org/stable/modules/linear_model.html#logistic-regression\n",
      "  extra_warning_msg=_LOGISTIC_SOLVER_CONVERGENCE_MSG,\n",
      "/Applications/anaconda3/lib/python3.7/site-packages/sklearn/linear_model/_logistic.py:818: ConvergenceWarning: lbfgs failed to converge (status=1):\n",
      "STOP: TOTAL NO. of ITERATIONS REACHED LIMIT.\n",
      "\n",
      "Increase the number of iterations (max_iter) or scale the data as shown in:\n",
      "    https://scikit-learn.org/stable/modules/preprocessing.html\n",
      "Please also refer to the documentation for alternative solver options:\n",
      "    https://scikit-learn.org/stable/modules/linear_model.html#logistic-regression\n",
      "  extra_warning_msg=_LOGISTIC_SOLVER_CONVERGENCE_MSG,\n",
      "/Applications/anaconda3/lib/python3.7/site-packages/sklearn/linear_model/_logistic.py:818: ConvergenceWarning: lbfgs failed to converge (status=1):\n",
      "STOP: TOTAL NO. of ITERATIONS REACHED LIMIT.\n",
      "\n",
      "Increase the number of iterations (max_iter) or scale the data as shown in:\n",
      "    https://scikit-learn.org/stable/modules/preprocessing.html\n",
      "Please also refer to the documentation for alternative solver options:\n",
      "    https://scikit-learn.org/stable/modules/linear_model.html#logistic-regression\n",
      "  extra_warning_msg=_LOGISTIC_SOLVER_CONVERGENCE_MSG,\n",
      "/Applications/anaconda3/lib/python3.7/site-packages/sklearn/linear_model/_logistic.py:818: ConvergenceWarning: lbfgs failed to converge (status=1):\n",
      "STOP: TOTAL NO. of ITERATIONS REACHED LIMIT.\n",
      "\n",
      "Increase the number of iterations (max_iter) or scale the data as shown in:\n",
      "    https://scikit-learn.org/stable/modules/preprocessing.html\n",
      "Please also refer to the documentation for alternative solver options:\n",
      "    https://scikit-learn.org/stable/modules/linear_model.html#logistic-regression\n",
      "  extra_warning_msg=_LOGISTIC_SOLVER_CONVERGENCE_MSG,\n",
      "/Applications/anaconda3/lib/python3.7/site-packages/sklearn/linear_model/_logistic.py:818: ConvergenceWarning: lbfgs failed to converge (status=1):\n",
      "STOP: TOTAL NO. of ITERATIONS REACHED LIMIT.\n",
      "\n",
      "Increase the number of iterations (max_iter) or scale the data as shown in:\n",
      "    https://scikit-learn.org/stable/modules/preprocessing.html\n",
      "Please also refer to the documentation for alternative solver options:\n",
      "    https://scikit-learn.org/stable/modules/linear_model.html#logistic-regression\n",
      "  extra_warning_msg=_LOGISTIC_SOLVER_CONVERGENCE_MSG,\n",
      "/Applications/anaconda3/lib/python3.7/site-packages/sklearn/linear_model/_logistic.py:818: ConvergenceWarning: lbfgs failed to converge (status=1):\n",
      "STOP: TOTAL NO. of ITERATIONS REACHED LIMIT.\n",
      "\n",
      "Increase the number of iterations (max_iter) or scale the data as shown in:\n",
      "    https://scikit-learn.org/stable/modules/preprocessing.html\n",
      "Please also refer to the documentation for alternative solver options:\n",
      "    https://scikit-learn.org/stable/modules/linear_model.html#logistic-regression\n",
      "  extra_warning_msg=_LOGISTIC_SOLVER_CONVERGENCE_MSG,\n",
      "/Applications/anaconda3/lib/python3.7/site-packages/sklearn/linear_model/_logistic.py:818: ConvergenceWarning: lbfgs failed to converge (status=1):\n",
      "STOP: TOTAL NO. of ITERATIONS REACHED LIMIT.\n",
      "\n",
      "Increase the number of iterations (max_iter) or scale the data as shown in:\n",
      "    https://scikit-learn.org/stable/modules/preprocessing.html\n",
      "Please also refer to the documentation for alternative solver options:\n",
      "    https://scikit-learn.org/stable/modules/linear_model.html#logistic-regression\n",
      "  extra_warning_msg=_LOGISTIC_SOLVER_CONVERGENCE_MSG,\n",
      "/Applications/anaconda3/lib/python3.7/site-packages/sklearn/linear_model/_logistic.py:818: ConvergenceWarning: lbfgs failed to converge (status=1):\n",
      "STOP: TOTAL NO. of ITERATIONS REACHED LIMIT.\n",
      "\n",
      "Increase the number of iterations (max_iter) or scale the data as shown in:\n",
      "    https://scikit-learn.org/stable/modules/preprocessing.html\n",
      "Please also refer to the documentation for alternative solver options:\n",
      "    https://scikit-learn.org/stable/modules/linear_model.html#logistic-regression\n",
      "  extra_warning_msg=_LOGISTIC_SOLVER_CONVERGENCE_MSG,\n",
      "/Applications/anaconda3/lib/python3.7/site-packages/sklearn/linear_model/_logistic.py:818: ConvergenceWarning: lbfgs failed to converge (status=1):\n",
      "STOP: TOTAL NO. of ITERATIONS REACHED LIMIT.\n",
      "\n",
      "Increase the number of iterations (max_iter) or scale the data as shown in:\n",
      "    https://scikit-learn.org/stable/modules/preprocessing.html\n",
      "Please also refer to the documentation for alternative solver options:\n",
      "    https://scikit-learn.org/stable/modules/linear_model.html#logistic-regression\n",
      "  extra_warning_msg=_LOGISTIC_SOLVER_CONVERGENCE_MSG,\n",
      "/Applications/anaconda3/lib/python3.7/site-packages/sklearn/linear_model/_logistic.py:818: ConvergenceWarning: lbfgs failed to converge (status=1):\n",
      "STOP: TOTAL NO. of ITERATIONS REACHED LIMIT.\n",
      "\n",
      "Increase the number of iterations (max_iter) or scale the data as shown in:\n",
      "    https://scikit-learn.org/stable/modules/preprocessing.html\n",
      "Please also refer to the documentation for alternative solver options:\n",
      "    https://scikit-learn.org/stable/modules/linear_model.html#logistic-regression\n",
      "  extra_warning_msg=_LOGISTIC_SOLVER_CONVERGENCE_MSG,\n",
      "/Applications/anaconda3/lib/python3.7/site-packages/sklearn/linear_model/_logistic.py:818: ConvergenceWarning: lbfgs failed to converge (status=1):\n",
      "STOP: TOTAL NO. of ITERATIONS REACHED LIMIT.\n",
      "\n",
      "Increase the number of iterations (max_iter) or scale the data as shown in:\n",
      "    https://scikit-learn.org/stable/modules/preprocessing.html\n",
      "Please also refer to the documentation for alternative solver options:\n",
      "    https://scikit-learn.org/stable/modules/linear_model.html#logistic-regression\n",
      "  extra_warning_msg=_LOGISTIC_SOLVER_CONVERGENCE_MSG,\n",
      "/Applications/anaconda3/lib/python3.7/site-packages/sklearn/linear_model/_logistic.py:818: ConvergenceWarning: lbfgs failed to converge (status=1):\n",
      "STOP: TOTAL NO. of ITERATIONS REACHED LIMIT.\n",
      "\n",
      "Increase the number of iterations (max_iter) or scale the data as shown in:\n",
      "    https://scikit-learn.org/stable/modules/preprocessing.html\n",
      "Please also refer to the documentation for alternative solver options:\n",
      "    https://scikit-learn.org/stable/modules/linear_model.html#logistic-regression\n",
      "  extra_warning_msg=_LOGISTIC_SOLVER_CONVERGENCE_MSG,\n",
      "/Applications/anaconda3/lib/python3.7/site-packages/sklearn/linear_model/_logistic.py:818: ConvergenceWarning: lbfgs failed to converge (status=1):\n",
      "STOP: TOTAL NO. of ITERATIONS REACHED LIMIT.\n",
      "\n",
      "Increase the number of iterations (max_iter) or scale the data as shown in:\n",
      "    https://scikit-learn.org/stable/modules/preprocessing.html\n",
      "Please also refer to the documentation for alternative solver options:\n",
      "    https://scikit-learn.org/stable/modules/linear_model.html#logistic-regression\n",
      "  extra_warning_msg=_LOGISTIC_SOLVER_CONVERGENCE_MSG,\n",
      "/Applications/anaconda3/lib/python3.7/site-packages/sklearn/linear_model/_logistic.py:818: ConvergenceWarning: lbfgs failed to converge (status=1):\n",
      "STOP: TOTAL NO. of ITERATIONS REACHED LIMIT.\n",
      "\n",
      "Increase the number of iterations (max_iter) or scale the data as shown in:\n",
      "    https://scikit-learn.org/stable/modules/preprocessing.html\n",
      "Please also refer to the documentation for alternative solver options:\n",
      "    https://scikit-learn.org/stable/modules/linear_model.html#logistic-regression\n",
      "  extra_warning_msg=_LOGISTIC_SOLVER_CONVERGENCE_MSG,\n",
      "/Applications/anaconda3/lib/python3.7/site-packages/sklearn/linear_model/_logistic.py:818: ConvergenceWarning: lbfgs failed to converge (status=1):\n",
      "STOP: TOTAL NO. of ITERATIONS REACHED LIMIT.\n",
      "\n",
      "Increase the number of iterations (max_iter) or scale the data as shown in:\n",
      "    https://scikit-learn.org/stable/modules/preprocessing.html\n",
      "Please also refer to the documentation for alternative solver options:\n",
      "    https://scikit-learn.org/stable/modules/linear_model.html#logistic-regression\n",
      "  extra_warning_msg=_LOGISTIC_SOLVER_CONVERGENCE_MSG,\n",
      "/Applications/anaconda3/lib/python3.7/site-packages/sklearn/linear_model/_logistic.py:818: ConvergenceWarning: lbfgs failed to converge (status=1):\n",
      "STOP: TOTAL NO. of ITERATIONS REACHED LIMIT.\n",
      "\n",
      "Increase the number of iterations (max_iter) or scale the data as shown in:\n",
      "    https://scikit-learn.org/stable/modules/preprocessing.html\n",
      "Please also refer to the documentation for alternative solver options:\n",
      "    https://scikit-learn.org/stable/modules/linear_model.html#logistic-regression\n",
      "  extra_warning_msg=_LOGISTIC_SOLVER_CONVERGENCE_MSG,\n",
      "/Applications/anaconda3/lib/python3.7/site-packages/sklearn/linear_model/_logistic.py:818: ConvergenceWarning: lbfgs failed to converge (status=1):\n",
      "STOP: TOTAL NO. of ITERATIONS REACHED LIMIT.\n",
      "\n",
      "Increase the number of iterations (max_iter) or scale the data as shown in:\n",
      "    https://scikit-learn.org/stable/modules/preprocessing.html\n",
      "Please also refer to the documentation for alternative solver options:\n",
      "    https://scikit-learn.org/stable/modules/linear_model.html#logistic-regression\n",
      "  extra_warning_msg=_LOGISTIC_SOLVER_CONVERGENCE_MSG,\n",
      "/Applications/anaconda3/lib/python3.7/site-packages/sklearn/linear_model/_logistic.py:818: ConvergenceWarning: lbfgs failed to converge (status=1):\n",
      "STOP: TOTAL NO. of ITERATIONS REACHED LIMIT.\n",
      "\n",
      "Increase the number of iterations (max_iter) or scale the data as shown in:\n",
      "    https://scikit-learn.org/stable/modules/preprocessing.html\n",
      "Please also refer to the documentation for alternative solver options:\n",
      "    https://scikit-learn.org/stable/modules/linear_model.html#logistic-regression\n",
      "  extra_warning_msg=_LOGISTIC_SOLVER_CONVERGENCE_MSG,\n",
      "/Applications/anaconda3/lib/python3.7/site-packages/sklearn/linear_model/_logistic.py:818: ConvergenceWarning: lbfgs failed to converge (status=1):\n",
      "STOP: TOTAL NO. of ITERATIONS REACHED LIMIT.\n",
      "\n",
      "Increase the number of iterations (max_iter) or scale the data as shown in:\n",
      "    https://scikit-learn.org/stable/modules/preprocessing.html\n",
      "Please also refer to the documentation for alternative solver options:\n",
      "    https://scikit-learn.org/stable/modules/linear_model.html#logistic-regression\n",
      "  extra_warning_msg=_LOGISTIC_SOLVER_CONVERGENCE_MSG,\n",
      "/Applications/anaconda3/lib/python3.7/site-packages/sklearn/linear_model/_logistic.py:818: ConvergenceWarning: lbfgs failed to converge (status=1):\n",
      "STOP: TOTAL NO. of ITERATIONS REACHED LIMIT.\n",
      "\n",
      "Increase the number of iterations (max_iter) or scale the data as shown in:\n",
      "    https://scikit-learn.org/stable/modules/preprocessing.html\n",
      "Please also refer to the documentation for alternative solver options:\n",
      "    https://scikit-learn.org/stable/modules/linear_model.html#logistic-regression\n",
      "  extra_warning_msg=_LOGISTIC_SOLVER_CONVERGENCE_MSG,\n",
      "/Applications/anaconda3/lib/python3.7/site-packages/sklearn/linear_model/_logistic.py:818: ConvergenceWarning: lbfgs failed to converge (status=1):\n",
      "STOP: TOTAL NO. of ITERATIONS REACHED LIMIT.\n",
      "\n",
      "Increase the number of iterations (max_iter) or scale the data as shown in:\n",
      "    https://scikit-learn.org/stable/modules/preprocessing.html\n",
      "Please also refer to the documentation for alternative solver options:\n",
      "    https://scikit-learn.org/stable/modules/linear_model.html#logistic-regression\n",
      "  extra_warning_msg=_LOGISTIC_SOLVER_CONVERGENCE_MSG,\n",
      "/Applications/anaconda3/lib/python3.7/site-packages/sklearn/linear_model/_logistic.py:818: ConvergenceWarning: lbfgs failed to converge (status=1):\n",
      "STOP: TOTAL NO. of ITERATIONS REACHED LIMIT.\n",
      "\n",
      "Increase the number of iterations (max_iter) or scale the data as shown in:\n",
      "    https://scikit-learn.org/stable/modules/preprocessing.html\n",
      "Please also refer to the documentation for alternative solver options:\n",
      "    https://scikit-learn.org/stable/modules/linear_model.html#logistic-regression\n",
      "  extra_warning_msg=_LOGISTIC_SOLVER_CONVERGENCE_MSG,\n",
      "/Applications/anaconda3/lib/python3.7/site-packages/sklearn/linear_model/_logistic.py:818: ConvergenceWarning: lbfgs failed to converge (status=1):\n",
      "STOP: TOTAL NO. of ITERATIONS REACHED LIMIT.\n",
      "\n",
      "Increase the number of iterations (max_iter) or scale the data as shown in:\n",
      "    https://scikit-learn.org/stable/modules/preprocessing.html\n",
      "Please also refer to the documentation for alternative solver options:\n",
      "    https://scikit-learn.org/stable/modules/linear_model.html#logistic-regression\n",
      "  extra_warning_msg=_LOGISTIC_SOLVER_CONVERGENCE_MSG,\n",
      "/Applications/anaconda3/lib/python3.7/site-packages/sklearn/linear_model/_logistic.py:818: ConvergenceWarning: lbfgs failed to converge (status=1):\n",
      "STOP: TOTAL NO. of ITERATIONS REACHED LIMIT.\n",
      "\n",
      "Increase the number of iterations (max_iter) or scale the data as shown in:\n",
      "    https://scikit-learn.org/stable/modules/preprocessing.html\n",
      "Please also refer to the documentation for alternative solver options:\n",
      "    https://scikit-learn.org/stable/modules/linear_model.html#logistic-regression\n",
      "  extra_warning_msg=_LOGISTIC_SOLVER_CONVERGENCE_MSG,\n",
      "/Applications/anaconda3/lib/python3.7/site-packages/sklearn/linear_model/_logistic.py:818: ConvergenceWarning: lbfgs failed to converge (status=1):\n",
      "STOP: TOTAL NO. of ITERATIONS REACHED LIMIT.\n",
      "\n",
      "Increase the number of iterations (max_iter) or scale the data as shown in:\n",
      "    https://scikit-learn.org/stable/modules/preprocessing.html\n",
      "Please also refer to the documentation for alternative solver options:\n",
      "    https://scikit-learn.org/stable/modules/linear_model.html#logistic-regression\n",
      "  extra_warning_msg=_LOGISTIC_SOLVER_CONVERGENCE_MSG,\n",
      "/Applications/anaconda3/lib/python3.7/site-packages/sklearn/linear_model/_logistic.py:818: ConvergenceWarning: lbfgs failed to converge (status=1):\n",
      "STOP: TOTAL NO. of ITERATIONS REACHED LIMIT.\n",
      "\n",
      "Increase the number of iterations (max_iter) or scale the data as shown in:\n",
      "    https://scikit-learn.org/stable/modules/preprocessing.html\n",
      "Please also refer to the documentation for alternative solver options:\n",
      "    https://scikit-learn.org/stable/modules/linear_model.html#logistic-regression\n",
      "  extra_warning_msg=_LOGISTIC_SOLVER_CONVERGENCE_MSG,\n",
      "/Applications/anaconda3/lib/python3.7/site-packages/sklearn/linear_model/_logistic.py:818: ConvergenceWarning: lbfgs failed to converge (status=1):\n",
      "STOP: TOTAL NO. of ITERATIONS REACHED LIMIT.\n",
      "\n",
      "Increase the number of iterations (max_iter) or scale the data as shown in:\n",
      "    https://scikit-learn.org/stable/modules/preprocessing.html\n",
      "Please also refer to the documentation for alternative solver options:\n",
      "    https://scikit-learn.org/stable/modules/linear_model.html#logistic-regression\n",
      "  extra_warning_msg=_LOGISTIC_SOLVER_CONVERGENCE_MSG,\n",
      "/Applications/anaconda3/lib/python3.7/site-packages/sklearn/linear_model/_logistic.py:818: ConvergenceWarning: lbfgs failed to converge (status=1):\n",
      "STOP: TOTAL NO. of ITERATIONS REACHED LIMIT.\n",
      "\n",
      "Increase the number of iterations (max_iter) or scale the data as shown in:\n",
      "    https://scikit-learn.org/stable/modules/preprocessing.html\n",
      "Please also refer to the documentation for alternative solver options:\n",
      "    https://scikit-learn.org/stable/modules/linear_model.html#logistic-regression\n",
      "  extra_warning_msg=_LOGISTIC_SOLVER_CONVERGENCE_MSG,\n",
      "/Applications/anaconda3/lib/python3.7/site-packages/sklearn/linear_model/_logistic.py:818: ConvergenceWarning: lbfgs failed to converge (status=1):\n",
      "STOP: TOTAL NO. of ITERATIONS REACHED LIMIT.\n",
      "\n",
      "Increase the number of iterations (max_iter) or scale the data as shown in:\n",
      "    https://scikit-learn.org/stable/modules/preprocessing.html\n",
      "Please also refer to the documentation for alternative solver options:\n",
      "    https://scikit-learn.org/stable/modules/linear_model.html#logistic-regression\n",
      "  extra_warning_msg=_LOGISTIC_SOLVER_CONVERGENCE_MSG,\n",
      "/Applications/anaconda3/lib/python3.7/site-packages/sklearn/linear_model/_logistic.py:818: ConvergenceWarning: lbfgs failed to converge (status=1):\n",
      "STOP: TOTAL NO. of ITERATIONS REACHED LIMIT.\n",
      "\n",
      "Increase the number of iterations (max_iter) or scale the data as shown in:\n",
      "    https://scikit-learn.org/stable/modules/preprocessing.html\n",
      "Please also refer to the documentation for alternative solver options:\n",
      "    https://scikit-learn.org/stable/modules/linear_model.html#logistic-regression\n",
      "  extra_warning_msg=_LOGISTIC_SOLVER_CONVERGENCE_MSG,\n",
      "/Applications/anaconda3/lib/python3.7/site-packages/sklearn/linear_model/_logistic.py:818: ConvergenceWarning: lbfgs failed to converge (status=1):\n",
      "STOP: TOTAL NO. of ITERATIONS REACHED LIMIT.\n",
      "\n",
      "Increase the number of iterations (max_iter) or scale the data as shown in:\n",
      "    https://scikit-learn.org/stable/modules/preprocessing.html\n",
      "Please also refer to the documentation for alternative solver options:\n",
      "    https://scikit-learn.org/stable/modules/linear_model.html#logistic-regression\n",
      "  extra_warning_msg=_LOGISTIC_SOLVER_CONVERGENCE_MSG,\n",
      "/Applications/anaconda3/lib/python3.7/site-packages/sklearn/linear_model/_logistic.py:818: ConvergenceWarning: lbfgs failed to converge (status=1):\n",
      "STOP: TOTAL NO. of ITERATIONS REACHED LIMIT.\n",
      "\n",
      "Increase the number of iterations (max_iter) or scale the data as shown in:\n",
      "    https://scikit-learn.org/stable/modules/preprocessing.html\n",
      "Please also refer to the documentation for alternative solver options:\n",
      "    https://scikit-learn.org/stable/modules/linear_model.html#logistic-regression\n",
      "  extra_warning_msg=_LOGISTIC_SOLVER_CONVERGENCE_MSG,\n",
      "/Applications/anaconda3/lib/python3.7/site-packages/sklearn/linear_model/_logistic.py:818: ConvergenceWarning: lbfgs failed to converge (status=1):\n",
      "STOP: TOTAL NO. of ITERATIONS REACHED LIMIT.\n",
      "\n",
      "Increase the number of iterations (max_iter) or scale the data as shown in:\n",
      "    https://scikit-learn.org/stable/modules/preprocessing.html\n",
      "Please also refer to the documentation for alternative solver options:\n",
      "    https://scikit-learn.org/stable/modules/linear_model.html#logistic-regression\n",
      "  extra_warning_msg=_LOGISTIC_SOLVER_CONVERGENCE_MSG,\n",
      "/Applications/anaconda3/lib/python3.7/site-packages/sklearn/linear_model/_logistic.py:818: ConvergenceWarning: lbfgs failed to converge (status=1):\n",
      "STOP: TOTAL NO. of ITERATIONS REACHED LIMIT.\n",
      "\n",
      "Increase the number of iterations (max_iter) or scale the data as shown in:\n",
      "    https://scikit-learn.org/stable/modules/preprocessing.html\n",
      "Please also refer to the documentation for alternative solver options:\n",
      "    https://scikit-learn.org/stable/modules/linear_model.html#logistic-regression\n",
      "  extra_warning_msg=_LOGISTIC_SOLVER_CONVERGENCE_MSG,\n",
      "/Applications/anaconda3/lib/python3.7/site-packages/sklearn/linear_model/_logistic.py:818: ConvergenceWarning: lbfgs failed to converge (status=1):\n",
      "STOP: TOTAL NO. of ITERATIONS REACHED LIMIT.\n",
      "\n",
      "Increase the number of iterations (max_iter) or scale the data as shown in:\n",
      "    https://scikit-learn.org/stable/modules/preprocessing.html\n",
      "Please also refer to the documentation for alternative solver options:\n",
      "    https://scikit-learn.org/stable/modules/linear_model.html#logistic-regression\n",
      "  extra_warning_msg=_LOGISTIC_SOLVER_CONVERGENCE_MSG,\n",
      "/Applications/anaconda3/lib/python3.7/site-packages/sklearn/linear_model/_logistic.py:818: ConvergenceWarning: lbfgs failed to converge (status=1):\n",
      "STOP: TOTAL NO. of ITERATIONS REACHED LIMIT.\n",
      "\n",
      "Increase the number of iterations (max_iter) or scale the data as shown in:\n",
      "    https://scikit-learn.org/stable/modules/preprocessing.html\n",
      "Please also refer to the documentation for alternative solver options:\n",
      "    https://scikit-learn.org/stable/modules/linear_model.html#logistic-regression\n",
      "  extra_warning_msg=_LOGISTIC_SOLVER_CONVERGENCE_MSG,\n",
      "/Applications/anaconda3/lib/python3.7/site-packages/sklearn/linear_model/_logistic.py:818: ConvergenceWarning: lbfgs failed to converge (status=1):\n",
      "STOP: TOTAL NO. of ITERATIONS REACHED LIMIT.\n",
      "\n",
      "Increase the number of iterations (max_iter) or scale the data as shown in:\n",
      "    https://scikit-learn.org/stable/modules/preprocessing.html\n",
      "Please also refer to the documentation for alternative solver options:\n",
      "    https://scikit-learn.org/stable/modules/linear_model.html#logistic-regression\n",
      "  extra_warning_msg=_LOGISTIC_SOLVER_CONVERGENCE_MSG,\n",
      "/Applications/anaconda3/lib/python3.7/site-packages/sklearn/linear_model/_logistic.py:818: ConvergenceWarning: lbfgs failed to converge (status=1):\n",
      "STOP: TOTAL NO. of ITERATIONS REACHED LIMIT.\n",
      "\n",
      "Increase the number of iterations (max_iter) or scale the data as shown in:\n",
      "    https://scikit-learn.org/stable/modules/preprocessing.html\n",
      "Please also refer to the documentation for alternative solver options:\n",
      "    https://scikit-learn.org/stable/modules/linear_model.html#logistic-regression\n",
      "  extra_warning_msg=_LOGISTIC_SOLVER_CONVERGENCE_MSG,\n",
      "/Applications/anaconda3/lib/python3.7/site-packages/sklearn/linear_model/_logistic.py:818: ConvergenceWarning: lbfgs failed to converge (status=1):\n",
      "STOP: TOTAL NO. of ITERATIONS REACHED LIMIT.\n",
      "\n",
      "Increase the number of iterations (max_iter) or scale the data as shown in:\n",
      "    https://scikit-learn.org/stable/modules/preprocessing.html\n",
      "Please also refer to the documentation for alternative solver options:\n",
      "    https://scikit-learn.org/stable/modules/linear_model.html#logistic-regression\n",
      "  extra_warning_msg=_LOGISTIC_SOLVER_CONVERGENCE_MSG,\n",
      "/Applications/anaconda3/lib/python3.7/site-packages/sklearn/linear_model/_logistic.py:818: ConvergenceWarning: lbfgs failed to converge (status=1):\n",
      "STOP: TOTAL NO. of ITERATIONS REACHED LIMIT.\n",
      "\n",
      "Increase the number of iterations (max_iter) or scale the data as shown in:\n",
      "    https://scikit-learn.org/stable/modules/preprocessing.html\n",
      "Please also refer to the documentation for alternative solver options:\n",
      "    https://scikit-learn.org/stable/modules/linear_model.html#logistic-regression\n",
      "  extra_warning_msg=_LOGISTIC_SOLVER_CONVERGENCE_MSG,\n",
      "/Applications/anaconda3/lib/python3.7/site-packages/sklearn/linear_model/_logistic.py:818: ConvergenceWarning: lbfgs failed to converge (status=1):\n",
      "STOP: TOTAL NO. of ITERATIONS REACHED LIMIT.\n",
      "\n",
      "Increase the number of iterations (max_iter) or scale the data as shown in:\n",
      "    https://scikit-learn.org/stable/modules/preprocessing.html\n",
      "Please also refer to the documentation for alternative solver options:\n",
      "    https://scikit-learn.org/stable/modules/linear_model.html#logistic-regression\n",
      "  extra_warning_msg=_LOGISTIC_SOLVER_CONVERGENCE_MSG,\n",
      "/Applications/anaconda3/lib/python3.7/site-packages/sklearn/linear_model/_logistic.py:818: ConvergenceWarning: lbfgs failed to converge (status=1):\n",
      "STOP: TOTAL NO. of ITERATIONS REACHED LIMIT.\n",
      "\n",
      "Increase the number of iterations (max_iter) or scale the data as shown in:\n",
      "    https://scikit-learn.org/stable/modules/preprocessing.html\n",
      "Please also refer to the documentation for alternative solver options:\n",
      "    https://scikit-learn.org/stable/modules/linear_model.html#logistic-regression\n",
      "  extra_warning_msg=_LOGISTIC_SOLVER_CONVERGENCE_MSG,\n",
      "/Applications/anaconda3/lib/python3.7/site-packages/sklearn/linear_model/_logistic.py:818: ConvergenceWarning: lbfgs failed to converge (status=1):\n",
      "STOP: TOTAL NO. of ITERATIONS REACHED LIMIT.\n",
      "\n",
      "Increase the number of iterations (max_iter) or scale the data as shown in:\n",
      "    https://scikit-learn.org/stable/modules/preprocessing.html\n",
      "Please also refer to the documentation for alternative solver options:\n",
      "    https://scikit-learn.org/stable/modules/linear_model.html#logistic-regression\n",
      "  extra_warning_msg=_LOGISTIC_SOLVER_CONVERGENCE_MSG,\n",
      "/Applications/anaconda3/lib/python3.7/site-packages/sklearn/linear_model/_logistic.py:818: ConvergenceWarning: lbfgs failed to converge (status=1):\n",
      "STOP: TOTAL NO. of ITERATIONS REACHED LIMIT.\n",
      "\n",
      "Increase the number of iterations (max_iter) or scale the data as shown in:\n",
      "    https://scikit-learn.org/stable/modules/preprocessing.html\n",
      "Please also refer to the documentation for alternative solver options:\n",
      "    https://scikit-learn.org/stable/modules/linear_model.html#logistic-regression\n",
      "  extra_warning_msg=_LOGISTIC_SOLVER_CONVERGENCE_MSG,\n",
      "/Applications/anaconda3/lib/python3.7/site-packages/sklearn/linear_model/_logistic.py:818: ConvergenceWarning: lbfgs failed to converge (status=1):\n",
      "STOP: TOTAL NO. of ITERATIONS REACHED LIMIT.\n",
      "\n",
      "Increase the number of iterations (max_iter) or scale the data as shown in:\n",
      "    https://scikit-learn.org/stable/modules/preprocessing.html\n",
      "Please also refer to the documentation for alternative solver options:\n",
      "    https://scikit-learn.org/stable/modules/linear_model.html#logistic-regression\n",
      "  extra_warning_msg=_LOGISTIC_SOLVER_CONVERGENCE_MSG,\n",
      "/Applications/anaconda3/lib/python3.7/site-packages/sklearn/linear_model/_logistic.py:818: ConvergenceWarning: lbfgs failed to converge (status=1):\n",
      "STOP: TOTAL NO. of ITERATIONS REACHED LIMIT.\n",
      "\n",
      "Increase the number of iterations (max_iter) or scale the data as shown in:\n",
      "    https://scikit-learn.org/stable/modules/preprocessing.html\n",
      "Please also refer to the documentation for alternative solver options:\n",
      "    https://scikit-learn.org/stable/modules/linear_model.html#logistic-regression\n",
      "  extra_warning_msg=_LOGISTIC_SOLVER_CONVERGENCE_MSG,\n",
      "/Applications/anaconda3/lib/python3.7/site-packages/sklearn/linear_model/_logistic.py:818: ConvergenceWarning: lbfgs failed to converge (status=1):\n",
      "STOP: TOTAL NO. of ITERATIONS REACHED LIMIT.\n",
      "\n",
      "Increase the number of iterations (max_iter) or scale the data as shown in:\n",
      "    https://scikit-learn.org/stable/modules/preprocessing.html\n",
      "Please also refer to the documentation for alternative solver options:\n",
      "    https://scikit-learn.org/stable/modules/linear_model.html#logistic-regression\n",
      "  extra_warning_msg=_LOGISTIC_SOLVER_CONVERGENCE_MSG,\n",
      "/Applications/anaconda3/lib/python3.7/site-packages/sklearn/linear_model/_logistic.py:818: ConvergenceWarning: lbfgs failed to converge (status=1):\n",
      "STOP: TOTAL NO. of ITERATIONS REACHED LIMIT.\n",
      "\n",
      "Increase the number of iterations (max_iter) or scale the data as shown in:\n",
      "    https://scikit-learn.org/stable/modules/preprocessing.html\n",
      "Please also refer to the documentation for alternative solver options:\n",
      "    https://scikit-learn.org/stable/modules/linear_model.html#logistic-regression\n",
      "  extra_warning_msg=_LOGISTIC_SOLVER_CONVERGENCE_MSG,\n",
      "/Applications/anaconda3/lib/python3.7/site-packages/sklearn/linear_model/_logistic.py:818: ConvergenceWarning: lbfgs failed to converge (status=1):\n",
      "STOP: TOTAL NO. of ITERATIONS REACHED LIMIT.\n",
      "\n",
      "Increase the number of iterations (max_iter) or scale the data as shown in:\n",
      "    https://scikit-learn.org/stable/modules/preprocessing.html\n",
      "Please also refer to the documentation for alternative solver options:\n",
      "    https://scikit-learn.org/stable/modules/linear_model.html#logistic-regression\n",
      "  extra_warning_msg=_LOGISTIC_SOLVER_CONVERGENCE_MSG,\n",
      "/Applications/anaconda3/lib/python3.7/site-packages/sklearn/linear_model/_logistic.py:818: ConvergenceWarning: lbfgs failed to converge (status=1):\n",
      "STOP: TOTAL NO. of ITERATIONS REACHED LIMIT.\n",
      "\n",
      "Increase the number of iterations (max_iter) or scale the data as shown in:\n",
      "    https://scikit-learn.org/stable/modules/preprocessing.html\n",
      "Please also refer to the documentation for alternative solver options:\n",
      "    https://scikit-learn.org/stable/modules/linear_model.html#logistic-regression\n",
      "  extra_warning_msg=_LOGISTIC_SOLVER_CONVERGENCE_MSG,\n",
      "/Applications/anaconda3/lib/python3.7/site-packages/sklearn/linear_model/_logistic.py:818: ConvergenceWarning: lbfgs failed to converge (status=1):\n",
      "STOP: TOTAL NO. of ITERATIONS REACHED LIMIT.\n",
      "\n",
      "Increase the number of iterations (max_iter) or scale the data as shown in:\n",
      "    https://scikit-learn.org/stable/modules/preprocessing.html\n",
      "Please also refer to the documentation for alternative solver options:\n",
      "    https://scikit-learn.org/stable/modules/linear_model.html#logistic-regression\n",
      "  extra_warning_msg=_LOGISTIC_SOLVER_CONVERGENCE_MSG,\n",
      "/Applications/anaconda3/lib/python3.7/site-packages/sklearn/linear_model/_logistic.py:818: ConvergenceWarning: lbfgs failed to converge (status=1):\n",
      "STOP: TOTAL NO. of ITERATIONS REACHED LIMIT.\n",
      "\n",
      "Increase the number of iterations (max_iter) or scale the data as shown in:\n",
      "    https://scikit-learn.org/stable/modules/preprocessing.html\n",
      "Please also refer to the documentation for alternative solver options:\n",
      "    https://scikit-learn.org/stable/modules/linear_model.html#logistic-regression\n",
      "  extra_warning_msg=_LOGISTIC_SOLVER_CONVERGENCE_MSG,\n",
      "/Applications/anaconda3/lib/python3.7/site-packages/sklearn/linear_model/_logistic.py:818: ConvergenceWarning: lbfgs failed to converge (status=1):\n",
      "STOP: TOTAL NO. of ITERATIONS REACHED LIMIT.\n",
      "\n",
      "Increase the number of iterations (max_iter) or scale the data as shown in:\n",
      "    https://scikit-learn.org/stable/modules/preprocessing.html\n",
      "Please also refer to the documentation for alternative solver options:\n",
      "    https://scikit-learn.org/stable/modules/linear_model.html#logistic-regression\n",
      "  extra_warning_msg=_LOGISTIC_SOLVER_CONVERGENCE_MSG,\n",
      "/Applications/anaconda3/lib/python3.7/site-packages/sklearn/linear_model/_logistic.py:818: ConvergenceWarning: lbfgs failed to converge (status=1):\n",
      "STOP: TOTAL NO. of ITERATIONS REACHED LIMIT.\n",
      "\n",
      "Increase the number of iterations (max_iter) or scale the data as shown in:\n",
      "    https://scikit-learn.org/stable/modules/preprocessing.html\n",
      "Please also refer to the documentation for alternative solver options:\n",
      "    https://scikit-learn.org/stable/modules/linear_model.html#logistic-regression\n",
      "  extra_warning_msg=_LOGISTIC_SOLVER_CONVERGENCE_MSG,\n",
      "/Applications/anaconda3/lib/python3.7/site-packages/sklearn/linear_model/_logistic.py:818: ConvergenceWarning: lbfgs failed to converge (status=1):\n",
      "STOP: TOTAL NO. of ITERATIONS REACHED LIMIT.\n",
      "\n",
      "Increase the number of iterations (max_iter) or scale the data as shown in:\n",
      "    https://scikit-learn.org/stable/modules/preprocessing.html\n",
      "Please also refer to the documentation for alternative solver options:\n",
      "    https://scikit-learn.org/stable/modules/linear_model.html#logistic-regression\n",
      "  extra_warning_msg=_LOGISTIC_SOLVER_CONVERGENCE_MSG,\n",
      "/Applications/anaconda3/lib/python3.7/site-packages/sklearn/linear_model/_logistic.py:818: ConvergenceWarning: lbfgs failed to converge (status=1):\n",
      "STOP: TOTAL NO. of ITERATIONS REACHED LIMIT.\n",
      "\n",
      "Increase the number of iterations (max_iter) or scale the data as shown in:\n",
      "    https://scikit-learn.org/stable/modules/preprocessing.html\n",
      "Please also refer to the documentation for alternative solver options:\n",
      "    https://scikit-learn.org/stable/modules/linear_model.html#logistic-regression\n",
      "  extra_warning_msg=_LOGISTIC_SOLVER_CONVERGENCE_MSG,\n",
      "/Applications/anaconda3/lib/python3.7/site-packages/sklearn/linear_model/_logistic.py:818: ConvergenceWarning: lbfgs failed to converge (status=1):\n",
      "STOP: TOTAL NO. of ITERATIONS REACHED LIMIT.\n",
      "\n",
      "Increase the number of iterations (max_iter) or scale the data as shown in:\n",
      "    https://scikit-learn.org/stable/modules/preprocessing.html\n",
      "Please also refer to the documentation for alternative solver options:\n",
      "    https://scikit-learn.org/stable/modules/linear_model.html#logistic-regression\n",
      "  extra_warning_msg=_LOGISTIC_SOLVER_CONVERGENCE_MSG,\n",
      "/Applications/anaconda3/lib/python3.7/site-packages/sklearn/linear_model/_logistic.py:818: ConvergenceWarning: lbfgs failed to converge (status=1):\n",
      "STOP: TOTAL NO. of ITERATIONS REACHED LIMIT.\n",
      "\n",
      "Increase the number of iterations (max_iter) or scale the data as shown in:\n",
      "    https://scikit-learn.org/stable/modules/preprocessing.html\n",
      "Please also refer to the documentation for alternative solver options:\n",
      "    https://scikit-learn.org/stable/modules/linear_model.html#logistic-regression\n",
      "  extra_warning_msg=_LOGISTIC_SOLVER_CONVERGENCE_MSG,\n",
      "/Applications/anaconda3/lib/python3.7/site-packages/sklearn/linear_model/_logistic.py:818: ConvergenceWarning: lbfgs failed to converge (status=1):\n",
      "STOP: TOTAL NO. of ITERATIONS REACHED LIMIT.\n",
      "\n",
      "Increase the number of iterations (max_iter) or scale the data as shown in:\n",
      "    https://scikit-learn.org/stable/modules/preprocessing.html\n",
      "Please also refer to the documentation for alternative solver options:\n",
      "    https://scikit-learn.org/stable/modules/linear_model.html#logistic-regression\n",
      "  extra_warning_msg=_LOGISTIC_SOLVER_CONVERGENCE_MSG,\n",
      "/Applications/anaconda3/lib/python3.7/site-packages/sklearn/linear_model/_logistic.py:818: ConvergenceWarning: lbfgs failed to converge (status=1):\n",
      "STOP: TOTAL NO. of ITERATIONS REACHED LIMIT.\n",
      "\n",
      "Increase the number of iterations (max_iter) or scale the data as shown in:\n",
      "    https://scikit-learn.org/stable/modules/preprocessing.html\n",
      "Please also refer to the documentation for alternative solver options:\n",
      "    https://scikit-learn.org/stable/modules/linear_model.html#logistic-regression\n",
      "  extra_warning_msg=_LOGISTIC_SOLVER_CONVERGENCE_MSG,\n",
      "/Applications/anaconda3/lib/python3.7/site-packages/sklearn/linear_model/_logistic.py:818: ConvergenceWarning: lbfgs failed to converge (status=1):\n",
      "STOP: TOTAL NO. of ITERATIONS REACHED LIMIT.\n",
      "\n",
      "Increase the number of iterations (max_iter) or scale the data as shown in:\n",
      "    https://scikit-learn.org/stable/modules/preprocessing.html\n",
      "Please also refer to the documentation for alternative solver options:\n",
      "    https://scikit-learn.org/stable/modules/linear_model.html#logistic-regression\n",
      "  extra_warning_msg=_LOGISTIC_SOLVER_CONVERGENCE_MSG,\n"
     ]
    },
    {
     "name": "stderr",
     "output_type": "stream",
     "text": [
      "/Applications/anaconda3/lib/python3.7/site-packages/sklearn/linear_model/_logistic.py:818: ConvergenceWarning: lbfgs failed to converge (status=1):\n",
      "STOP: TOTAL NO. of ITERATIONS REACHED LIMIT.\n",
      "\n",
      "Increase the number of iterations (max_iter) or scale the data as shown in:\n",
      "    https://scikit-learn.org/stable/modules/preprocessing.html\n",
      "Please also refer to the documentation for alternative solver options:\n",
      "    https://scikit-learn.org/stable/modules/linear_model.html#logistic-regression\n",
      "  extra_warning_msg=_LOGISTIC_SOLVER_CONVERGENCE_MSG,\n",
      "/Applications/anaconda3/lib/python3.7/site-packages/sklearn/linear_model/_logistic.py:818: ConvergenceWarning: lbfgs failed to converge (status=1):\n",
      "STOP: TOTAL NO. of ITERATIONS REACHED LIMIT.\n",
      "\n",
      "Increase the number of iterations (max_iter) or scale the data as shown in:\n",
      "    https://scikit-learn.org/stable/modules/preprocessing.html\n",
      "Please also refer to the documentation for alternative solver options:\n",
      "    https://scikit-learn.org/stable/modules/linear_model.html#logistic-regression\n",
      "  extra_warning_msg=_LOGISTIC_SOLVER_CONVERGENCE_MSG,\n",
      "/Applications/anaconda3/lib/python3.7/site-packages/sklearn/linear_model/_logistic.py:818: ConvergenceWarning: lbfgs failed to converge (status=1):\n",
      "STOP: TOTAL NO. of ITERATIONS REACHED LIMIT.\n",
      "\n",
      "Increase the number of iterations (max_iter) or scale the data as shown in:\n",
      "    https://scikit-learn.org/stable/modules/preprocessing.html\n",
      "Please also refer to the documentation for alternative solver options:\n",
      "    https://scikit-learn.org/stable/modules/linear_model.html#logistic-regression\n",
      "  extra_warning_msg=_LOGISTIC_SOLVER_CONVERGENCE_MSG,\n",
      "/Applications/anaconda3/lib/python3.7/site-packages/sklearn/linear_model/_logistic.py:818: ConvergenceWarning: lbfgs failed to converge (status=1):\n",
      "STOP: TOTAL NO. of ITERATIONS REACHED LIMIT.\n",
      "\n",
      "Increase the number of iterations (max_iter) or scale the data as shown in:\n",
      "    https://scikit-learn.org/stable/modules/preprocessing.html\n",
      "Please also refer to the documentation for alternative solver options:\n",
      "    https://scikit-learn.org/stable/modules/linear_model.html#logistic-regression\n",
      "  extra_warning_msg=_LOGISTIC_SOLVER_CONVERGENCE_MSG,\n",
      "/Applications/anaconda3/lib/python3.7/site-packages/sklearn/linear_model/_logistic.py:818: ConvergenceWarning: lbfgs failed to converge (status=1):\n",
      "STOP: TOTAL NO. of ITERATIONS REACHED LIMIT.\n",
      "\n",
      "Increase the number of iterations (max_iter) or scale the data as shown in:\n",
      "    https://scikit-learn.org/stable/modules/preprocessing.html\n",
      "Please also refer to the documentation for alternative solver options:\n",
      "    https://scikit-learn.org/stable/modules/linear_model.html#logistic-regression\n",
      "  extra_warning_msg=_LOGISTIC_SOLVER_CONVERGENCE_MSG,\n",
      "/Applications/anaconda3/lib/python3.7/site-packages/sklearn/linear_model/_logistic.py:818: ConvergenceWarning: lbfgs failed to converge (status=1):\n",
      "STOP: TOTAL NO. of ITERATIONS REACHED LIMIT.\n",
      "\n",
      "Increase the number of iterations (max_iter) or scale the data as shown in:\n",
      "    https://scikit-learn.org/stable/modules/preprocessing.html\n",
      "Please also refer to the documentation for alternative solver options:\n",
      "    https://scikit-learn.org/stable/modules/linear_model.html#logistic-regression\n",
      "  extra_warning_msg=_LOGISTIC_SOLVER_CONVERGENCE_MSG,\n",
      "/Applications/anaconda3/lib/python3.7/site-packages/sklearn/linear_model/_logistic.py:818: ConvergenceWarning: lbfgs failed to converge (status=1):\n",
      "STOP: TOTAL NO. of ITERATIONS REACHED LIMIT.\n",
      "\n",
      "Increase the number of iterations (max_iter) or scale the data as shown in:\n",
      "    https://scikit-learn.org/stable/modules/preprocessing.html\n",
      "Please also refer to the documentation for alternative solver options:\n",
      "    https://scikit-learn.org/stable/modules/linear_model.html#logistic-regression\n",
      "  extra_warning_msg=_LOGISTIC_SOLVER_CONVERGENCE_MSG,\n",
      "/Applications/anaconda3/lib/python3.7/site-packages/sklearn/linear_model/_logistic.py:818: ConvergenceWarning: lbfgs failed to converge (status=1):\n",
      "STOP: TOTAL NO. of ITERATIONS REACHED LIMIT.\n",
      "\n",
      "Increase the number of iterations (max_iter) or scale the data as shown in:\n",
      "    https://scikit-learn.org/stable/modules/preprocessing.html\n",
      "Please also refer to the documentation for alternative solver options:\n",
      "    https://scikit-learn.org/stable/modules/linear_model.html#logistic-regression\n",
      "  extra_warning_msg=_LOGISTIC_SOLVER_CONVERGENCE_MSG,\n",
      "/Applications/anaconda3/lib/python3.7/site-packages/sklearn/linear_model/_logistic.py:818: ConvergenceWarning: lbfgs failed to converge (status=1):\n",
      "STOP: TOTAL NO. of ITERATIONS REACHED LIMIT.\n",
      "\n",
      "Increase the number of iterations (max_iter) or scale the data as shown in:\n",
      "    https://scikit-learn.org/stable/modules/preprocessing.html\n",
      "Please also refer to the documentation for alternative solver options:\n",
      "    https://scikit-learn.org/stable/modules/linear_model.html#logistic-regression\n",
      "  extra_warning_msg=_LOGISTIC_SOLVER_CONVERGENCE_MSG,\n",
      "/Applications/anaconda3/lib/python3.7/site-packages/sklearn/linear_model/_logistic.py:818: ConvergenceWarning: lbfgs failed to converge (status=1):\n",
      "STOP: TOTAL NO. of ITERATIONS REACHED LIMIT.\n",
      "\n",
      "Increase the number of iterations (max_iter) or scale the data as shown in:\n",
      "    https://scikit-learn.org/stable/modules/preprocessing.html\n",
      "Please also refer to the documentation for alternative solver options:\n",
      "    https://scikit-learn.org/stable/modules/linear_model.html#logistic-regression\n",
      "  extra_warning_msg=_LOGISTIC_SOLVER_CONVERGENCE_MSG,\n",
      "/Applications/anaconda3/lib/python3.7/site-packages/sklearn/linear_model/_logistic.py:818: ConvergenceWarning: lbfgs failed to converge (status=1):\n",
      "STOP: TOTAL NO. of ITERATIONS REACHED LIMIT.\n",
      "\n",
      "Increase the number of iterations (max_iter) or scale the data as shown in:\n",
      "    https://scikit-learn.org/stable/modules/preprocessing.html\n",
      "Please also refer to the documentation for alternative solver options:\n",
      "    https://scikit-learn.org/stable/modules/linear_model.html#logistic-regression\n",
      "  extra_warning_msg=_LOGISTIC_SOLVER_CONVERGENCE_MSG,\n",
      "/Applications/anaconda3/lib/python3.7/site-packages/sklearn/linear_model/_logistic.py:818: ConvergenceWarning: lbfgs failed to converge (status=1):\n",
      "STOP: TOTAL NO. of ITERATIONS REACHED LIMIT.\n",
      "\n",
      "Increase the number of iterations (max_iter) or scale the data as shown in:\n",
      "    https://scikit-learn.org/stable/modules/preprocessing.html\n",
      "Please also refer to the documentation for alternative solver options:\n",
      "    https://scikit-learn.org/stable/modules/linear_model.html#logistic-regression\n",
      "  extra_warning_msg=_LOGISTIC_SOLVER_CONVERGENCE_MSG,\n",
      "/Applications/anaconda3/lib/python3.7/site-packages/sklearn/linear_model/_logistic.py:818: ConvergenceWarning: lbfgs failed to converge (status=1):\n",
      "STOP: TOTAL NO. of ITERATIONS REACHED LIMIT.\n",
      "\n",
      "Increase the number of iterations (max_iter) or scale the data as shown in:\n",
      "    https://scikit-learn.org/stable/modules/preprocessing.html\n",
      "Please also refer to the documentation for alternative solver options:\n",
      "    https://scikit-learn.org/stable/modules/linear_model.html#logistic-regression\n",
      "  extra_warning_msg=_LOGISTIC_SOLVER_CONVERGENCE_MSG,\n",
      "/Applications/anaconda3/lib/python3.7/site-packages/sklearn/linear_model/_logistic.py:818: ConvergenceWarning: lbfgs failed to converge (status=1):\n",
      "STOP: TOTAL NO. of ITERATIONS REACHED LIMIT.\n",
      "\n",
      "Increase the number of iterations (max_iter) or scale the data as shown in:\n",
      "    https://scikit-learn.org/stable/modules/preprocessing.html\n",
      "Please also refer to the documentation for alternative solver options:\n",
      "    https://scikit-learn.org/stable/modules/linear_model.html#logistic-regression\n",
      "  extra_warning_msg=_LOGISTIC_SOLVER_CONVERGENCE_MSG,\n",
      "/Applications/anaconda3/lib/python3.7/site-packages/sklearn/linear_model/_logistic.py:818: ConvergenceWarning: lbfgs failed to converge (status=1):\n",
      "STOP: TOTAL NO. of ITERATIONS REACHED LIMIT.\n",
      "\n",
      "Increase the number of iterations (max_iter) or scale the data as shown in:\n",
      "    https://scikit-learn.org/stable/modules/preprocessing.html\n",
      "Please also refer to the documentation for alternative solver options:\n",
      "    https://scikit-learn.org/stable/modules/linear_model.html#logistic-regression\n",
      "  extra_warning_msg=_LOGISTIC_SOLVER_CONVERGENCE_MSG,\n",
      "/Applications/anaconda3/lib/python3.7/site-packages/sklearn/linear_model/_logistic.py:818: ConvergenceWarning: lbfgs failed to converge (status=1):\n",
      "STOP: TOTAL NO. of ITERATIONS REACHED LIMIT.\n",
      "\n",
      "Increase the number of iterations (max_iter) or scale the data as shown in:\n",
      "    https://scikit-learn.org/stable/modules/preprocessing.html\n",
      "Please also refer to the documentation for alternative solver options:\n",
      "    https://scikit-learn.org/stable/modules/linear_model.html#logistic-regression\n",
      "  extra_warning_msg=_LOGISTIC_SOLVER_CONVERGENCE_MSG,\n",
      "/Applications/anaconda3/lib/python3.7/site-packages/sklearn/linear_model/_logistic.py:818: ConvergenceWarning: lbfgs failed to converge (status=1):\n",
      "STOP: TOTAL NO. of ITERATIONS REACHED LIMIT.\n",
      "\n",
      "Increase the number of iterations (max_iter) or scale the data as shown in:\n",
      "    https://scikit-learn.org/stable/modules/preprocessing.html\n",
      "Please also refer to the documentation for alternative solver options:\n",
      "    https://scikit-learn.org/stable/modules/linear_model.html#logistic-regression\n",
      "  extra_warning_msg=_LOGISTIC_SOLVER_CONVERGENCE_MSG,\n",
      "/Applications/anaconda3/lib/python3.7/site-packages/sklearn/linear_model/_logistic.py:818: ConvergenceWarning: lbfgs failed to converge (status=1):\n",
      "STOP: TOTAL NO. of ITERATIONS REACHED LIMIT.\n",
      "\n",
      "Increase the number of iterations (max_iter) or scale the data as shown in:\n",
      "    https://scikit-learn.org/stable/modules/preprocessing.html\n",
      "Please also refer to the documentation for alternative solver options:\n",
      "    https://scikit-learn.org/stable/modules/linear_model.html#logistic-regression\n",
      "  extra_warning_msg=_LOGISTIC_SOLVER_CONVERGENCE_MSG,\n",
      "/Applications/anaconda3/lib/python3.7/site-packages/sklearn/linear_model/_logistic.py:818: ConvergenceWarning: lbfgs failed to converge (status=1):\n",
      "STOP: TOTAL NO. of ITERATIONS REACHED LIMIT.\n",
      "\n",
      "Increase the number of iterations (max_iter) or scale the data as shown in:\n",
      "    https://scikit-learn.org/stable/modules/preprocessing.html\n",
      "Please also refer to the documentation for alternative solver options:\n",
      "    https://scikit-learn.org/stable/modules/linear_model.html#logistic-regression\n",
      "  extra_warning_msg=_LOGISTIC_SOLVER_CONVERGENCE_MSG,\n",
      "/Applications/anaconda3/lib/python3.7/site-packages/sklearn/linear_model/_logistic.py:818: ConvergenceWarning: lbfgs failed to converge (status=1):\n",
      "STOP: TOTAL NO. of ITERATIONS REACHED LIMIT.\n",
      "\n",
      "Increase the number of iterations (max_iter) or scale the data as shown in:\n",
      "    https://scikit-learn.org/stable/modules/preprocessing.html\n",
      "Please also refer to the documentation for alternative solver options:\n",
      "    https://scikit-learn.org/stable/modules/linear_model.html#logistic-regression\n",
      "  extra_warning_msg=_LOGISTIC_SOLVER_CONVERGENCE_MSG,\n",
      "/Applications/anaconda3/lib/python3.7/site-packages/sklearn/linear_model/_logistic.py:818: ConvergenceWarning: lbfgs failed to converge (status=1):\n",
      "STOP: TOTAL NO. of ITERATIONS REACHED LIMIT.\n",
      "\n",
      "Increase the number of iterations (max_iter) or scale the data as shown in:\n",
      "    https://scikit-learn.org/stable/modules/preprocessing.html\n",
      "Please also refer to the documentation for alternative solver options:\n",
      "    https://scikit-learn.org/stable/modules/linear_model.html#logistic-regression\n",
      "  extra_warning_msg=_LOGISTIC_SOLVER_CONVERGENCE_MSG,\n",
      "/Applications/anaconda3/lib/python3.7/site-packages/sklearn/linear_model/_logistic.py:818: ConvergenceWarning: lbfgs failed to converge (status=1):\n",
      "STOP: TOTAL NO. of ITERATIONS REACHED LIMIT.\n",
      "\n",
      "Increase the number of iterations (max_iter) or scale the data as shown in:\n",
      "    https://scikit-learn.org/stable/modules/preprocessing.html\n",
      "Please also refer to the documentation for alternative solver options:\n",
      "    https://scikit-learn.org/stable/modules/linear_model.html#logistic-regression\n",
      "  extra_warning_msg=_LOGISTIC_SOLVER_CONVERGENCE_MSG,\n",
      "/Applications/anaconda3/lib/python3.7/site-packages/sklearn/linear_model/_logistic.py:818: ConvergenceWarning: lbfgs failed to converge (status=1):\n",
      "STOP: TOTAL NO. of ITERATIONS REACHED LIMIT.\n",
      "\n",
      "Increase the number of iterations (max_iter) or scale the data as shown in:\n",
      "    https://scikit-learn.org/stable/modules/preprocessing.html\n",
      "Please also refer to the documentation for alternative solver options:\n",
      "    https://scikit-learn.org/stable/modules/linear_model.html#logistic-regression\n",
      "  extra_warning_msg=_LOGISTIC_SOLVER_CONVERGENCE_MSG,\n",
      "/Applications/anaconda3/lib/python3.7/site-packages/sklearn/linear_model/_logistic.py:818: ConvergenceWarning: lbfgs failed to converge (status=1):\n",
      "STOP: TOTAL NO. of ITERATIONS REACHED LIMIT.\n",
      "\n",
      "Increase the number of iterations (max_iter) or scale the data as shown in:\n",
      "    https://scikit-learn.org/stable/modules/preprocessing.html\n",
      "Please also refer to the documentation for alternative solver options:\n",
      "    https://scikit-learn.org/stable/modules/linear_model.html#logistic-regression\n",
      "  extra_warning_msg=_LOGISTIC_SOLVER_CONVERGENCE_MSG,\n",
      "/Applications/anaconda3/lib/python3.7/site-packages/sklearn/linear_model/_logistic.py:818: ConvergenceWarning: lbfgs failed to converge (status=1):\n",
      "STOP: TOTAL NO. of ITERATIONS REACHED LIMIT.\n",
      "\n",
      "Increase the number of iterations (max_iter) or scale the data as shown in:\n",
      "    https://scikit-learn.org/stable/modules/preprocessing.html\n",
      "Please also refer to the documentation for alternative solver options:\n",
      "    https://scikit-learn.org/stable/modules/linear_model.html#logistic-regression\n",
      "  extra_warning_msg=_LOGISTIC_SOLVER_CONVERGENCE_MSG,\n",
      "/Applications/anaconda3/lib/python3.7/site-packages/sklearn/linear_model/_logistic.py:818: ConvergenceWarning: lbfgs failed to converge (status=1):\n",
      "STOP: TOTAL NO. of ITERATIONS REACHED LIMIT.\n",
      "\n",
      "Increase the number of iterations (max_iter) or scale the data as shown in:\n",
      "    https://scikit-learn.org/stable/modules/preprocessing.html\n",
      "Please also refer to the documentation for alternative solver options:\n",
      "    https://scikit-learn.org/stable/modules/linear_model.html#logistic-regression\n",
      "  extra_warning_msg=_LOGISTIC_SOLVER_CONVERGENCE_MSG,\n",
      "/Applications/anaconda3/lib/python3.7/site-packages/sklearn/linear_model/_logistic.py:818: ConvergenceWarning: lbfgs failed to converge (status=1):\n",
      "STOP: TOTAL NO. of ITERATIONS REACHED LIMIT.\n",
      "\n",
      "Increase the number of iterations (max_iter) or scale the data as shown in:\n",
      "    https://scikit-learn.org/stable/modules/preprocessing.html\n",
      "Please also refer to the documentation for alternative solver options:\n",
      "    https://scikit-learn.org/stable/modules/linear_model.html#logistic-regression\n",
      "  extra_warning_msg=_LOGISTIC_SOLVER_CONVERGENCE_MSG,\n",
      "/Applications/anaconda3/lib/python3.7/site-packages/sklearn/linear_model/_logistic.py:818: ConvergenceWarning: lbfgs failed to converge (status=1):\n",
      "STOP: TOTAL NO. of ITERATIONS REACHED LIMIT.\n",
      "\n",
      "Increase the number of iterations (max_iter) or scale the data as shown in:\n",
      "    https://scikit-learn.org/stable/modules/preprocessing.html\n",
      "Please also refer to the documentation for alternative solver options:\n",
      "    https://scikit-learn.org/stable/modules/linear_model.html#logistic-regression\n",
      "  extra_warning_msg=_LOGISTIC_SOLVER_CONVERGENCE_MSG,\n",
      "/Applications/anaconda3/lib/python3.7/site-packages/sklearn/linear_model/_logistic.py:818: ConvergenceWarning: lbfgs failed to converge (status=1):\n",
      "STOP: TOTAL NO. of ITERATIONS REACHED LIMIT.\n",
      "\n",
      "Increase the number of iterations (max_iter) or scale the data as shown in:\n",
      "    https://scikit-learn.org/stable/modules/preprocessing.html\n",
      "Please also refer to the documentation for alternative solver options:\n",
      "    https://scikit-learn.org/stable/modules/linear_model.html#logistic-regression\n",
      "  extra_warning_msg=_LOGISTIC_SOLVER_CONVERGENCE_MSG,\n",
      "/Applications/anaconda3/lib/python3.7/site-packages/sklearn/linear_model/_logistic.py:818: ConvergenceWarning: lbfgs failed to converge (status=1):\n",
      "STOP: TOTAL NO. of ITERATIONS REACHED LIMIT.\n",
      "\n",
      "Increase the number of iterations (max_iter) or scale the data as shown in:\n",
      "    https://scikit-learn.org/stable/modules/preprocessing.html\n",
      "Please also refer to the documentation for alternative solver options:\n",
      "    https://scikit-learn.org/stable/modules/linear_model.html#logistic-regression\n",
      "  extra_warning_msg=_LOGISTIC_SOLVER_CONVERGENCE_MSG,\n",
      "/Applications/anaconda3/lib/python3.7/site-packages/sklearn/linear_model/_logistic.py:818: ConvergenceWarning: lbfgs failed to converge (status=1):\n",
      "STOP: TOTAL NO. of ITERATIONS REACHED LIMIT.\n",
      "\n",
      "Increase the number of iterations (max_iter) or scale the data as shown in:\n",
      "    https://scikit-learn.org/stable/modules/preprocessing.html\n",
      "Please also refer to the documentation for alternative solver options:\n",
      "    https://scikit-learn.org/stable/modules/linear_model.html#logistic-regression\n",
      "  extra_warning_msg=_LOGISTIC_SOLVER_CONVERGENCE_MSG,\n",
      "/Applications/anaconda3/lib/python3.7/site-packages/sklearn/linear_model/_logistic.py:818: ConvergenceWarning: lbfgs failed to converge (status=1):\n",
      "STOP: TOTAL NO. of ITERATIONS REACHED LIMIT.\n",
      "\n",
      "Increase the number of iterations (max_iter) or scale the data as shown in:\n",
      "    https://scikit-learn.org/stable/modules/preprocessing.html\n",
      "Please also refer to the documentation for alternative solver options:\n",
      "    https://scikit-learn.org/stable/modules/linear_model.html#logistic-regression\n",
      "  extra_warning_msg=_LOGISTIC_SOLVER_CONVERGENCE_MSG,\n",
      "/Applications/anaconda3/lib/python3.7/site-packages/sklearn/linear_model/_logistic.py:818: ConvergenceWarning: lbfgs failed to converge (status=1):\n",
      "STOP: TOTAL NO. of ITERATIONS REACHED LIMIT.\n",
      "\n",
      "Increase the number of iterations (max_iter) or scale the data as shown in:\n",
      "    https://scikit-learn.org/stable/modules/preprocessing.html\n",
      "Please also refer to the documentation for alternative solver options:\n",
      "    https://scikit-learn.org/stable/modules/linear_model.html#logistic-regression\n",
      "  extra_warning_msg=_LOGISTIC_SOLVER_CONVERGENCE_MSG,\n",
      "/Applications/anaconda3/lib/python3.7/site-packages/sklearn/linear_model/_logistic.py:818: ConvergenceWarning: lbfgs failed to converge (status=1):\n",
      "STOP: TOTAL NO. of ITERATIONS REACHED LIMIT.\n",
      "\n",
      "Increase the number of iterations (max_iter) or scale the data as shown in:\n",
      "    https://scikit-learn.org/stable/modules/preprocessing.html\n",
      "Please also refer to the documentation for alternative solver options:\n",
      "    https://scikit-learn.org/stable/modules/linear_model.html#logistic-regression\n",
      "  extra_warning_msg=_LOGISTIC_SOLVER_CONVERGENCE_MSG,\n",
      "/Applications/anaconda3/lib/python3.7/site-packages/sklearn/linear_model/_logistic.py:818: ConvergenceWarning: lbfgs failed to converge (status=1):\n",
      "STOP: TOTAL NO. of ITERATIONS REACHED LIMIT.\n",
      "\n",
      "Increase the number of iterations (max_iter) or scale the data as shown in:\n",
      "    https://scikit-learn.org/stable/modules/preprocessing.html\n",
      "Please also refer to the documentation for alternative solver options:\n",
      "    https://scikit-learn.org/stable/modules/linear_model.html#logistic-regression\n",
      "  extra_warning_msg=_LOGISTIC_SOLVER_CONVERGENCE_MSG,\n",
      "/Applications/anaconda3/lib/python3.7/site-packages/sklearn/linear_model/_logistic.py:818: ConvergenceWarning: lbfgs failed to converge (status=1):\n",
      "STOP: TOTAL NO. of ITERATIONS REACHED LIMIT.\n",
      "\n",
      "Increase the number of iterations (max_iter) or scale the data as shown in:\n",
      "    https://scikit-learn.org/stable/modules/preprocessing.html\n",
      "Please also refer to the documentation for alternative solver options:\n",
      "    https://scikit-learn.org/stable/modules/linear_model.html#logistic-regression\n",
      "  extra_warning_msg=_LOGISTIC_SOLVER_CONVERGENCE_MSG,\n",
      "/Applications/anaconda3/lib/python3.7/site-packages/sklearn/linear_model/_logistic.py:818: ConvergenceWarning: lbfgs failed to converge (status=1):\n",
      "STOP: TOTAL NO. of ITERATIONS REACHED LIMIT.\n",
      "\n",
      "Increase the number of iterations (max_iter) or scale the data as shown in:\n",
      "    https://scikit-learn.org/stable/modules/preprocessing.html\n",
      "Please also refer to the documentation for alternative solver options:\n",
      "    https://scikit-learn.org/stable/modules/linear_model.html#logistic-regression\n",
      "  extra_warning_msg=_LOGISTIC_SOLVER_CONVERGENCE_MSG,\n",
      "/Applications/anaconda3/lib/python3.7/site-packages/sklearn/linear_model/_logistic.py:818: ConvergenceWarning: lbfgs failed to converge (status=1):\n",
      "STOP: TOTAL NO. of ITERATIONS REACHED LIMIT.\n",
      "\n",
      "Increase the number of iterations (max_iter) or scale the data as shown in:\n",
      "    https://scikit-learn.org/stable/modules/preprocessing.html\n",
      "Please also refer to the documentation for alternative solver options:\n",
      "    https://scikit-learn.org/stable/modules/linear_model.html#logistic-regression\n",
      "  extra_warning_msg=_LOGISTIC_SOLVER_CONVERGENCE_MSG,\n",
      "/Applications/anaconda3/lib/python3.7/site-packages/sklearn/linear_model/_logistic.py:818: ConvergenceWarning: lbfgs failed to converge (status=1):\n",
      "STOP: TOTAL NO. of ITERATIONS REACHED LIMIT.\n",
      "\n",
      "Increase the number of iterations (max_iter) or scale the data as shown in:\n",
      "    https://scikit-learn.org/stable/modules/preprocessing.html\n",
      "Please also refer to the documentation for alternative solver options:\n",
      "    https://scikit-learn.org/stable/modules/linear_model.html#logistic-regression\n",
      "  extra_warning_msg=_LOGISTIC_SOLVER_CONVERGENCE_MSG,\n",
      "/Applications/anaconda3/lib/python3.7/site-packages/sklearn/linear_model/_logistic.py:818: ConvergenceWarning: lbfgs failed to converge (status=1):\n",
      "STOP: TOTAL NO. of ITERATIONS REACHED LIMIT.\n",
      "\n",
      "Increase the number of iterations (max_iter) or scale the data as shown in:\n",
      "    https://scikit-learn.org/stable/modules/preprocessing.html\n",
      "Please also refer to the documentation for alternative solver options:\n",
      "    https://scikit-learn.org/stable/modules/linear_model.html#logistic-regression\n",
      "  extra_warning_msg=_LOGISTIC_SOLVER_CONVERGENCE_MSG,\n",
      "/Applications/anaconda3/lib/python3.7/site-packages/sklearn/linear_model/_logistic.py:818: ConvergenceWarning: lbfgs failed to converge (status=1):\n",
      "STOP: TOTAL NO. of ITERATIONS REACHED LIMIT.\n",
      "\n",
      "Increase the number of iterations (max_iter) or scale the data as shown in:\n",
      "    https://scikit-learn.org/stable/modules/preprocessing.html\n",
      "Please also refer to the documentation for alternative solver options:\n",
      "    https://scikit-learn.org/stable/modules/linear_model.html#logistic-regression\n",
      "  extra_warning_msg=_LOGISTIC_SOLVER_CONVERGENCE_MSG,\n",
      "/Applications/anaconda3/lib/python3.7/site-packages/sklearn/linear_model/_logistic.py:818: ConvergenceWarning: lbfgs failed to converge (status=1):\n",
      "STOP: TOTAL NO. of ITERATIONS REACHED LIMIT.\n",
      "\n",
      "Increase the number of iterations (max_iter) or scale the data as shown in:\n",
      "    https://scikit-learn.org/stable/modules/preprocessing.html\n",
      "Please also refer to the documentation for alternative solver options:\n",
      "    https://scikit-learn.org/stable/modules/linear_model.html#logistic-regression\n",
      "  extra_warning_msg=_LOGISTIC_SOLVER_CONVERGENCE_MSG,\n",
      "/Applications/anaconda3/lib/python3.7/site-packages/sklearn/linear_model/_logistic.py:818: ConvergenceWarning: lbfgs failed to converge (status=1):\n",
      "STOP: TOTAL NO. of ITERATIONS REACHED LIMIT.\n",
      "\n",
      "Increase the number of iterations (max_iter) or scale the data as shown in:\n",
      "    https://scikit-learn.org/stable/modules/preprocessing.html\n",
      "Please also refer to the documentation for alternative solver options:\n",
      "    https://scikit-learn.org/stable/modules/linear_model.html#logistic-regression\n",
      "  extra_warning_msg=_LOGISTIC_SOLVER_CONVERGENCE_MSG,\n",
      "/Applications/anaconda3/lib/python3.7/site-packages/sklearn/linear_model/_logistic.py:818: ConvergenceWarning: lbfgs failed to converge (status=1):\n",
      "STOP: TOTAL NO. of ITERATIONS REACHED LIMIT.\n",
      "\n",
      "Increase the number of iterations (max_iter) or scale the data as shown in:\n",
      "    https://scikit-learn.org/stable/modules/preprocessing.html\n",
      "Please also refer to the documentation for alternative solver options:\n",
      "    https://scikit-learn.org/stable/modules/linear_model.html#logistic-regression\n",
      "  extra_warning_msg=_LOGISTIC_SOLVER_CONVERGENCE_MSG,\n",
      "/Applications/anaconda3/lib/python3.7/site-packages/sklearn/linear_model/_logistic.py:818: ConvergenceWarning: lbfgs failed to converge (status=1):\n",
      "STOP: TOTAL NO. of ITERATIONS REACHED LIMIT.\n",
      "\n",
      "Increase the number of iterations (max_iter) or scale the data as shown in:\n",
      "    https://scikit-learn.org/stable/modules/preprocessing.html\n",
      "Please also refer to the documentation for alternative solver options:\n",
      "    https://scikit-learn.org/stable/modules/linear_model.html#logistic-regression\n",
      "  extra_warning_msg=_LOGISTIC_SOLVER_CONVERGENCE_MSG,\n",
      "/Applications/anaconda3/lib/python3.7/site-packages/sklearn/linear_model/_logistic.py:818: ConvergenceWarning: lbfgs failed to converge (status=1):\n",
      "STOP: TOTAL NO. of ITERATIONS REACHED LIMIT.\n",
      "\n",
      "Increase the number of iterations (max_iter) or scale the data as shown in:\n",
      "    https://scikit-learn.org/stable/modules/preprocessing.html\n",
      "Please also refer to the documentation for alternative solver options:\n",
      "    https://scikit-learn.org/stable/modules/linear_model.html#logistic-regression\n",
      "  extra_warning_msg=_LOGISTIC_SOLVER_CONVERGENCE_MSG,\n",
      "/Applications/anaconda3/lib/python3.7/site-packages/sklearn/linear_model/_logistic.py:818: ConvergenceWarning: lbfgs failed to converge (status=1):\n",
      "STOP: TOTAL NO. of ITERATIONS REACHED LIMIT.\n",
      "\n",
      "Increase the number of iterations (max_iter) or scale the data as shown in:\n",
      "    https://scikit-learn.org/stable/modules/preprocessing.html\n",
      "Please also refer to the documentation for alternative solver options:\n",
      "    https://scikit-learn.org/stable/modules/linear_model.html#logistic-regression\n",
      "  extra_warning_msg=_LOGISTIC_SOLVER_CONVERGENCE_MSG,\n",
      "/Applications/anaconda3/lib/python3.7/site-packages/sklearn/linear_model/_logistic.py:818: ConvergenceWarning: lbfgs failed to converge (status=1):\n",
      "STOP: TOTAL NO. of ITERATIONS REACHED LIMIT.\n",
      "\n",
      "Increase the number of iterations (max_iter) or scale the data as shown in:\n",
      "    https://scikit-learn.org/stable/modules/preprocessing.html\n",
      "Please also refer to the documentation for alternative solver options:\n",
      "    https://scikit-learn.org/stable/modules/linear_model.html#logistic-regression\n",
      "  extra_warning_msg=_LOGISTIC_SOLVER_CONVERGENCE_MSG,\n",
      "/Applications/anaconda3/lib/python3.7/site-packages/sklearn/linear_model/_logistic.py:818: ConvergenceWarning: lbfgs failed to converge (status=1):\n",
      "STOP: TOTAL NO. of ITERATIONS REACHED LIMIT.\n",
      "\n",
      "Increase the number of iterations (max_iter) or scale the data as shown in:\n",
      "    https://scikit-learn.org/stable/modules/preprocessing.html\n",
      "Please also refer to the documentation for alternative solver options:\n",
      "    https://scikit-learn.org/stable/modules/linear_model.html#logistic-regression\n",
      "  extra_warning_msg=_LOGISTIC_SOLVER_CONVERGENCE_MSG,\n",
      "/Applications/anaconda3/lib/python3.7/site-packages/sklearn/linear_model/_logistic.py:818: ConvergenceWarning: lbfgs failed to converge (status=1):\n",
      "STOP: TOTAL NO. of ITERATIONS REACHED LIMIT.\n",
      "\n",
      "Increase the number of iterations (max_iter) or scale the data as shown in:\n",
      "    https://scikit-learn.org/stable/modules/preprocessing.html\n",
      "Please also refer to the documentation for alternative solver options:\n",
      "    https://scikit-learn.org/stable/modules/linear_model.html#logistic-regression\n",
      "  extra_warning_msg=_LOGISTIC_SOLVER_CONVERGENCE_MSG,\n",
      "/Applications/anaconda3/lib/python3.7/site-packages/sklearn/linear_model/_logistic.py:818: ConvergenceWarning: lbfgs failed to converge (status=1):\n",
      "STOP: TOTAL NO. of ITERATIONS REACHED LIMIT.\n",
      "\n",
      "Increase the number of iterations (max_iter) or scale the data as shown in:\n",
      "    https://scikit-learn.org/stable/modules/preprocessing.html\n",
      "Please also refer to the documentation for alternative solver options:\n",
      "    https://scikit-learn.org/stable/modules/linear_model.html#logistic-regression\n",
      "  extra_warning_msg=_LOGISTIC_SOLVER_CONVERGENCE_MSG,\n",
      "/Applications/anaconda3/lib/python3.7/site-packages/sklearn/linear_model/_logistic.py:818: ConvergenceWarning: lbfgs failed to converge (status=1):\n",
      "STOP: TOTAL NO. of ITERATIONS REACHED LIMIT.\n",
      "\n",
      "Increase the number of iterations (max_iter) or scale the data as shown in:\n",
      "    https://scikit-learn.org/stable/modules/preprocessing.html\n",
      "Please also refer to the documentation for alternative solver options:\n",
      "    https://scikit-learn.org/stable/modules/linear_model.html#logistic-regression\n",
      "  extra_warning_msg=_LOGISTIC_SOLVER_CONVERGENCE_MSG,\n",
      "/Applications/anaconda3/lib/python3.7/site-packages/sklearn/linear_model/_logistic.py:818: ConvergenceWarning: lbfgs failed to converge (status=1):\n",
      "STOP: TOTAL NO. of ITERATIONS REACHED LIMIT.\n",
      "\n",
      "Increase the number of iterations (max_iter) or scale the data as shown in:\n",
      "    https://scikit-learn.org/stable/modules/preprocessing.html\n",
      "Please also refer to the documentation for alternative solver options:\n",
      "    https://scikit-learn.org/stable/modules/linear_model.html#logistic-regression\n",
      "  extra_warning_msg=_LOGISTIC_SOLVER_CONVERGENCE_MSG,\n",
      "/Applications/anaconda3/lib/python3.7/site-packages/sklearn/linear_model/_logistic.py:818: ConvergenceWarning: lbfgs failed to converge (status=1):\n",
      "STOP: TOTAL NO. of ITERATIONS REACHED LIMIT.\n",
      "\n",
      "Increase the number of iterations (max_iter) or scale the data as shown in:\n",
      "    https://scikit-learn.org/stable/modules/preprocessing.html\n",
      "Please also refer to the documentation for alternative solver options:\n",
      "    https://scikit-learn.org/stable/modules/linear_model.html#logistic-regression\n",
      "  extra_warning_msg=_LOGISTIC_SOLVER_CONVERGENCE_MSG,\n",
      "/Applications/anaconda3/lib/python3.7/site-packages/sklearn/linear_model/_logistic.py:818: ConvergenceWarning: lbfgs failed to converge (status=1):\n",
      "STOP: TOTAL NO. of ITERATIONS REACHED LIMIT.\n",
      "\n",
      "Increase the number of iterations (max_iter) or scale the data as shown in:\n",
      "    https://scikit-learn.org/stable/modules/preprocessing.html\n",
      "Please also refer to the documentation for alternative solver options:\n",
      "    https://scikit-learn.org/stable/modules/linear_model.html#logistic-regression\n",
      "  extra_warning_msg=_LOGISTIC_SOLVER_CONVERGENCE_MSG,\n",
      "/Applications/anaconda3/lib/python3.7/site-packages/sklearn/linear_model/_logistic.py:818: ConvergenceWarning: lbfgs failed to converge (status=1):\n",
      "STOP: TOTAL NO. of ITERATIONS REACHED LIMIT.\n",
      "\n",
      "Increase the number of iterations (max_iter) or scale the data as shown in:\n",
      "    https://scikit-learn.org/stable/modules/preprocessing.html\n",
      "Please also refer to the documentation for alternative solver options:\n",
      "    https://scikit-learn.org/stable/modules/linear_model.html#logistic-regression\n",
      "  extra_warning_msg=_LOGISTIC_SOLVER_CONVERGENCE_MSG,\n",
      "/Applications/anaconda3/lib/python3.7/site-packages/sklearn/linear_model/_logistic.py:818: ConvergenceWarning: lbfgs failed to converge (status=1):\n",
      "STOP: TOTAL NO. of ITERATIONS REACHED LIMIT.\n",
      "\n",
      "Increase the number of iterations (max_iter) or scale the data as shown in:\n",
      "    https://scikit-learn.org/stable/modules/preprocessing.html\n",
      "Please also refer to the documentation for alternative solver options:\n",
      "    https://scikit-learn.org/stable/modules/linear_model.html#logistic-regression\n",
      "  extra_warning_msg=_LOGISTIC_SOLVER_CONVERGENCE_MSG,\n",
      "/Applications/anaconda3/lib/python3.7/site-packages/sklearn/linear_model/_logistic.py:818: ConvergenceWarning: lbfgs failed to converge (status=1):\n",
      "STOP: TOTAL NO. of ITERATIONS REACHED LIMIT.\n",
      "\n",
      "Increase the number of iterations (max_iter) or scale the data as shown in:\n",
      "    https://scikit-learn.org/stable/modules/preprocessing.html\n",
      "Please also refer to the documentation for alternative solver options:\n",
      "    https://scikit-learn.org/stable/modules/linear_model.html#logistic-regression\n",
      "  extra_warning_msg=_LOGISTIC_SOLVER_CONVERGENCE_MSG,\n",
      "/Applications/anaconda3/lib/python3.7/site-packages/sklearn/linear_model/_logistic.py:818: ConvergenceWarning: lbfgs failed to converge (status=1):\n",
      "STOP: TOTAL NO. of ITERATIONS REACHED LIMIT.\n",
      "\n",
      "Increase the number of iterations (max_iter) or scale the data as shown in:\n",
      "    https://scikit-learn.org/stable/modules/preprocessing.html\n",
      "Please also refer to the documentation for alternative solver options:\n",
      "    https://scikit-learn.org/stable/modules/linear_model.html#logistic-regression\n",
      "  extra_warning_msg=_LOGISTIC_SOLVER_CONVERGENCE_MSG,\n",
      "/Applications/anaconda3/lib/python3.7/site-packages/sklearn/linear_model/_logistic.py:818: ConvergenceWarning: lbfgs failed to converge (status=1):\n",
      "STOP: TOTAL NO. of ITERATIONS REACHED LIMIT.\n",
      "\n",
      "Increase the number of iterations (max_iter) or scale the data as shown in:\n",
      "    https://scikit-learn.org/stable/modules/preprocessing.html\n",
      "Please also refer to the documentation for alternative solver options:\n",
      "    https://scikit-learn.org/stable/modules/linear_model.html#logistic-regression\n",
      "  extra_warning_msg=_LOGISTIC_SOLVER_CONVERGENCE_MSG,\n",
      "/Applications/anaconda3/lib/python3.7/site-packages/sklearn/linear_model/_logistic.py:818: ConvergenceWarning: lbfgs failed to converge (status=1):\n",
      "STOP: TOTAL NO. of ITERATIONS REACHED LIMIT.\n",
      "\n",
      "Increase the number of iterations (max_iter) or scale the data as shown in:\n",
      "    https://scikit-learn.org/stable/modules/preprocessing.html\n",
      "Please also refer to the documentation for alternative solver options:\n",
      "    https://scikit-learn.org/stable/modules/linear_model.html#logistic-regression\n",
      "  extra_warning_msg=_LOGISTIC_SOLVER_CONVERGENCE_MSG,\n",
      "/Applications/anaconda3/lib/python3.7/site-packages/sklearn/linear_model/_logistic.py:818: ConvergenceWarning: lbfgs failed to converge (status=1):\n",
      "STOP: TOTAL NO. of ITERATIONS REACHED LIMIT.\n",
      "\n",
      "Increase the number of iterations (max_iter) or scale the data as shown in:\n",
      "    https://scikit-learn.org/stable/modules/preprocessing.html\n",
      "Please also refer to the documentation for alternative solver options:\n",
      "    https://scikit-learn.org/stable/modules/linear_model.html#logistic-regression\n",
      "  extra_warning_msg=_LOGISTIC_SOLVER_CONVERGENCE_MSG,\n",
      "/Applications/anaconda3/lib/python3.7/site-packages/sklearn/linear_model/_logistic.py:818: ConvergenceWarning: lbfgs failed to converge (status=1):\n",
      "STOP: TOTAL NO. of ITERATIONS REACHED LIMIT.\n",
      "\n",
      "Increase the number of iterations (max_iter) or scale the data as shown in:\n",
      "    https://scikit-learn.org/stable/modules/preprocessing.html\n",
      "Please also refer to the documentation for alternative solver options:\n",
      "    https://scikit-learn.org/stable/modules/linear_model.html#logistic-regression\n",
      "  extra_warning_msg=_LOGISTIC_SOLVER_CONVERGENCE_MSG,\n",
      "/Applications/anaconda3/lib/python3.7/site-packages/sklearn/linear_model/_logistic.py:818: ConvergenceWarning: lbfgs failed to converge (status=1):\n",
      "STOP: TOTAL NO. of ITERATIONS REACHED LIMIT.\n",
      "\n",
      "Increase the number of iterations (max_iter) or scale the data as shown in:\n",
      "    https://scikit-learn.org/stable/modules/preprocessing.html\n",
      "Please also refer to the documentation for alternative solver options:\n",
      "    https://scikit-learn.org/stable/modules/linear_model.html#logistic-regression\n",
      "  extra_warning_msg=_LOGISTIC_SOLVER_CONVERGENCE_MSG,\n"
     ]
    },
    {
     "name": "stdout",
     "output_type": "stream",
     "text": [
      "Logistic:00:09s:636715\n"
     ]
    },
    {
     "data": {
      "image/png": "[encoded data removed]",
      "text/plain": [
       "<Figure size 2160x432 with 5 Axes>"
      ]
     },
     "metadata": {
      "needs_background": "light"
     },
     "output_type": "display_data"
    }
   ],
   "source": [
    "# loop, find learing curve \n",
    "fig,axes = plt.subplots(1,5,figsize = (30,6)) \n",
    "for ind,title_,estimator in zip(range(len(title)),title,model): \n",
    "    times = time() \n",
    "    plot_learning_curve(estimator,title_,X,y, \n",
    "                        ax = axes[ind],ylim = [0.7,1.05],n_jobs = 4,cv = cv) \n",
    "    print('{}:{}'.format(title_,datetime.datetime.fromtimestamp(time()-times).strftime(\"%M:%Ss:%f\"))) \n",
    "plt.show() "
   ]
  },
  {
   "cell_type": "code",
   "execution_count": 100,
   "id": "54d955d9",
   "metadata": {
    "ExecuteTime": {
     "end_time": "2022-07-06T03:30:08.932021Z",
     "start_time": "2022-07-06T03:30:08.929722Z"
    }
   },
   "outputs": [],
   "source": [
    "#from sklearn.metrics import brier_score_loss \n",
    "#brier_score_loss(ytest,prob[:,1],pos_label=1) # Now brier_score not support multiclass "
   ]
  },
  {
   "cell_type": "code",
   "execution_count": 25,
   "id": "dd65e86d",
   "metadata": {
    "ExecuteTime": {
     "end_time": "2022-07-06T02:10:23.791499Z",
     "start_time": "2022-07-06T02:10:23.246972Z"
    }
   },
   "outputs": [],
   "source": [
    "import pandas as pd "
   ]
  },
  {
   "cell_type": "code",
   "execution_count": 26,
   "id": "e6b92419",
   "metadata": {
    "ExecuteTime": {
     "end_time": "2022-07-06T02:10:24.242402Z",
     "start_time": "2022-07-06T02:10:24.233736Z"
    }
   },
   "outputs": [],
   "source": [
    "# dummy variable of y \n",
    "ytest = ytest.copy() \n",
    "ytest = pd.get_dummies(ytest) "
   ]
  },
  {
   "cell_type": "code",
   "execution_count": 27,
   "id": "2b79d059",
   "metadata": {
    "ExecuteTime": {
     "end_time": "2022-07-06T02:10:24.596125Z",
     "start_time": "2022-07-06T02:10:24.583781Z"
    }
   },
   "outputs": [
    {
     "name": "stdout",
     "output_type": "stream",
     "text": [
      "0.003680512744365077\n",
      "0.032619662406118764\n",
      "0.04073796355303327\n",
      "0.024227451061575995\n",
      "0.013717124391784064\n",
      "0.012770720966518715\n",
      "0.008906952589951798\n",
      "0.028006698663252037\n",
      "0.0680707157691044\n",
      "0.031524759298859326\n"
     ]
    }
   ],
   "source": [
    "for i in range(10):\n",
    "    bs = brier_score_loss(ytest[i],prob[:,i])  \n",
    "    print(bs) "
   ]
  },
  {
   "cell_type": "code",
   "execution_count": 28,
   "id": "685c58d0",
   "metadata": {
    "ExecuteTime": {
     "end_time": "2022-07-06T02:10:26.851431Z",
     "start_time": "2022-07-06T02:10:24.927410Z"
    }
   },
   "outputs": [],
   "source": [
    "from sklearn.svm import SVC \n",
    "from sklearn.linear_model import LogisticRegression as LR \n",
    "logi = LR(C = 1, solver = 'lbfgs',max_iter= 3000, multi_class= 'auto').fit(Xtrain,ytrain)  \n",
    "svc = SVC(kernel = \"linear\",gamma=1).fit(Xtrain,ytrain)   "
   ]
  },
  {
   "cell_type": "code",
   "execution_count": 29,
   "id": "da5276a9",
   "metadata": {
    "ExecuteTime": {
     "end_time": "2022-07-06T02:10:26.861703Z",
     "start_time": "2022-07-06T02:10:26.854257Z"
    }
   },
   "outputs": [
    {
     "data": {
      "text/plain": [
       "0.011439558355526819"
      ]
     },
     "execution_count": 29,
     "metadata": {},
     "output_type": "execute_result"
    }
   ],
   "source": [
    "brier_score_loss(ytest[1],logi.predict_proba(Xtest)[:,1],pos_label=1)  "
   ]
  },
  {
   "cell_type": "code",
   "execution_count": 30,
   "id": "975eeee2",
   "metadata": {
    "ExecuteTime": {
     "end_time": "2022-07-06T02:10:26.888405Z",
     "start_time": "2022-07-06T02:10:26.864168Z"
    }
   },
   "outputs": [
    {
     "data": {
      "text/plain": [
       "array([[ 6.24837122,  3.71700301,  2.71927921, ..., -0.31216676,\n",
       "         8.31590244,  0.69032425],\n",
       "       [-0.3087187 ,  9.31441373,  6.27530649, ...,  0.69093621,\n",
       "         7.28364791,  3.83955107],\n",
       "       [ 0.6906499 ,  2.71878697,  7.27763251, ...,  6.2744652 ,\n",
       "         8.30835126,  5.28750364],\n",
       "       ...,\n",
       "       [ 4.78686312,  5.13417125, -0.3052943 , ...,  8.29648495,\n",
       "         6.29518651,  1.69695548],\n",
       "       [ 2.74874208,  2.6867217 ,  6.28769759, ...,  2.89864232,\n",
       "         8.31336146,  7.27763454],\n",
       "       [-0.31162689,  9.31682254,  4.89495994, ...,  5.84334803,\n",
       "         7.30473457,  1.70688667]])"
      ]
     },
     "execution_count": 30,
     "metadata": {},
     "output_type": "execute_result"
    }
   ],
   "source": [
    "svc.decision_function(Xtest) "
   ]
  },
  {
   "cell_type": "code",
   "execution_count": 31,
   "id": "e098a0df",
   "metadata": {
    "ExecuteTime": {
     "end_time": "2022-07-06T02:10:26.966820Z",
     "start_time": "2022-07-06T02:10:26.893099Z"
    }
   },
   "outputs": [],
   "source": [
    "# 归一化 \n",
    "svc_prob = (svc.decision_function(Xtest) - svc.decision_function(Xtest).min())/(svc.decision_function(Xtest).max() - svc.decision_function(Xtest).min()) "
   ]
  },
  {
   "cell_type": "code",
   "execution_count": 32,
   "id": "f40bff2e",
   "metadata": {
    "ExecuteTime": {
     "end_time": "2022-07-06T02:10:26.976455Z",
     "start_time": "2022-07-06T02:10:26.969594Z"
    }
   },
   "outputs": [
    {
     "data": {
      "text/plain": [
       "0.24286480465579566"
      ]
     },
     "execution_count": 32,
     "metadata": {},
     "output_type": "execute_result"
    }
   ],
   "source": [
    "brier_score_loss(ytest[1],svc_prob[:,1],pos_label = 1) "
   ]
  },
  {
   "cell_type": "code",
   "execution_count": 33,
   "id": "f67d97d8",
   "metadata": {
    "ExecuteTime": {
     "end_time": "2022-07-06T02:10:26.987458Z",
     "start_time": "2022-07-06T02:10:26.979066Z"
    }
   },
   "outputs": [],
   "source": [
    "## Naive Bayes, SVM, Logistic Regression Comparison \n",
    "import pandas as pd \n",
    "name  = ['Bayes','Logistic','SVC'] \n",
    "color = ['red','black','orange'] \n",
    "\n",
    "df = pd.DataFrame(index = range(10),columns = name) \n"
   ]
  },
  {
   "cell_type": "code",
   "execution_count": 34,
   "id": "6cf04feb",
   "metadata": {
    "ExecuteTime": {
     "end_time": "2022-07-06T02:10:27.021385Z",
     "start_time": "2022-07-06T02:10:26.991140Z"
    }
   },
   "outputs": [],
   "source": [
    "for i in range(10):\n",
    "    df.loc[i,name[0]] = brier_score_loss(ytest[i],prob[:,i],pos_label=i)\n",
    "    df.loc[i,name[1]] = brier_score_loss(ytest[i],logi.predict_proba(Xtest)[:,i],pos_label=i)\n",
    "    df.loc[i,name[2]] = brier_score_loss(ytest[i],svc_prob[:,i],pos_label=i)  "
   ]
  },
  {
   "cell_type": "code",
   "execution_count": 35,
   "id": "5e7b9a2c",
   "metadata": {
    "ExecuteTime": {
     "end_time": "2022-07-06T02:10:27.038596Z",
     "start_time": "2022-07-06T02:10:27.024396Z"
    }
   },
   "outputs": [
    {
     "data": {
      "text/html": [
       "<div>\n",
       "<style scoped>\n",
       "    .dataframe tbody tr th:only-of-type {\n",
       "        vertical-align: middle;\n",
       "    }\n",
       "\n",
       "    .dataframe tbody tr th {\n",
       "        vertical-align: top;\n",
       "    }\n",
       "\n",
       "    .dataframe thead th {\n",
       "        text-align: right;\n",
       "    }\n",
       "</style>\n",
       "<table border=\"1\" class=\"dataframe\">\n",
       "  <thead>\n",
       "    <tr style=\"text-align: right;\">\n",
       "      <th></th>\n",
       "      <th>Bayes</th>\n",
       "      <th>Logistic</th>\n",
       "      <th>SVC</th>\n",
       "    </tr>\n",
       "  </thead>\n",
       "  <tbody>\n",
       "    <tr>\n",
       "      <th>0</th>\n",
       "      <td>0.996244</td>\n",
       "      <td>0.999473</td>\n",
       "      <td>0.681634</td>\n",
       "    </tr>\n",
       "    <tr>\n",
       "      <th>1</th>\n",
       "      <td>0.0326197</td>\n",
       "      <td>0.0114396</td>\n",
       "      <td>0.242865</td>\n",
       "    </tr>\n",
       "    <tr>\n",
       "      <th>2</th>\n",
       "      <td>0.0733327</td>\n",
       "      <td>0.0953032</td>\n",
       "      <td>0.251131</td>\n",
       "    </tr>\n",
       "    <tr>\n",
       "      <th>3</th>\n",
       "      <td>0.0806967</td>\n",
       "      <td>0.0932588</td>\n",
       "      <td>0.450271</td>\n",
       "    </tr>\n",
       "    <tr>\n",
       "      <th>4</th>\n",
       "      <td>0.0751393</td>\n",
       "      <td>0.0849782</td>\n",
       "      <td>0.252574</td>\n",
       "    </tr>\n",
       "    <tr>\n",
       "      <th>5</th>\n",
       "      <td>0.110865</td>\n",
       "      <td>0.113096</td>\n",
       "      <td>0.352765</td>\n",
       "    </tr>\n",
       "    <tr>\n",
       "      <th>6</th>\n",
       "      <td>0.0959412</td>\n",
       "      <td>0.0949014</td>\n",
       "      <td>0.276426</td>\n",
       "    </tr>\n",
       "    <tr>\n",
       "      <th>7</th>\n",
       "      <td>0.128007</td>\n",
       "      <td>0.0965001</td>\n",
       "      <td>0.28853</td>\n",
       "    </tr>\n",
       "    <tr>\n",
       "      <th>8</th>\n",
       "      <td>0.158683</td>\n",
       "      <td>0.104194</td>\n",
       "      <td>0.640142</td>\n",
       "    </tr>\n",
       "    <tr>\n",
       "      <th>9</th>\n",
       "      <td>0.0789063</td>\n",
       "      <td>0.097844</td>\n",
       "      <td>0.396565</td>\n",
       "    </tr>\n",
       "  </tbody>\n",
       "</table>\n",
       "</div>"
      ],
      "text/plain": [
       "       Bayes   Logistic       SVC\n",
       "0   0.996244   0.999473  0.681634\n",
       "1  0.0326197  0.0114396  0.242865\n",
       "2  0.0733327  0.0953032  0.251131\n",
       "3  0.0806967  0.0932588  0.450271\n",
       "4  0.0751393  0.0849782  0.252574\n",
       "5   0.110865   0.113096  0.352765\n",
       "6  0.0959412  0.0949014  0.276426\n",
       "7   0.128007  0.0965001   0.28853\n",
       "8   0.158683   0.104194  0.640142\n",
       "9  0.0789063   0.097844  0.396565"
      ]
     },
     "execution_count": 35,
     "metadata": {},
     "output_type": "execute_result"
    }
   ],
   "source": [
    "df "
   ]
  },
  {
   "cell_type": "code",
   "execution_count": 36,
   "id": "378e038c",
   "metadata": {
    "ExecuteTime": {
     "end_time": "2022-07-06T02:10:27.220276Z",
     "start_time": "2022-07-06T02:10:27.041564Z"
    }
   },
   "outputs": [
    {
     "name": "stderr",
     "output_type": "stream",
     "text": [
      "No handles with labels found to put in legend.\n"
     ]
    },
    {
     "data": {
      "image/png": "[encoded data removed]",
      "text/plain": [
       "<Figure size 432x288 with 1 Axes>"
      ]
     },
     "metadata": {
      "needs_background": "light"
     },
     "output_type": "display_data"
    }
   ],
   "source": [
    "for i in range(df.shape[1]):\n",
    "    plt.plot(range(10),df.iloc[:,i],c=color[i])\n",
    "plt.legend()\n",
    "plt.show()\n"
   ]
  },
  {
   "cell_type": "code",
   "execution_count": 37,
   "id": "9c118f58",
   "metadata": {
    "ExecuteTime": {
     "end_time": "2022-07-06T02:10:27.237563Z",
     "start_time": "2022-07-06T02:10:27.224943Z"
    }
   },
   "outputs": [
    {
     "data": {
      "text/plain": [
       "2.4725653911460683"
      ]
     },
     "execution_count": 37,
     "metadata": {},
     "output_type": "execute_result"
    }
   ],
   "source": [
    "# log loss\n",
    "from sklearn.metrics import log_loss \n",
    "log_loss(ytest,prob) "
   ]
  },
  {
   "cell_type": "code",
   "execution_count": 38,
   "id": "a12a0d12",
   "metadata": {
    "ExecuteTime": {
     "end_time": "2022-07-06T02:10:27.254141Z",
     "start_time": "2022-07-06T02:10:27.239181Z"
    }
   },
   "outputs": [
    {
     "data": {
      "text/plain": [
       "0.12753849731379807"
      ]
     },
     "execution_count": 38,
     "metadata": {},
     "output_type": "execute_result"
    }
   ],
   "source": [
    "log_loss(ytest,logi.predict_proba(Xtest)) "
   ]
  },
  {
   "cell_type": "code",
   "execution_count": 39,
   "id": "3253db0b",
   "metadata": {
    "ExecuteTime": {
     "end_time": "2022-07-06T02:10:27.277778Z",
     "start_time": "2022-07-06T02:10:27.262134Z"
    }
   },
   "outputs": [
    {
     "data": {
      "text/plain": [
       "1.6074987533411256"
      ]
     },
     "execution_count": 39,
     "metadata": {},
     "output_type": "execute_result"
    }
   ],
   "source": [
    "log_loss(ytest,svc_prob) "
   ]
  },
  {
   "cell_type": "code",
   "execution_count": 40,
   "id": "17ccd405",
   "metadata": {
    "ExecuteTime": {
     "end_time": "2022-07-06T02:10:27.741677Z",
     "start_time": "2022-07-06T02:10:27.737449Z"
    }
   },
   "outputs": [],
   "source": [
    "### reliability Curve \n",
    "import numpy as np\n",
    "import matplotlib.pyplot as plt\n",
    "from sklearn.datasets import make_classification as mc\n",
    "from sklearn.naive_bayes import GaussianNB\n",
    "from sklearn.svm import SVC\n",
    "from sklearn.linear_model import LogisticRegression as LR\n",
    "from sklearn.metrics import brier_score_loss\n",
    "from sklearn.model_selection import train_test_split "
   ]
  },
  {
   "cell_type": "code",
   "execution_count": 41,
   "id": "cb082ac4",
   "metadata": {
    "ExecuteTime": {
     "end_time": "2022-07-06T02:10:28.248434Z",
     "start_time": "2022-07-06T02:10:28.117663Z"
    }
   },
   "outputs": [],
   "source": [
    "X, y = mc(n_samples=100000,n_features=20 #总共20个特征\n",
    ",n_classes=2 #标签为2分类\n",
    ",n_informative=2 #其中两个代表较多信息\n",
    ",n_redundant=10 #10个都是冗余特征\n",
    ",random_state=42) "
   ]
  },
  {
   "cell_type": "code",
   "execution_count": 42,
   "id": "2ecb297f",
   "metadata": {
    "ExecuteTime": {
     "end_time": "2022-07-06T02:10:28.441801Z",
     "start_time": "2022-07-06T02:10:28.437253Z"
    }
   },
   "outputs": [
    {
     "data": {
      "text/plain": [
       "(100000, 20)"
      ]
     },
     "execution_count": 42,
     "metadata": {},
     "output_type": "execute_result"
    }
   ],
   "source": [
    "X.shape "
   ]
  },
  {
   "cell_type": "code",
   "execution_count": 43,
   "id": "5f35cb7a",
   "metadata": {
    "ExecuteTime": {
     "end_time": "2022-07-06T02:10:28.698585Z",
     "start_time": "2022-07-06T02:10:28.692320Z"
    }
   },
   "outputs": [
    {
     "data": {
      "text/plain": [
       "array([0, 1])"
      ]
     },
     "execution_count": 43,
     "metadata": {},
     "output_type": "execute_result"
    }
   ],
   "source": [
    "np.unique(y) "
   ]
  },
  {
   "cell_type": "code",
   "execution_count": 44,
   "id": "86e22cbf",
   "metadata": {
    "ExecuteTime": {
     "end_time": "2022-07-06T02:10:28.975001Z",
     "start_time": "2022-07-06T02:10:28.958475Z"
    }
   },
   "outputs": [],
   "source": [
    "Xtrain, Xtest,Ytrain,Ytest = train_test_split(X,y, test_size= 0.99, random_state= 42) "
   ]
  },
  {
   "cell_type": "code",
   "execution_count": 45,
   "id": "4eb859dd",
   "metadata": {
    "ExecuteTime": {
     "end_time": "2022-07-06T02:10:29.437641Z",
     "start_time": "2022-07-06T02:10:29.432512Z"
    }
   },
   "outputs": [
    {
     "data": {
      "text/plain": [
       "(1000, 20)"
      ]
     },
     "execution_count": 45,
     "metadata": {},
     "output_type": "execute_result"
    }
   ],
   "source": [
    "Xtrain.shape "
   ]
  },
  {
   "cell_type": "code",
   "execution_count": 46,
   "id": "8318bf73",
   "metadata": {
    "ExecuteTime": {
     "end_time": "2022-07-06T02:10:29.665446Z",
     "start_time": "2022-07-06T02:10:29.661012Z"
    }
   },
   "outputs": [
    {
     "data": {
      "text/plain": [
       "(99000, 20)"
      ]
     },
     "execution_count": 46,
     "metadata": {},
     "output_type": "execute_result"
    }
   ],
   "source": [
    "Xtest.shape "
   ]
  },
  {
   "cell_type": "code",
   "execution_count": 47,
   "id": "c092329a",
   "metadata": {
    "ExecuteTime": {
     "end_time": "2022-07-06T02:10:29.932557Z",
     "start_time": "2022-07-06T02:10:29.838734Z"
    }
   },
   "outputs": [],
   "source": [
    "gnb = GaussianNB() \n",
    "gnb.fit(Xtrain,Ytrain) \n",
    "y_pred = gnb.predict(Xtest) \n",
    "prob_pos = gnb.predict_proba(Xtest)[:,1] "
   ]
  },
  {
   "cell_type": "code",
   "execution_count": 48,
   "id": "37dda4f4",
   "metadata": {
    "ExecuteTime": {
     "end_time": "2022-07-06T02:10:30.014551Z",
     "start_time": "2022-07-06T02:10:30.010792Z"
    }
   },
   "outputs": [],
   "source": [
    "df = pd.DataFrame({'ytrue':Ytest[:500],'probability':prob_pos[:500]}) \n"
   ]
  },
  {
   "cell_type": "code",
   "execution_count": 49,
   "id": "d6e7e785",
   "metadata": {
    "ExecuteTime": {
     "end_time": "2022-07-06T02:10:30.194144Z",
     "start_time": "2022-07-06T02:10:30.182572Z"
    }
   },
   "outputs": [
    {
     "data": {
      "text/html": [
       "<div>\n",
       "<style scoped>\n",
       "    .dataframe tbody tr th:only-of-type {\n",
       "        vertical-align: middle;\n",
       "    }\n",
       "\n",
       "    .dataframe tbody tr th {\n",
       "        vertical-align: top;\n",
       "    }\n",
       "\n",
       "    .dataframe thead th {\n",
       "        text-align: right;\n",
       "    }\n",
       "</style>\n",
       "<table border=\"1\" class=\"dataframe\">\n",
       "  <thead>\n",
       "    <tr style=\"text-align: right;\">\n",
       "      <th></th>\n",
       "      <th>ytrue</th>\n",
       "      <th>probability</th>\n",
       "    </tr>\n",
       "  </thead>\n",
       "  <tbody>\n",
       "    <tr>\n",
       "      <th>0</th>\n",
       "      <td>1</td>\n",
       "      <td>9.999997e-01</td>\n",
       "    </tr>\n",
       "    <tr>\n",
       "      <th>1</th>\n",
       "      <td>0</td>\n",
       "      <td>9.999964e-01</td>\n",
       "    </tr>\n",
       "    <tr>\n",
       "      <th>2</th>\n",
       "      <td>1</td>\n",
       "      <td>1.000000e+00</td>\n",
       "    </tr>\n",
       "    <tr>\n",
       "      <th>3</th>\n",
       "      <td>1</td>\n",
       "      <td>9.886612e-01</td>\n",
       "    </tr>\n",
       "    <tr>\n",
       "      <th>4</th>\n",
       "      <td>0</td>\n",
       "      <td>8.441773e-18</td>\n",
       "    </tr>\n",
       "    <tr>\n",
       "      <th>...</th>\n",
       "      <td>...</td>\n",
       "      <td>...</td>\n",
       "    </tr>\n",
       "    <tr>\n",
       "      <th>495</th>\n",
       "      <td>0</td>\n",
       "      <td>9.224911e-04</td>\n",
       "    </tr>\n",
       "    <tr>\n",
       "      <th>496</th>\n",
       "      <td>1</td>\n",
       "      <td>9.931903e-01</td>\n",
       "    </tr>\n",
       "    <tr>\n",
       "      <th>497</th>\n",
       "      <td>0</td>\n",
       "      <td>5.670253e-06</td>\n",
       "    </tr>\n",
       "    <tr>\n",
       "      <th>498</th>\n",
       "      <td>0</td>\n",
       "      <td>8.248345e-08</td>\n",
       "    </tr>\n",
       "    <tr>\n",
       "      <th>499</th>\n",
       "      <td>0</td>\n",
       "      <td>4.655974e-16</td>\n",
       "    </tr>\n",
       "  </tbody>\n",
       "</table>\n",
       "<p>500 rows × 2 columns</p>\n",
       "</div>"
      ],
      "text/plain": [
       "     ytrue   probability\n",
       "0        1  9.999997e-01\n",
       "1        0  9.999964e-01\n",
       "2        1  1.000000e+00\n",
       "3        1  9.886612e-01\n",
       "4        0  8.441773e-18\n",
       "..     ...           ...\n",
       "495      0  9.224911e-04\n",
       "496      1  9.931903e-01\n",
       "497      0  5.670253e-06\n",
       "498      0  8.248345e-08\n",
       "499      0  4.655974e-16\n",
       "\n",
       "[500 rows x 2 columns]"
      ]
     },
     "execution_count": 49,
     "metadata": {},
     "output_type": "execute_result"
    }
   ],
   "source": [
    "df "
   ]
  },
  {
   "cell_type": "code",
   "execution_count": 50,
   "id": "1cc34bcc",
   "metadata": {
    "ExecuteTime": {
     "end_time": "2022-07-06T02:10:30.365414Z",
     "start_time": "2022-07-06T02:10:30.361453Z"
    }
   },
   "outputs": [],
   "source": [
    "df = df.sort_values(by = 'probability',ascending= True) "
   ]
  },
  {
   "cell_type": "code",
   "execution_count": 51,
   "id": "6f927dff",
   "metadata": {
    "ExecuteTime": {
     "end_time": "2022-07-06T02:10:30.536633Z",
     "start_time": "2022-07-06T02:10:30.533162Z"
    }
   },
   "outputs": [],
   "source": [
    "df.index = range(df.shape[0]) "
   ]
  },
  {
   "cell_type": "code",
   "execution_count": 52,
   "id": "1b029053",
   "metadata": {
    "ExecuteTime": {
     "end_time": "2022-07-06T02:10:30.709597Z",
     "start_time": "2022-07-06T02:10:30.698153Z"
    }
   },
   "outputs": [
    {
     "data": {
      "text/html": [
       "<div>\n",
       "<style scoped>\n",
       "    .dataframe tbody tr th:only-of-type {\n",
       "        vertical-align: middle;\n",
       "    }\n",
       "\n",
       "    .dataframe tbody tr th {\n",
       "        vertical-align: top;\n",
       "    }\n",
       "\n",
       "    .dataframe thead th {\n",
       "        text-align: right;\n",
       "    }\n",
       "</style>\n",
       "<table border=\"1\" class=\"dataframe\">\n",
       "  <thead>\n",
       "    <tr style=\"text-align: right;\">\n",
       "      <th></th>\n",
       "      <th>ytrue</th>\n",
       "      <th>probability</th>\n",
       "    </tr>\n",
       "  </thead>\n",
       "  <tbody>\n",
       "    <tr>\n",
       "      <th>0</th>\n",
       "      <td>0</td>\n",
       "      <td>1.824809e-21</td>\n",
       "    </tr>\n",
       "    <tr>\n",
       "      <th>1</th>\n",
       "      <td>0</td>\n",
       "      <td>6.610435e-21</td>\n",
       "    </tr>\n",
       "    <tr>\n",
       "      <th>2</th>\n",
       "      <td>0</td>\n",
       "      <td>4.171566e-19</td>\n",
       "    </tr>\n",
       "    <tr>\n",
       "      <th>3</th>\n",
       "      <td>0</td>\n",
       "      <td>8.441773e-18</td>\n",
       "    </tr>\n",
       "    <tr>\n",
       "      <th>4</th>\n",
       "      <td>0</td>\n",
       "      <td>1.463199e-17</td>\n",
       "    </tr>\n",
       "    <tr>\n",
       "      <th>...</th>\n",
       "      <td>...</td>\n",
       "      <td>...</td>\n",
       "    </tr>\n",
       "    <tr>\n",
       "      <th>495</th>\n",
       "      <td>1</td>\n",
       "      <td>1.000000e+00</td>\n",
       "    </tr>\n",
       "    <tr>\n",
       "      <th>496</th>\n",
       "      <td>1</td>\n",
       "      <td>1.000000e+00</td>\n",
       "    </tr>\n",
       "    <tr>\n",
       "      <th>497</th>\n",
       "      <td>1</td>\n",
       "      <td>1.000000e+00</td>\n",
       "    </tr>\n",
       "    <tr>\n",
       "      <th>498</th>\n",
       "      <td>1</td>\n",
       "      <td>1.000000e+00</td>\n",
       "    </tr>\n",
       "    <tr>\n",
       "      <th>499</th>\n",
       "      <td>1</td>\n",
       "      <td>1.000000e+00</td>\n",
       "    </tr>\n",
       "  </tbody>\n",
       "</table>\n",
       "<p>500 rows × 2 columns</p>\n",
       "</div>"
      ],
      "text/plain": [
       "     ytrue   probability\n",
       "0        0  1.824809e-21\n",
       "1        0  6.610435e-21\n",
       "2        0  4.171566e-19\n",
       "3        0  8.441773e-18\n",
       "4        0  1.463199e-17\n",
       "..     ...           ...\n",
       "495      1  1.000000e+00\n",
       "496      1  1.000000e+00\n",
       "497      1  1.000000e+00\n",
       "498      1  1.000000e+00\n",
       "499      1  1.000000e+00\n",
       "\n",
       "[500 rows x 2 columns]"
      ]
     },
     "execution_count": 52,
     "metadata": {},
     "output_type": "execute_result"
    }
   ],
   "source": [
    "df "
   ]
  },
  {
   "cell_type": "code",
   "execution_count": 53,
   "id": "522a1003",
   "metadata": {
    "ExecuteTime": {
     "end_time": "2022-07-06T02:10:31.060266Z",
     "start_time": "2022-07-06T02:10:30.877336Z"
    }
   },
   "outputs": [
    {
     "data": {
      "image/png": "[encoded data removed]",
      "text/plain": [
       "<Figure size 432x288 with 1 Axes>"
      ]
     },
     "metadata": {
      "needs_background": "light"
     },
     "output_type": "display_data"
    }
   ],
   "source": [
    "##reliability curve \n",
    "## MESSY \n",
    "fig = plt.figure()\n",
    "ax1 = plt.subplot()\n",
    "ax1.plot([0, 1], [0, 1], \"k:\", label=\"Perfectly calibrated\") #得做一条对角线来对比呀\n",
    "ax1.plot(df[\"probability\"],df[\"ytrue\"])\n",
    "ax1.set_ylabel(\"True label\")\n",
    "ax1.set_xlabel(\"predcited probability\")\n",
    "ax1.set_ylim([-0.05, 1.05])\n",
    "ax1.legend()\n",
    "plt.show() "
   ]
  },
  {
   "cell_type": "code",
   "execution_count": 54,
   "id": "61f8f0a2",
   "metadata": {
    "ExecuteTime": {
     "end_time": "2022-07-06T02:10:31.353626Z",
     "start_time": "2022-07-06T02:10:31.062673Z"
    }
   },
   "outputs": [
    {
     "data": {
      "image/png": "[encoded data removed]",
      "text/plain": [
       "<Figure size 432x288 with 1 Axes>"
      ]
     },
     "metadata": {
      "needs_background": "light"
     },
     "output_type": "display_data"
    }
   ],
   "source": [
    "fig = plt.figure() \n",
    "ax1 = plt.subplot() \n",
    "ax1.plot([0,1],[0,1],'k:',label = 'Perfectly calibrated') \n",
    "ax1.scatter(df['probability'],df['ytrue']) \n",
    "ax1.set_ylabel('True Label') \n",
    "ax1.set_xlabel('Predicted Probability') \n",
    "ax1.set_ylim([-0.05,1.05]) \n",
    "ax1.legend() \n",
    "plt.show() "
   ]
  },
  {
   "cell_type": "code",
   "execution_count": 55,
   "id": "f911c9f9",
   "metadata": {
    "ExecuteTime": {
     "end_time": "2022-07-06T02:10:31.638552Z",
     "start_time": "2022-07-06T02:10:31.454015Z"
    }
   },
   "outputs": [
    {
     "data": {
      "image/png": "[encoded data removed]",
      "text/plain": [
       "<Figure size 432x288 with 1 Axes>"
      ]
     },
     "metadata": {
      "needs_background": "light"
     },
     "output_type": "display_data"
    }
   ],
   "source": [
    "## calibration curve \n",
    "from sklearn.calibration import calibration_curve \n",
    "trueproba, predproba = calibration_curve(Ytest,prob_pos,\n",
    "                                         n_bins = 10) # 希望分箱的箱数) \n",
    "fig = plt.figure()\n",
    "ax1 = plt.subplot()\n",
    "ax1.plot([0, 1], [0, 1], \"k:\", label=\"Perfectly calibrated\")\n",
    "ax1.plot(predproba, trueproba,\"s-\") \n",
    "ax1.set_ylabel(\"True probability for class 1\")\n",
    "ax1.set_xlabel(\"Mean predcited probability\")\n",
    "ax1.set_ylim([-0.05, 1.05])\n",
    "ax1.legend()\n",
    "plt.show()                                        "
   ]
  },
  {
   "cell_type": "code",
   "execution_count": 56,
   "id": "778e9c41",
   "metadata": {
    "ExecuteTime": {
     "end_time": "2022-07-06T02:10:32.223667Z",
     "start_time": "2022-07-06T02:10:31.731640Z"
    }
   },
   "outputs": [
    {
     "data": {
      "image/png": "[encoded data removed]",
      "text/plain": [
       "<Figure size 1296x288 with 3 Axes>"
      ]
     },
     "metadata": {
      "needs_background": "light"
     },
     "output_type": "display_data"
    }
   ],
   "source": [
    "### different n_bins \n",
    "fig,axes = plt.subplots(1,3,figsize = (18,4)) \n",
    "for ind, i in enumerate([3,10,100]): \n",
    "    ax = axes[ind] \n",
    "    ax.plot([0, 1], [0, 1], \"k:\", label=\"Perfectly calibrated\")\n",
    "    trueproba, predproba = calibration_curve(Ytest,prob_pos,n_bins = i) \n",
    "    ax.plot(predproba,trueproba,'s-',label = 'n_bins = {}'.format(i))\n",
    "    ax.set_ylabel('True probability for class1') \n",
    "    ax.set_xlabel('Mean predicted probability') \n",
    "    ax.set_ylim([-0.05,1.05]) \n",
    "    ax.legend() \n",
    "plt.show() "
   ]
  },
  {
   "cell_type": "code",
   "execution_count": 57,
   "id": "d82328f6",
   "metadata": {
    "ExecuteTime": {
     "end_time": "2022-07-06T02:10:32.230922Z",
     "start_time": "2022-07-06T02:10:32.226960Z"
    }
   },
   "outputs": [],
   "source": [
    "# different models  \n",
    "name = ['Gaussian Bayes','Logistics','SVC'] \n",
    "gnb = GaussianNB() \n",
    "logi = LR(C=1,\n",
    "         solver = 'lbfgs', \n",
    "         max_iter = 3000, \n",
    "         multi_class= 'auto') \n",
    "svc = SVC(kernel = 'linear',gamma = 1) \n",
    "\n"
   ]
  },
  {
   "cell_type": "code",
   "execution_count": 58,
   "id": "175a2f61",
   "metadata": {
    "ExecuteTime": {
     "end_time": "2022-07-06T02:10:34.594488Z",
     "start_time": "2022-07-06T02:10:32.233156Z"
    }
   },
   "outputs": [
    {
     "data": {
      "image/png": "[encoded data removed]",
      "text/plain": [
       "<Figure size 576x432 with 1 Axes>"
      ]
     },
     "metadata": {
      "needs_background": "light"
     },
     "output_type": "display_data"
    }
   ],
   "source": [
    "## 绘制多个模型的概率校准曲线 \n",
    "fig,ax1 = plt.subplots(figsize = (8,6)) \n",
    "ax1.plot([0,1],[0,1],\"k:\", label=\"Perfectly calibrated\") \n",
    "for clf,name_ in zip([gnb,logi,svc],name): \n",
    "    clf.fit(Xtrain,Ytrain) \n",
    "    y_pred = clf.predict(Xtest) \n",
    "    if hasattr(clf,'predict_proba'): \n",
    "        prob_pos = clf.predict_proba(Xtest)[:,1] \n",
    "    else: \n",
    "        prob_pos = clf.decision_function(Xtest) \n",
    "        prob_pos = (prob_pos - prob_pos.min())/(prob_pos.max() - prob_pos.min()) \n",
    "        \n",
    "    clf_score = brier_score_loss(Ytest,prob_pos,pos_label = y.max()) \n",
    "    trueproba, predproba = calibration_curve(Ytest,prob_pos,n_bins = 10) \n",
    "    ax1.plot(predproba,trueproba,'s-',label=\"%s (%1.3f)\" % (name_, clf_score)) \n",
    "ax1.set_ylabel('True probability for class1') \n",
    "ax1.set_xlabel('Mean predicted Probability') \n",
    "ax1.set_ylim([-0.05,1.05]) \n",
    "ax1.legend() \n",
    "ax1.set_title('Calibration plot') \n",
    "plt.show() \n",
    "\n"
   ]
  },
  {
   "cell_type": "code",
   "execution_count": 59,
   "id": "7e28f9c0",
   "metadata": {
    "ExecuteTime": {
     "end_time": "2022-07-06T02:10:36.870530Z",
     "start_time": "2022-07-06T02:10:34.597668Z"
    }
   },
   "outputs": [
    {
     "data": {
      "image/png": "[encoded data removed]",
      "text/plain": [
       "<Figure size 576x432 with 1 Axes>"
      ]
     },
     "metadata": {
      "needs_background": "light"
     },
     "output_type": "display_data"
    }
   ],
   "source": [
    "## 预测概率直方图 \n",
    "fig,ax2 = plt.subplots(figsize = (8,6)) \n",
    "for clf,name_ in zip([gnb,logi,svc],name): \n",
    "    clf.fit(Xtrain,Ytrain) \n",
    "    y_pred = clf.predict(Xtest) \n",
    "    if hasattr(clf,\"predict_proba\"): \n",
    "        prob_pos = clf.predict_proba(Xtest)[:,1]\n",
    "    else: \n",
    "        prob_pos = clf.decision_function(Xtest) \n",
    "        prob_pos = (prob_pos - prob_pos.min())/(prob_pos.max()-prob_pos.min()) \n",
    "    ax2.hist(prob_pos, bins = 10, label = name_, \n",
    "            histtype = \"step\", lw = 2) \n",
    "ax2.set_ylabel('Distribution of probability') \n",
    "ax2.set_xlabel('Mean predicted probability') \n",
    "ax2.set_xlim([-0.05,1.05]) \n",
    "ax2.set_xticks([0,0.1,0.2,0.3,0.4,0.5,0.6,0.7,0.8,0.9,1.0]) \n",
    "ax2.legend(loc = 9)\n",
    "plt.show() "
   ]
  },
  {
   "cell_type": "code",
   "execution_count": 60,
   "id": "02ac248c",
   "metadata": {
    "ExecuteTime": {
     "end_time": "2022-07-06T02:10:36.883209Z",
     "start_time": "2022-07-06T02:10:36.872723Z"
    }
   },
   "outputs": [],
   "source": [
    "## 校准可靠性曲线 \n",
    "## calibrate reliability curve \n",
    "def plot_calib(models,name,Xtrain,Xtest,Ytrain,Ytest,n_bins=10):\n",
    "    import matplotlib.pyplot as plt\n",
    "    from sklearn.metrics import brier_score_loss\n",
    "    from sklearn.calibration import calibration_curve \n",
    "    \n",
    "    fig, (ax1, ax2) = plt.subplots(1, 2,figsize=(20,6))\n",
    "    ax1.plot([0, 1], [0, 1], \"k:\", label=\"Perfectly calibrated\")\n",
    "    for clf, name_ in zip(models,name):\n",
    "        clf.fit(Xtrain,Ytrain)\n",
    "        y_pred = clf.predict(Xtest)\n",
    "        #hasattr(obj,name)：查看一个类obj中是否存在名字为name的接口，存在则返回True\n",
    "        if hasattr(clf, \"predict_proba\"):\n",
    "            prob_pos = clf.predict_proba(Xtest)[:,1]\n",
    "        else: # use decision function\n",
    "            prob_pos = clf.decision_function(Xtest)\n",
    "            prob_pos = (prob_pos - prob_pos.min()) / (prob_pos.max() - prob_pos.min())\n",
    "#返回布里尔分数\n",
    "        clf_score = brier_score_loss(Ytest, prob_pos, pos_label=y.max())\n",
    "        trueproba, predproba = calibration_curve(Ytest, prob_pos,n_bins=n_bins)\n",
    "        ax1.plot(predproba, trueproba,\"s-\",label=\"%s (%1.3f)\" % (name_, clf_score))\n",
    "        ax2.hist(prob_pos, range=(0, 1), bins=n_bins, label=name_,histtype=\"step\",lw=2)\n",
    "    ax2.set_ylabel(\"Distribution of probability\")\n",
    "    ax2.set_xlabel(\"Mean predicted probability\")\n",
    "    ax2.set_xlim([-0.05, 1.05])\n",
    "    ax2.legend(loc=9)\n",
    "    ax2.set_title(\"Distribution of probablity\")\n",
    "    ax1.set_ylabel(\"True probability for class 1\")\n",
    "    ax1.set_xlabel(\"Mean predcited probability\")\n",
    "    ax1.set_ylim([-0.05, 1.05])\n",
    "    ax1.legend()\n",
    "    ax1.set_title('Calibration plots(reliability curve)')\n",
    "    plt.show()"
   ]
  },
  {
   "cell_type": "code",
   "execution_count": 61,
   "id": "2c54e769",
   "metadata": {
    "ExecuteTime": {
     "end_time": "2022-07-06T02:10:37.874858Z",
     "start_time": "2022-07-06T02:10:36.885733Z"
    }
   },
   "outputs": [
    {
     "data": {
      "image/png": "[encoded data removed]",
      "text/plain": [
       "<Figure size 1440x432 with 2 Axes>"
      ]
     },
     "metadata": {
      "needs_background": "light"
     },
     "output_type": "display_data"
    }
   ],
   "source": [
    "from sklearn.calibration import CalibratedClassifierCV\n",
    "name = [\"GaussianBayes\",\"Logistic\",\"Bayes+isotonic\",\"Bayes+sigmoid\"]\n",
    "gnb = GaussianNB()\n",
    "models = [gnb\n",
    ",LR(C=1., solver='lbfgs',max_iter=3000,multi_class=\"auto\")\n",
    "#定义两种校准方式\n",
    ",CalibratedClassifierCV(gnb, cv=2, method='isotonic')\n",
    ",CalibratedClassifierCV(gnb, cv=2, method='sigmoid')]\n",
    "plot_calib(models,name,Xtrain,Xtest,Ytrain,Ytest)\n"
   ]
  },
  {
   "cell_type": "code",
   "execution_count": 62,
   "id": "33e310f9",
   "metadata": {
    "ExecuteTime": {
     "end_time": "2022-07-06T02:10:37.944403Z",
     "start_time": "2022-07-06T02:10:37.877228Z"
    }
   },
   "outputs": [
    {
     "data": {
      "text/plain": [
       "0.8650606060606061"
      ]
     },
     "execution_count": 62,
     "metadata": {},
     "output_type": "execute_result"
    }
   ],
   "source": [
    "## 查看精确性变化 \n",
    "gnb = GaussianNB().fit(Xtrain,Ytrain) \n",
    "gnb.score(Xtest,Ytest) "
   ]
  },
  {
   "cell_type": "code",
   "execution_count": 63,
   "id": "3f7df9c2",
   "metadata": {
    "ExecuteTime": {
     "end_time": "2022-07-06T02:10:37.999715Z",
     "start_time": "2022-07-06T02:10:37.948549Z"
    }
   },
   "outputs": [
    {
     "data": {
      "text/plain": [
       "0.11760826355000835"
      ]
     },
     "execution_count": 63,
     "metadata": {},
     "output_type": "execute_result"
    }
   ],
   "source": [
    "brier_score_loss(Ytest,gnb.predict_proba(Xtest)[:,1],pos_label = 1) "
   ]
  },
  {
   "cell_type": "code",
   "execution_count": 64,
   "id": "63a9745a",
   "metadata": {
    "ExecuteTime": {
     "end_time": "2022-07-06T02:10:38.122685Z",
     "start_time": "2022-07-06T02:10:38.001390Z"
    }
   },
   "outputs": [
    {
     "data": {
      "text/plain": [
       "0.8626767676767677"
      ]
     },
     "execution_count": 64,
     "metadata": {},
     "output_type": "execute_result"
    }
   ],
   "source": [
    "gnbisotonic = CalibratedClassifierCV(gnb,cv = 2,method = 'isotonic').fit(Xtrain,Ytrain) \n",
    "gnbisotonic.score(Xtest,Ytest) "
   ]
  },
  {
   "cell_type": "code",
   "execution_count": 65,
   "id": "36791f70",
   "metadata": {
    "ExecuteTime": {
     "end_time": "2022-07-06T02:10:38.222911Z",
     "start_time": "2022-07-06T02:10:38.124266Z"
    }
   },
   "outputs": [
    {
     "data": {
      "text/plain": [
       "0.09833190251353853"
      ]
     },
     "execution_count": 65,
     "metadata": {},
     "output_type": "execute_result"
    }
   ],
   "source": [
    "brier_score_loss(Ytest,gnbisotonic.predict_proba(Xtest)[:,1],pos_label=1) "
   ]
  },
  {
   "cell_type": "code",
   "execution_count": 66,
   "id": "2594d51b",
   "metadata": {
    "ExecuteTime": {
     "end_time": "2022-07-06T02:10:44.741044Z",
     "start_time": "2022-07-06T02:10:38.224531Z"
    }
   },
   "outputs": [
    {
     "data": {
      "image/png": "[encoded data removed]",
      "text/plain": [
       "<Figure size 1440x432 with 2 Axes>"
      ]
     },
     "metadata": {
      "needs_background": "light"
     },
     "output_type": "display_data"
    }
   ],
   "source": [
    "## calibrate svc \n",
    "name_svc = ['svc',\"Logistic\",\"svc+isotonic\",'svc+sigmoid'] \n",
    "svc = SVC(kernel = 'linear',gamma = 1) \n",
    "model_svc= [svc,LR(C=1,solver = 'lbfgs',max_iter= 3000,multi_class= 'auto'),\n",
    "           CalibratedClassifierCV(svc,cv = 2,method = 'isotonic'), \n",
    "           CalibratedClassifierCV(svc,cv = 2, method = 'sigmoid')] \n",
    "plot_calib(model_svc,name_svc,Xtrain,Xtest,Ytrain,Ytest) "
   ]
  },
  {
   "cell_type": "code",
   "execution_count": 67,
   "id": "71bb9ccf",
   "metadata": {
    "ExecuteTime": {
     "end_time": "2022-07-06T02:10:44.746772Z",
     "start_time": "2022-07-06T02:10:44.743392Z"
    }
   },
   "outputs": [],
   "source": [
    "## Multinomial Naive Bayes \n",
    "from sklearn.preprocessing import MinMaxScaler\n",
    "from sklearn.naive_bayes import MultinomialNB\n",
    "from sklearn.model_selection import train_test_split\n",
    "from sklearn.datasets import make_blobs\n",
    "from sklearn.metrics import brier_score_loss "
   ]
  },
  {
   "cell_type": "code",
   "execution_count": 68,
   "id": "4b0fec8a",
   "metadata": {
    "ExecuteTime": {
     "end_time": "2022-07-06T02:10:44.758328Z",
     "start_time": "2022-07-06T02:10:44.748992Z"
    }
   },
   "outputs": [],
   "source": [
    "class_1 = 500\n",
    "class_2 = 500 #两个类别分别设定500个样本\n",
    "centers = [[0.0, 0.0], [2.0, 2.0]] #设定两个类别的中心\n",
    "clusters_std = [0.5, 0.5] #设定两个类别的方差\n",
    "X, y = make_blobs(n_samples=[class_1, class_2],\n",
    "centers=centers,\n",
    "cluster_std=clusters_std,\n",
    "random_state=0, shuffle=False)\n",
    "Xtrain, Xtest, Ytrain, Ytest = train_test_split(X,y,test_size=0.3)\n"
   ]
  },
  {
   "cell_type": "code",
   "execution_count": 69,
   "id": "1522ecfd",
   "metadata": {
    "ExecuteTime": {
     "end_time": "2022-07-06T02:10:44.766406Z",
     "start_time": "2022-07-06T02:10:44.760778Z"
    }
   },
   "outputs": [
    {
     "data": {
      "text/plain": [
       "array([0, 1])"
      ]
     },
     "execution_count": 69,
     "metadata": {},
     "output_type": "execute_result"
    }
   ],
   "source": [
    "np.unique(y) "
   ]
  },
  {
   "cell_type": "code",
   "execution_count": 70,
   "id": "ee9bab34",
   "metadata": {
    "ExecuteTime": {
     "end_time": "2022-07-06T02:10:44.773622Z",
     "start_time": "2022-07-06T02:10:44.769289Z"
    }
   },
   "outputs": [],
   "source": [
    "## 归一化 \n",
    "mms = MinMaxScaler().fit(Xtrain) \n",
    "Xtrain_ = mms.transform(Xtrain) \n",
    "Xtest_ = mms.transform(Xtest) "
   ]
  },
  {
   "cell_type": "code",
   "execution_count": 71,
   "id": "19523001",
   "metadata": {
    "ExecuteTime": {
     "end_time": "2022-07-06T02:10:44.781690Z",
     "start_time": "2022-07-06T02:10:44.776169Z"
    }
   },
   "outputs": [],
   "source": [
    "## \n",
    "mnb = MultinomialNB().fit(Xtrain_,Ytrain) "
   ]
  },
  {
   "cell_type": "code",
   "execution_count": 72,
   "id": "b9863f91",
   "metadata": {
    "ExecuteTime": {
     "end_time": "2022-07-06T02:10:44.792375Z",
     "start_time": "2022-07-06T02:10:44.787596Z"
    }
   },
   "outputs": [
    {
     "data": {
      "text/plain": [
       "array([-0.73993934, -0.648447  ])"
      ]
     },
     "execution_count": 72,
     "metadata": {},
     "output_type": "execute_result"
    }
   ],
   "source": [
    "mnb.class_log_prior_ "
   ]
  },
  {
   "cell_type": "code",
   "execution_count": 73,
   "id": "3d6e0299",
   "metadata": {
    "ExecuteTime": {
     "end_time": "2022-07-06T02:10:44.800291Z",
     "start_time": "2022-07-06T02:10:44.794006Z"
    }
   },
   "outputs": [
    {
     "data": {
      "text/plain": [
       "0.5228571428571429"
      ]
     },
     "execution_count": 73,
     "metadata": {},
     "output_type": "execute_result"
    }
   ],
   "source": [
    "(Ytrain ==1).sum()/Ytrain.shape[0] "
   ]
  },
  {
   "cell_type": "code",
   "execution_count": 74,
   "id": "af83eeec",
   "metadata": {
    "ExecuteTime": {
     "end_time": "2022-07-06T02:10:44.808728Z",
     "start_time": "2022-07-06T02:10:44.802701Z"
    }
   },
   "outputs": [
    {
     "data": {
      "text/plain": [
       "array([0.47714286, 0.52285714])"
      ]
     },
     "execution_count": 74,
     "metadata": {},
     "output_type": "execute_result"
    }
   ],
   "source": [
    "## probability \n",
    "np.exp(mnb.class_log_prior_) "
   ]
  },
  {
   "cell_type": "code",
   "execution_count": 75,
   "id": "6cd3e75d",
   "metadata": {
    "ExecuteTime": {
     "end_time": "2022-07-06T02:10:44.816114Z",
     "start_time": "2022-07-06T02:10:44.811531Z"
    }
   },
   "outputs": [
    {
     "data": {
      "text/plain": [
       "array([[-0.76129826, -0.62934581],\n",
       "       [-0.72443164, -0.66281182]])"
      ]
     },
     "execution_count": 75,
     "metadata": {},
     "output_type": "execute_result"
    }
   ],
   "source": [
    "## feature_log_prob \n",
    "mnb.feature_log_prob_"
   ]
  },
  {
   "cell_type": "code",
   "execution_count": 76,
   "id": "b014e43c",
   "metadata": {
    "ExecuteTime": {
     "end_time": "2022-07-06T02:10:44.823067Z",
     "start_time": "2022-07-06T02:10:44.818392Z"
    }
   },
   "outputs": [
    {
     "data": {
      "text/plain": [
       "array([334., 366.])"
      ]
     },
     "execution_count": 76,
     "metadata": {},
     "output_type": "execute_result"
    }
   ],
   "source": [
    "## class_count \n",
    "mnb.class_count_ "
   ]
  },
  {
   "cell_type": "code",
   "execution_count": 77,
   "id": "f84bef35",
   "metadata": {
    "ExecuteTime": {
     "end_time": "2022-07-06T02:10:44.830804Z",
     "start_time": "2022-07-06T02:10:44.824736Z"
    }
   },
   "outputs": [
    {
     "data": {
      "text/plain": [
       "array([1, 1, 1, 1, 1, 1, 1, 1, 1, 1, 1, 1, 1, 1, 1, 1, 1, 1, 1, 1, 1, 1,\n",
       "       1, 1, 1, 1, 1, 1, 1, 1, 1, 1, 1, 1, 1, 1, 1, 1, 1, 1, 1, 1, 1, 1,\n",
       "       1, 1, 1, 1, 1, 1, 1, 1, 1, 1, 1, 1, 1, 1, 1, 1, 1, 1, 1, 1, 1, 1,\n",
       "       1, 1, 1, 1, 1, 1, 1, 1, 1, 1, 1, 1, 1, 1, 1, 1, 1, 1, 1, 1, 1, 1,\n",
       "       1, 1, 1, 1, 1, 1, 1, 1, 1, 1, 1, 1, 1, 1, 1, 1, 1, 1, 1, 1, 1, 1,\n",
       "       1, 1, 1, 1, 1, 1, 1, 1, 1, 1, 1, 1, 1, 1, 1, 1, 1, 1, 1, 1, 1, 1,\n",
       "       1, 1, 1, 1, 1, 1, 1, 1, 1, 1, 1, 1, 1, 1, 1, 1, 1, 1, 1, 1, 1, 1,\n",
       "       1, 1, 1, 1, 1, 1, 1, 1, 1, 1, 1, 1, 1, 1, 1, 1, 1, 1, 1, 1, 1, 1,\n",
       "       1, 1, 1, 1, 1, 1, 1, 1, 1, 1, 1, 1, 1, 1, 1, 1, 1, 1, 1, 1, 1, 1,\n",
       "       1, 1, 1, 1, 1, 1, 1, 1, 1, 1, 1, 1, 1, 1, 1, 1, 1, 1, 1, 1, 1, 1,\n",
       "       1, 1, 1, 1, 1, 1, 1, 1, 1, 1, 1, 1, 1, 1, 1, 1, 1, 1, 1, 1, 1, 1,\n",
       "       1, 1, 1, 1, 1, 1, 1, 1, 1, 1, 1, 1, 1, 1, 1, 1, 1, 1, 1, 1, 1, 1,\n",
       "       1, 1, 1, 1, 1, 1, 1, 1, 1, 1, 1, 1, 1, 1, 1, 1, 1, 1, 1, 1, 1, 1,\n",
       "       1, 1, 1, 1, 1, 1, 1, 1, 1, 1, 1, 1, 1, 1])"
      ]
     },
     "execution_count": 77,
     "metadata": {},
     "output_type": "execute_result"
    }
   ],
   "source": [
    "## predict, predict_proba \n",
    "mnb.predict(Xtest_) "
   ]
  },
  {
   "cell_type": "code",
   "execution_count": 78,
   "id": "7dbaa91d",
   "metadata": {
    "ExecuteTime": {
     "end_time": "2022-07-06T02:10:44.847507Z",
     "start_time": "2022-07-06T02:10:44.833013Z"
    }
   },
   "outputs": [
    {
     "data": {
      "text/plain": [
       "array([[0.47580657, 0.52419343],\n",
       "       [0.47574974, 0.52425026],\n",
       "       [0.47845615, 0.52154385],\n",
       "       [0.47718478, 0.52281522],\n",
       "       [0.47799402, 0.52200598],\n",
       "       [0.4755782 , 0.5244218 ],\n",
       "       [0.47712038, 0.52287962],\n",
       "       [0.47674115, 0.52325885],\n",
       "       [0.47914439, 0.52085561],\n",
       "       [0.47698334, 0.52301666],\n",
       "       [0.47543795, 0.52456205],\n",
       "       [0.4790983 , 0.5209017 ],\n",
       "       [0.4765261 , 0.5234739 ],\n",
       "       [0.4771908 , 0.5228092 ],\n",
       "       [0.4802018 , 0.5197982 ],\n",
       "       [0.47694425, 0.52305575],\n",
       "       [0.47924506, 0.52075494],\n",
       "       [0.47566237, 0.52433763],\n",
       "       [0.47838809, 0.52161191],\n",
       "       [0.47725792, 0.52274208],\n",
       "       [0.47603583, 0.52396417],\n",
       "       [0.47489976, 0.52510024],\n",
       "       [0.47536738, 0.52463262],\n",
       "       [0.47882872, 0.52117128],\n",
       "       [0.47652241, 0.52347759],\n",
       "       [0.47877871, 0.52122129],\n",
       "       [0.47743421, 0.52256579],\n",
       "       [0.47635266, 0.52364734],\n",
       "       [0.4773943 , 0.5226057 ],\n",
       "       [0.47895701, 0.52104299],\n",
       "       [0.47611998, 0.52388002],\n",
       "       [0.47621712, 0.52378288],\n",
       "       [0.47847404, 0.52152596],\n",
       "       [0.47781782, 0.52218218],\n",
       "       [0.47839437, 0.52160563],\n",
       "       [0.47592647, 0.52407353],\n",
       "       [0.47693057, 0.52306943],\n",
       "       [0.47701318, 0.52298682],\n",
       "       [0.47582367, 0.52417633],\n",
       "       [0.47733169, 0.52266831],\n",
       "       [0.47684185, 0.52315815],\n",
       "       [0.47611863, 0.52388137],\n",
       "       [0.47444711, 0.52555289],\n",
       "       [0.47533597, 0.52466403],\n",
       "       [0.47661065, 0.52338935],\n",
       "       [0.47788093, 0.52211907],\n",
       "       [0.47950349, 0.52049651],\n",
       "       [0.47668957, 0.52331043],\n",
       "       [0.47615213, 0.52384787],\n",
       "       [0.47774604, 0.52225396],\n",
       "       [0.47736097, 0.52263903],\n",
       "       [0.47776914, 0.52223086],\n",
       "       [0.47736659, 0.52263341],\n",
       "       [0.47657764, 0.52342236],\n",
       "       [0.47899093, 0.52100907],\n",
       "       [0.47841762, 0.52158238],\n",
       "       [0.47567249, 0.52432751],\n",
       "       [0.47637319, 0.52362681],\n",
       "       [0.4787076 , 0.5212924 ],\n",
       "       [0.4765097 , 0.5234903 ],\n",
       "       [0.47569701, 0.52430299],\n",
       "       [0.47794289, 0.52205711],\n",
       "       [0.47755366, 0.52244634],\n",
       "       [0.47719256, 0.52280744],\n",
       "       [0.47579847, 0.52420153],\n",
       "       [0.47511436, 0.52488564],\n",
       "       [0.47600074, 0.52399926],\n",
       "       [0.47575947, 0.52424053],\n",
       "       [0.47809154, 0.52190846],\n",
       "       [0.47508675, 0.52491325],\n",
       "       [0.47887652, 0.52112348],\n",
       "       [0.47772904, 0.52227096],\n",
       "       [0.47787621, 0.52212379],\n",
       "       [0.47832674, 0.52167326],\n",
       "       [0.4754943 , 0.5245057 ],\n",
       "       [0.47680565, 0.52319435],\n",
       "       [0.47533267, 0.52466733],\n",
       "       [0.47678772, 0.52321228],\n",
       "       [0.47683235, 0.52316765],\n",
       "       [0.47817112, 0.52182888],\n",
       "       [0.4771766 , 0.5228234 ],\n",
       "       [0.4784425 , 0.5215575 ],\n",
       "       [0.47652749, 0.52347251],\n",
       "       [0.47706145, 0.52293855],\n",
       "       [0.47466265, 0.52533735],\n",
       "       [0.47730542, 0.52269458],\n",
       "       [0.47691819, 0.52308181],\n",
       "       [0.47837783, 0.52162217],\n",
       "       [0.47509027, 0.52490973],\n",
       "       [0.47608164, 0.52391836],\n",
       "       [0.47643812, 0.52356188],\n",
       "       [0.47787473, 0.52212527],\n",
       "       [0.47971045, 0.52028955],\n",
       "       [0.47508257, 0.52491743],\n",
       "       [0.47704778, 0.52295222],\n",
       "       [0.475185  , 0.524815  ],\n",
       "       [0.47642159, 0.52357841],\n",
       "       [0.47907268, 0.52092732],\n",
       "       [0.47716152, 0.52283848],\n",
       "       [0.4771529 , 0.5228471 ],\n",
       "       [0.47787721, 0.52212279],\n",
       "       [0.47677863, 0.52322137],\n",
       "       [0.47800848, 0.52199152],\n",
       "       [0.47700212, 0.52299788],\n",
       "       [0.47711879, 0.52288121],\n",
       "       [0.47736344, 0.52263656],\n",
       "       [0.47723926, 0.52276074],\n",
       "       [0.47857063, 0.52142937],\n",
       "       [0.47633954, 0.52366046],\n",
       "       [0.47596896, 0.52403104],\n",
       "       [0.47811787, 0.52188213],\n",
       "       [0.47907005, 0.52092995],\n",
       "       [0.47736217, 0.52263783],\n",
       "       [0.47681687, 0.52318313],\n",
       "       [0.47553597, 0.52446403],\n",
       "       [0.47688335, 0.52311665],\n",
       "       [0.47819684, 0.52180316],\n",
       "       [0.47632363, 0.52367637],\n",
       "       [0.47701155, 0.52298845],\n",
       "       [0.47837758, 0.52162242],\n",
       "       [0.47532678, 0.52467322],\n",
       "       [0.47791325, 0.52208675],\n",
       "       [0.47783035, 0.52216965],\n",
       "       [0.47667012, 0.52332988],\n",
       "       [0.47542537, 0.52457463],\n",
       "       [0.4762581 , 0.5237419 ],\n",
       "       [0.4777373 , 0.5222627 ],\n",
       "       [0.47718871, 0.52281129],\n",
       "       [0.47632879, 0.52367121],\n",
       "       [0.47847783, 0.52152217],\n",
       "       [0.47507369, 0.52492631],\n",
       "       [0.4761044 , 0.5238956 ],\n",
       "       [0.47747486, 0.52252514],\n",
       "       [0.47659806, 0.52340194],\n",
       "       [0.4768769 , 0.5231231 ],\n",
       "       [0.47822371, 0.52177629],\n",
       "       [0.47632188, 0.52367812],\n",
       "       [0.47612078, 0.52387922],\n",
       "       [0.47648303, 0.52351697],\n",
       "       [0.47532522, 0.52467478],\n",
       "       [0.474253  , 0.525747  ],\n",
       "       [0.47691976, 0.52308024],\n",
       "       [0.47531206, 0.52468794],\n",
       "       [0.47819792, 0.52180208],\n",
       "       [0.47779038, 0.52220962],\n",
       "       [0.4778604 , 0.5221396 ],\n",
       "       [0.47712288, 0.52287712],\n",
       "       [0.47579496, 0.52420504],\n",
       "       [0.47474982, 0.52525018],\n",
       "       [0.47862406, 0.52137594],\n",
       "       [0.47854017, 0.52145983],\n",
       "       [0.47276016, 0.52723984],\n",
       "       [0.47403204, 0.52596796],\n",
       "       [0.47775128, 0.52224872],\n",
       "       [0.47509361, 0.52490639],\n",
       "       [0.47398885, 0.52601115],\n",
       "       [0.47672878, 0.52327122],\n",
       "       [0.47363148, 0.52636852],\n",
       "       [0.477242  , 0.522758  ],\n",
       "       [0.47552717, 0.52447283],\n",
       "       [0.47589054, 0.52410946],\n",
       "       [0.47507805, 0.52492195],\n",
       "       [0.48007941, 0.51992059],\n",
       "       [0.47640477, 0.52359523],\n",
       "       [0.4767431 , 0.5232569 ],\n",
       "       [0.47733802, 0.52266198],\n",
       "       [0.4769661 , 0.5230339 ],\n",
       "       [0.47657297, 0.52342703],\n",
       "       [0.47657067, 0.52342933],\n",
       "       [0.47447644, 0.52552356],\n",
       "       [0.47747028, 0.52252972],\n",
       "       [0.47399481, 0.52600519],\n",
       "       [0.47656597, 0.52343403],\n",
       "       [0.47616086, 0.52383914],\n",
       "       [0.47659448, 0.52340552],\n",
       "       [0.47856191, 0.52143809],\n",
       "       [0.47795498, 0.52204502],\n",
       "       [0.47643541, 0.52356459],\n",
       "       [0.47375998, 0.52624002],\n",
       "       [0.47499374, 0.52500626],\n",
       "       [0.47671912, 0.52328088],\n",
       "       [0.47711339, 0.52288661],\n",
       "       [0.47605938, 0.52394062],\n",
       "       [0.47761617, 0.52238383],\n",
       "       [0.47717976, 0.52282024],\n",
       "       [0.47460323, 0.52539677],\n",
       "       [0.47805503, 0.52194497],\n",
       "       [0.47589619, 0.52410381],\n",
       "       [0.47789774, 0.52210226],\n",
       "       [0.47659063, 0.52340937],\n",
       "       [0.47606775, 0.52393225],\n",
       "       [0.4759897 , 0.5240103 ],\n",
       "       [0.47711923, 0.52288077],\n",
       "       [0.47780413, 0.52219587],\n",
       "       [0.47747303, 0.52252697],\n",
       "       [0.47690058, 0.52309942],\n",
       "       [0.47660345, 0.52339655],\n",
       "       [0.47598263, 0.52401737],\n",
       "       [0.47791905, 0.52208095],\n",
       "       [0.47670403, 0.52329597],\n",
       "       [0.47618541, 0.52381459],\n",
       "       [0.47636386, 0.52363614],\n",
       "       [0.47594675, 0.52405325],\n",
       "       [0.47742896, 0.52257104],\n",
       "       [0.47685494, 0.52314506],\n",
       "       [0.47537268, 0.52462732],\n",
       "       [0.47652659, 0.52347341],\n",
       "       [0.47811719, 0.52188281],\n",
       "       [0.47703003, 0.52296997],\n",
       "       [0.47733563, 0.52266437],\n",
       "       [0.4772506 , 0.5227494 ],\n",
       "       [0.47675153, 0.52324847],\n",
       "       [0.4778226 , 0.5221774 ],\n",
       "       [0.47635636, 0.52364364],\n",
       "       [0.47645053, 0.52354947],\n",
       "       [0.47738804, 0.52261196],\n",
       "       [0.47775728, 0.52224272],\n",
       "       [0.47914878, 0.52085122],\n",
       "       [0.47606631, 0.52393369],\n",
       "       [0.47865752, 0.52134248],\n",
       "       [0.47647167, 0.52352833],\n",
       "       [0.47600453, 0.52399547],\n",
       "       [0.47859082, 0.52140918],\n",
       "       [0.47654888, 0.52345112],\n",
       "       [0.47833182, 0.52166818],\n",
       "       [0.4756409 , 0.5243591 ],\n",
       "       [0.47607066, 0.52392934],\n",
       "       [0.47687478, 0.52312522],\n",
       "       [0.47798791, 0.52201209],\n",
       "       [0.4755826 , 0.5244174 ],\n",
       "       [0.47556078, 0.52443922],\n",
       "       [0.47717419, 0.52282581],\n",
       "       [0.47687547, 0.52312453],\n",
       "       [0.47478632, 0.52521368],\n",
       "       [0.47914577, 0.52085423],\n",
       "       [0.47729964, 0.52270036],\n",
       "       [0.47525554, 0.52474446],\n",
       "       [0.47828157, 0.52171843],\n",
       "       [0.47607548, 0.52392452],\n",
       "       [0.47447325, 0.52552675],\n",
       "       [0.47597536, 0.52402464],\n",
       "       [0.47571854, 0.52428146],\n",
       "       [0.47716841, 0.52283159],\n",
       "       [0.47748586, 0.52251414],\n",
       "       [0.47566135, 0.52433865],\n",
       "       [0.47547281, 0.52452719],\n",
       "       [0.47608339, 0.52391661],\n",
       "       [0.47730809, 0.52269191],\n",
       "       [0.47733012, 0.52266988],\n",
       "       [0.47733879, 0.52266121],\n",
       "       [0.47681146, 0.52318854],\n",
       "       [0.47784785, 0.52215215],\n",
       "       [0.47718551, 0.52281449],\n",
       "       [0.47668126, 0.52331874],\n",
       "       [0.4772558 , 0.5227442 ],\n",
       "       [0.47691385, 0.52308615],\n",
       "       [0.4778153 , 0.5221847 ],\n",
       "       [0.47740323, 0.52259677],\n",
       "       [0.4785916 , 0.5214084 ],\n",
       "       [0.47581552, 0.52418448],\n",
       "       [0.47492032, 0.52507968],\n",
       "       [0.47767607, 0.52232393],\n",
       "       [0.47832826, 0.52167174],\n",
       "       [0.47541669, 0.52458331],\n",
       "       [0.47725086, 0.52274914],\n",
       "       [0.47442887, 0.52557113],\n",
       "       [0.4783067 , 0.5216933 ],\n",
       "       [0.4776133 , 0.5223867 ],\n",
       "       [0.4780366 , 0.5219634 ],\n",
       "       [0.4766267 , 0.5233733 ],\n",
       "       [0.47551251, 0.52448749],\n",
       "       [0.4779156 , 0.5220844 ],\n",
       "       [0.47658044, 0.52341956],\n",
       "       [0.47739281, 0.52260719],\n",
       "       [0.47766862, 0.52233138],\n",
       "       [0.47644263, 0.52355737],\n",
       "       [0.47413237, 0.52586763],\n",
       "       [0.47669263, 0.52330737],\n",
       "       [0.47761152, 0.52238848],\n",
       "       [0.47664731, 0.52335269],\n",
       "       [0.47723711, 0.52276289],\n",
       "       [0.4788574 , 0.5211426 ],\n",
       "       [0.47744041, 0.52255959],\n",
       "       [0.47638154, 0.52361846],\n",
       "       [0.47772379, 0.52227621],\n",
       "       [0.47840158, 0.52159842],\n",
       "       [0.47808734, 0.52191266],\n",
       "       [0.47783759, 0.52216241],\n",
       "       [0.4775345 , 0.5224655 ],\n",
       "       [0.47623339, 0.52376661],\n",
       "       [0.47600183, 0.52399817],\n",
       "       [0.47643086, 0.52356914],\n",
       "       [0.47733965, 0.52266035],\n",
       "       [0.47616829, 0.52383171],\n",
       "       [0.47918347, 0.52081653],\n",
       "       [0.47576563, 0.52423437],\n",
       "       [0.47633338, 0.52366662],\n",
       "       [0.47721331, 0.52278669],\n",
       "       [0.47654061, 0.52345939],\n",
       "       [0.47780204, 0.52219796]])"
      ]
     },
     "execution_count": 78,
     "metadata": {},
     "output_type": "execute_result"
    }
   ],
   "source": [
    "mnb.predict_proba(Xtest_) "
   ]
  },
  {
   "cell_type": "code",
   "execution_count": 79,
   "id": "bb657aff",
   "metadata": {
    "ExecuteTime": {
     "end_time": "2022-07-06T02:10:44.854554Z",
     "start_time": "2022-07-06T02:10:44.849249Z"
    }
   },
   "outputs": [
    {
     "data": {
      "text/plain": [
       "0.44666666666666666"
      ]
     },
     "execution_count": 79,
     "metadata": {},
     "output_type": "execute_result"
    }
   ],
   "source": [
    "mnb.score(Xtest_,Ytest) "
   ]
  },
  {
   "cell_type": "code",
   "execution_count": 80,
   "id": "bb90311d",
   "metadata": {
    "ExecuteTime": {
     "end_time": "2022-07-06T02:10:44.863354Z",
     "start_time": "2022-07-06T02:10:44.856718Z"
    }
   },
   "outputs": [
    {
     "data": {
      "text/plain": [
       "0.2529379788163027"
      ]
     },
     "execution_count": 80,
     "metadata": {},
     "output_type": "execute_result"
    }
   ],
   "source": [
    "brier_score_loss(Ytest,mnb.predict_proba(Xtest_)[:,1],pos_label=1) "
   ]
  },
  {
   "cell_type": "code",
   "execution_count": 81,
   "id": "f846b74c",
   "metadata": {
    "ExecuteTime": {
     "end_time": "2022-07-06T02:10:44.870226Z",
     "start_time": "2022-07-06T02:10:44.865461Z"
    }
   },
   "outputs": [],
   "source": [
    "#分箱 \n",
    "#Xtrain 转化为分类型数据 \n",
    "from sklearn.preprocessing import KBinsDiscretizer\n",
    "kbs = KBinsDiscretizer(n_bins = 10,encode = 'onehot').fit(Xtrain) "
   ]
  },
  {
   "cell_type": "code",
   "execution_count": 82,
   "id": "4936dc2e",
   "metadata": {
    "ExecuteTime": {
     "end_time": "2022-07-06T02:10:44.878009Z",
     "start_time": "2022-07-06T02:10:44.872252Z"
    }
   },
   "outputs": [],
   "source": [
    "Xtrain_ = kbs.transform(Xtrain) \n",
    "Xtest_ = kbs.transform(Xtest) \n"
   ]
  },
  {
   "cell_type": "code",
   "execution_count": 83,
   "id": "7bab27be",
   "metadata": {
    "ExecuteTime": {
     "end_time": "2022-07-06T02:10:44.887451Z",
     "start_time": "2022-07-06T02:10:44.880226Z"
    }
   },
   "outputs": [
    {
     "data": {
      "text/plain": [
       "0.9966666666666667"
      ]
     },
     "execution_count": 83,
     "metadata": {},
     "output_type": "execute_result"
    }
   ],
   "source": [
    "mnb = MultinomialNB().fit(Xtrain_,Ytrain) \n",
    "mnb.score(Xtest_,Ytest) "
   ]
  },
  {
   "cell_type": "code",
   "execution_count": 84,
   "id": "7f497b14",
   "metadata": {
    "ExecuteTime": {
     "end_time": "2022-07-06T02:10:44.895120Z",
     "start_time": "2022-07-06T02:10:44.889096Z"
    }
   },
   "outputs": [
    {
     "data": {
      "text/plain": [
       "0.005418560204369728"
      ]
     },
     "execution_count": 84,
     "metadata": {},
     "output_type": "execute_result"
    }
   ],
   "source": [
    "brier_score_loss(Ytest,mnb.predict_proba(Xtest_)[:,1],pos_label=1) "
   ]
  },
  {
   "cell_type": "code",
   "execution_count": 85,
   "id": "1a2aa120",
   "metadata": {
    "ExecuteTime": {
     "end_time": "2022-07-06T02:10:44.900389Z",
     "start_time": "2022-07-06T02:10:44.897321Z"
    }
   },
   "outputs": [],
   "source": [
    "# Bernuoli Bayes \n",
    "from sklearn.naive_bayes import BernoulliNB \n"
   ]
  },
  {
   "cell_type": "code",
   "execution_count": 86,
   "id": "4100e12c",
   "metadata": {
    "ExecuteTime": {
     "end_time": "2022-07-06T02:10:44.907254Z",
     "start_time": "2022-07-06T02:10:44.902517Z"
    }
   },
   "outputs": [],
   "source": [
    "# 归一化 \n",
    "mms = MinMaxScaler().fit(Xtrain) \n",
    "Xtrain_ = mms.transform(Xtrain) \n",
    "Xtest_ = mms.transform(Xtest) \n"
   ]
  },
  {
   "cell_type": "code",
   "execution_count": 87,
   "id": "3d38ebd1",
   "metadata": {
    "ExecuteTime": {
     "end_time": "2022-07-06T02:10:44.916693Z",
     "start_time": "2022-07-06T02:10:44.909587Z"
    }
   },
   "outputs": [
    {
     "data": {
      "text/plain": [
       "0.45666666666666667"
      ]
     },
     "execution_count": 87,
     "metadata": {},
     "output_type": "execute_result"
    }
   ],
   "source": [
    "# 不设置二值化\n",
    "bn1 = BernoulliNB().fit(Xtrain_,Ytrain) \n",
    "bn1.score(Xtest_,Ytest) "
   ]
  },
  {
   "cell_type": "code",
   "execution_count": 88,
   "id": "55858a90",
   "metadata": {
    "ExecuteTime": {
     "end_time": "2022-07-06T02:10:44.925052Z",
     "start_time": "2022-07-06T02:10:44.918328Z"
    }
   },
   "outputs": [
    {
     "data": {
      "text/plain": [
       "0.2515760995065559"
      ]
     },
     "execution_count": 88,
     "metadata": {},
     "output_type": "execute_result"
    }
   ],
   "source": [
    "brier_score_loss(Ytest,bn1.predict_proba(Xtest_)[:,1],pos_label=1) "
   ]
  },
  {
   "cell_type": "code",
   "execution_count": 89,
   "id": "73009c19",
   "metadata": {
    "ExecuteTime": {
     "end_time": "2022-07-06T02:10:44.934833Z",
     "start_time": "2022-07-06T02:10:44.927356Z"
    }
   },
   "outputs": [
    {
     "data": {
      "text/plain": [
       "0.9333333333333333"
      ]
     },
     "execution_count": 89,
     "metadata": {},
     "output_type": "execute_result"
    }
   ],
   "source": [
    "## 设置二值化 \n",
    "bn2 = BernoulliNB(binarize=0.5).fit(Xtrain_,Ytrain) \n",
    "bn2.score(Xtest,Ytest)  "
   ]
  },
  {
   "cell_type": "code",
   "execution_count": 90,
   "id": "00dcdfe4",
   "metadata": {
    "ExecuteTime": {
     "end_time": "2022-07-06T02:10:44.942954Z",
     "start_time": "2022-07-06T02:10:44.936665Z"
    }
   },
   "outputs": [
    {
     "data": {
      "text/plain": [
       "0.012047717940996546"
      ]
     },
     "execution_count": 90,
     "metadata": {},
     "output_type": "execute_result"
    }
   ],
   "source": [
    "brier_score_loss(Ytest,bn2.predict_proba(Xtest_)[:,1],pos_label=1) "
   ]
  },
  {
   "cell_type": "code",
   "execution_count": 91,
   "id": "5acf3f44",
   "metadata": {
    "ExecuteTime": {
     "end_time": "2022-07-06T02:10:44.960502Z",
     "start_time": "2022-07-06T02:10:44.944774Z"
    }
   },
   "outputs": [],
   "source": [
    "###探索数据样本不平衡\n",
    "\n",
    "from sklearn.naive_bayes import MultinomialNB, GaussianNB, BernoulliNB\n",
    "from sklearn.model_selection import train_test_split\n",
    "from sklearn.datasets import make_blobs\n",
    "from sklearn.preprocessing import KBinsDiscretizer\n",
    "from sklearn.metrics import brier_score_loss as BS,recall_score,roc_auc_score as AUC\n",
    "class_1 = 50000 #多数类为50000个样本\n",
    "class_2 = 500 #少数类为500个样本\n",
    "centers = [[0.0, 0.0], [5.0, 5.0]] #设定两个类别的中心\n",
    "clusters_std = [3, 1] #设定两个类别的方差\n",
    "X, y = make_blobs(n_samples=[class_1, class_2],\n",
    "centers=centers,\n",
    "cluster_std=clusters_std,\n",
    "random_state=0, shuffle=False)"
   ]
  },
  {
   "cell_type": "code",
   "execution_count": 92,
   "id": "7d485ffe",
   "metadata": {
    "ExecuteTime": {
     "end_time": "2022-07-06T02:10:44.968333Z",
     "start_time": "2022-07-06T02:10:44.963190Z"
    }
   },
   "outputs": [
    {
     "data": {
      "text/plain": [
       "(50500, 2)"
      ]
     },
     "execution_count": 92,
     "metadata": {},
     "output_type": "execute_result"
    }
   ],
   "source": [
    "X.shape"
   ]
  },
  {
   "cell_type": "code",
   "execution_count": 93,
   "id": "34d54b45",
   "metadata": {
    "ExecuteTime": {
     "end_time": "2022-07-06T02:10:44.983483Z",
     "start_time": "2022-07-06T02:10:44.978024Z"
    }
   },
   "outputs": [
    {
     "data": {
      "text/plain": [
       "array([0, 1])"
      ]
     },
     "execution_count": 93,
     "metadata": {},
     "output_type": "execute_result"
    }
   ],
   "source": [
    "np.unique(y) "
   ]
  },
  {
   "cell_type": "code",
   "execution_count": 94,
   "id": "20e61e8a",
   "metadata": {
    "ExecuteTime": {
     "end_time": "2022-07-06T02:10:45.203264Z",
     "start_time": "2022-07-06T02:10:45.059163Z"
    }
   },
   "outputs": [
    {
     "name": "stdout",
     "output_type": "stream",
     "text": [
      "Multinomial\n",
      "\tBrier:0.007\n",
      "\tAccuracy:0.990\n",
      "\tRecall:0.000\n",
      "\tAUC:0.991\n",
      "Gaussian\n",
      "\tBrier:0.006\n",
      "\tAccuracy:0.990\n",
      "\tRecall:0.438\n",
      "\tAUC:0.993\n",
      "Bernuoli\n",
      "\tBrier:0.009\n",
      "\tAccuracy:0.987\n",
      "\tRecall:0.771\n",
      "\tAUC:0.987\n"
     ]
    }
   ],
   "source": [
    "name = ['Multinomial','Gaussian','Bernuoli'] \n",
    "models = [MultinomialNB(),GaussianNB(),BernoulliNB()] \n",
    "\n",
    "for name, clf in zip(name,models): \n",
    "    Xtrain,Xtest,Ytrain,Ytest = train_test_split(X,y,test_size=0.3,random_state= 420) \n",
    "    \n",
    "    if name!= 'Gaussian': \n",
    "        kbs = KBinsDiscretizer(n_bins = 10, encode = 'onehot').fit(Xtrain) \n",
    "        Xtrain = kbs.transform(Xtrain) \n",
    "        Xtest = kbs.transform(Xtest)  \n",
    "        \n",
    "    clf.fit(Xtrain,Ytrain) \n",
    "    y_pred = clf.predict(Xtest) \n",
    "    proba = clf.predict_proba(Xtest)[:,1] \n",
    "    score = clf.score(Xtest,Ytest) \n",
    "    print(name) \n",
    "    print(\"\\tBrier:{:.3f}\".format(BS(Ytest,proba,pos_label=1)))\n",
    "    print(\"\\tAccuracy:{:.3f}\".format(score))\n",
    "    print(\"\\tRecall:{:.3f}\".format(recall_score(Ytest,y_pred)))\n",
    "    print(\"\\tAUC:{:.3f}\".format(AUC(Ytest,proba)))\n",
    "\n",
    "        "
   ]
  },
  {
   "cell_type": "code",
   "execution_count": 99,
   "id": "879f0f96",
   "metadata": {
    "ExecuteTime": {
     "end_time": "2022-07-06T02:50:49.822752Z",
     "start_time": "2022-07-06T02:50:49.626151Z"
    }
   },
   "outputs": [
    {
     "name": "stdout",
     "output_type": "stream",
     "text": [
      "Multinomial\n",
      "\tBrier:0.007\n",
      "\tAccuracy:0.990\n",
      "\tRecall:0.000\n",
      "\tAUC:0.991\n",
      "00:00:055335\n",
      "Gaussian\n",
      "\tBrier:0.006\n",
      "\tAccuracy:0.990\n",
      "\tRecall:0.438\n",
      "\tAUC:0.993\n",
      "00:00:029797\n",
      "Bernoulli\n",
      "\tBrier:0.009\n",
      "\tAccuracy:0.987\n",
      "\tRecall:0.771\n",
      "\tAUC:0.987\n",
      "00:00:055982\n",
      "Complement\n",
      "\tBrier:0.038\n",
      "\tAccuracy:0.953\n",
      "\tRecall:0.987\n",
      "\tAUC:0.991\n",
      "00:00:047299\n"
     ]
    }
   ],
   "source": [
    "from sklearn.naive_bayes import ComplementNB \n",
    "from time import time \n",
    "import datetime \n",
    "\n",
    "name = ['Multinomial','Gaussian','Bernoulli','Complement'] \n",
    "models = [MultinomialNB(),GaussianNB(),BernoulliNB(),ComplementNB()] \n",
    "\n",
    "for name,clf in zip(name,models): \n",
    "    times = time() \n",
    "    Xtrain,Xtest,Ytrain,Ytest = train_test_split(X,y,test_size= 0.3, random_state= 420) \n",
    "    \n",
    "    if name != 'Gaussian': \n",
    "        kbs = KBinsDiscretizer(n_bins = 10, encode= 'onehot').fit(Xtrain) \n",
    "        Xtrain = kbs.transform(Xtrain) \n",
    "        Xtest = kbs.transform(Xtest) \n",
    "        \n",
    "    clf.fit(Xtrain,Ytrain) \n",
    "    y_pred = clf.predict(Xtest) \n",
    "    proba = clf.predict_proba(Xtest)[:,1] \n",
    "    score = clf.score(Xtest,Ytest) \n",
    "    \n",
    "    print(name) \n",
    "    print(\"\\tBrier:{:.3f}\".format(BS(Ytest,proba,pos_label=1)))\n",
    "    print(\"\\tAccuracy:{:.3f}\".format(score))\n",
    "    print(\"\\tRecall:{:.3f}\".format(recall_score(Ytest,y_pred)))\n",
    "    print(\"\\tAUC:{:.3f}\".format(AUC(Ytest,proba)))\n",
    "    print(datetime.datetime.fromtimestamp(time()-times).strftime(\"%M:%S:%f\")) "
   ]
  },
  {
   "cell_type": "code",
   "execution_count": 102,
   "id": "003b3ddd",
   "metadata": {
    "ExecuteTime": {
     "end_time": "2022-07-06T05:37:39.687029Z",
     "start_time": "2022-07-06T05:37:39.674807Z"
    }
   },
   "outputs": [
    {
     "data": {
      "text/plain": [
       "<3x11 sparse matrix of type '<class 'numpy.int64'>'\n",
       "\twith 15 stored elements in Compressed Sparse Row format>"
      ]
     },
     "execution_count": 102,
     "metadata": {},
     "output_type": "execute_result"
    }
   ],
   "source": [
    "##Naive Bayes 文本分类 \n",
    "sample = ['Machine learning is fascinating, it is wonderful', \n",
    "         'Machine learning is a sensational technology', \n",
    "         'Elsa is a popular character'] \n",
    "from sklearn.feature_extraction.text import CountVectorizer \n",
    "vec = CountVectorizer() \n",
    "x = vec.fit_transform(sample) \n",
    "x "
   ]
  },
  {
   "cell_type": "code",
   "execution_count": 104,
   "id": "dd7ee308",
   "metadata": {
    "ExecuteTime": {
     "end_time": "2022-07-06T05:39:16.235604Z",
     "start_time": "2022-07-06T05:39:16.221283Z"
    }
   },
   "outputs": [
    {
     "name": "stderr",
     "output_type": "stream",
     "text": [
      "/Applications/anaconda3/lib/python3.7/site-packages/sklearn/utils/deprecation.py:87: FutureWarning: Function get_feature_names is deprecated; get_feature_names is deprecated in 1.0 and will be removed in 1.2. Please use get_feature_names_out instead.\n",
      "  warnings.warn(msg, category=FutureWarning)\n"
     ]
    },
    {
     "data": {
      "text/html": [
       "<div>\n",
       "<style scoped>\n",
       "    .dataframe tbody tr th:only-of-type {\n",
       "        vertical-align: middle;\n",
       "    }\n",
       "\n",
       "    .dataframe tbody tr th {\n",
       "        vertical-align: top;\n",
       "    }\n",
       "\n",
       "    .dataframe thead th {\n",
       "        text-align: right;\n",
       "    }\n",
       "</style>\n",
       "<table border=\"1\" class=\"dataframe\">\n",
       "  <thead>\n",
       "    <tr style=\"text-align: right;\">\n",
       "      <th></th>\n",
       "      <th>character</th>\n",
       "      <th>elsa</th>\n",
       "      <th>fascinating</th>\n",
       "      <th>is</th>\n",
       "      <th>it</th>\n",
       "      <th>learning</th>\n",
       "      <th>machine</th>\n",
       "      <th>popular</th>\n",
       "      <th>sensational</th>\n",
       "      <th>technology</th>\n",
       "      <th>wonderful</th>\n",
       "    </tr>\n",
       "  </thead>\n",
       "  <tbody>\n",
       "    <tr>\n",
       "      <th>0</th>\n",
       "      <td>0</td>\n",
       "      <td>0</td>\n",
       "      <td>1</td>\n",
       "      <td>2</td>\n",
       "      <td>1</td>\n",
       "      <td>1</td>\n",
       "      <td>1</td>\n",
       "      <td>0</td>\n",
       "      <td>0</td>\n",
       "      <td>0</td>\n",
       "      <td>1</td>\n",
       "    </tr>\n",
       "    <tr>\n",
       "      <th>1</th>\n",
       "      <td>0</td>\n",
       "      <td>0</td>\n",
       "      <td>0</td>\n",
       "      <td>1</td>\n",
       "      <td>0</td>\n",
       "      <td>1</td>\n",
       "      <td>1</td>\n",
       "      <td>0</td>\n",
       "      <td>1</td>\n",
       "      <td>1</td>\n",
       "      <td>0</td>\n",
       "    </tr>\n",
       "    <tr>\n",
       "      <th>2</th>\n",
       "      <td>1</td>\n",
       "      <td>1</td>\n",
       "      <td>0</td>\n",
       "      <td>1</td>\n",
       "      <td>0</td>\n",
       "      <td>0</td>\n",
       "      <td>0</td>\n",
       "      <td>1</td>\n",
       "      <td>0</td>\n",
       "      <td>0</td>\n",
       "      <td>0</td>\n",
       "    </tr>\n",
       "  </tbody>\n",
       "</table>\n",
       "</div>"
      ],
      "text/plain": [
       "   character  elsa  fascinating  is  it  learning  machine  popular  \\\n",
       "0          0     0            1   2   1         1        1        0   \n",
       "1          0     0            0   1   0         1        1        0   \n",
       "2          1     1            0   1   0         0        0        1   \n",
       "\n",
       "   sensational  technology  wonderful  \n",
       "0            0           0          1  \n",
       "1            1           1          0  \n",
       "2            0           0          0  "
      ]
     },
     "execution_count": 104,
     "metadata": {},
     "output_type": "execute_result"
    }
   ],
   "source": [
    "## 调用每个列的名称 \n",
    "import pandas as pd \n",
    "cvresult = pd.DataFrame(x.toarray(),columns = vec.get_feature_names()) \n",
    "cvresult "
   ]
  },
  {
   "cell_type": "code",
   "execution_count": 105,
   "id": "ac119270",
   "metadata": {
    "ExecuteTime": {
     "end_time": "2022-07-06T09:01:52.581972Z",
     "start_time": "2022-07-06T09:01:52.566167Z"
    }
   },
   "outputs": [],
   "source": [
    "## TF-IDF \n",
    "from sklearn.feature_extraction.text import TfidfVectorizer as TFIDF \n",
    "vec = TFIDF() \n",
    "\n",
    "x =  vec.fit_transform(sample) "
   ]
  },
  {
   "cell_type": "code",
   "execution_count": 107,
   "id": "5433e6c8",
   "metadata": {
    "ExecuteTime": {
     "end_time": "2022-07-06T09:02:56.678710Z",
     "start_time": "2022-07-06T09:02:56.660714Z"
    }
   },
   "outputs": [
    {
     "name": "stderr",
     "output_type": "stream",
     "text": [
      "/Applications/anaconda3/lib/python3.7/site-packages/sklearn/utils/deprecation.py:87: FutureWarning: Function get_feature_names is deprecated; get_feature_names is deprecated in 1.0 and will be removed in 1.2. Please use get_feature_names_out instead.\n",
      "  warnings.warn(msg, category=FutureWarning)\n"
     ]
    },
    {
     "data": {
      "text/html": [
       "<div>\n",
       "<style scoped>\n",
       "    .dataframe tbody tr th:only-of-type {\n",
       "        vertical-align: middle;\n",
       "    }\n",
       "\n",
       "    .dataframe tbody tr th {\n",
       "        vertical-align: top;\n",
       "    }\n",
       "\n",
       "    .dataframe thead th {\n",
       "        text-align: right;\n",
       "    }\n",
       "</style>\n",
       "<table border=\"1\" class=\"dataframe\">\n",
       "  <thead>\n",
       "    <tr style=\"text-align: right;\">\n",
       "      <th></th>\n",
       "      <th>character</th>\n",
       "      <th>elsa</th>\n",
       "      <th>fascinating</th>\n",
       "      <th>is</th>\n",
       "      <th>it</th>\n",
       "      <th>learning</th>\n",
       "      <th>machine</th>\n",
       "      <th>popular</th>\n",
       "      <th>sensational</th>\n",
       "      <th>technology</th>\n",
       "      <th>wonderful</th>\n",
       "    </tr>\n",
       "  </thead>\n",
       "  <tbody>\n",
       "    <tr>\n",
       "      <th>0</th>\n",
       "      <td>0.000000</td>\n",
       "      <td>0.000000</td>\n",
       "      <td>0.424396</td>\n",
       "      <td>0.501310</td>\n",
       "      <td>0.424396</td>\n",
       "      <td>0.322764</td>\n",
       "      <td>0.322764</td>\n",
       "      <td>0.000000</td>\n",
       "      <td>0.000000</td>\n",
       "      <td>0.000000</td>\n",
       "      <td>0.424396</td>\n",
       "    </tr>\n",
       "    <tr>\n",
       "      <th>1</th>\n",
       "      <td>0.000000</td>\n",
       "      <td>0.000000</td>\n",
       "      <td>0.000000</td>\n",
       "      <td>0.315444</td>\n",
       "      <td>0.000000</td>\n",
       "      <td>0.406192</td>\n",
       "      <td>0.406192</td>\n",
       "      <td>0.000000</td>\n",
       "      <td>0.534093</td>\n",
       "      <td>0.534093</td>\n",
       "      <td>0.000000</td>\n",
       "    </tr>\n",
       "    <tr>\n",
       "      <th>2</th>\n",
       "      <td>0.546454</td>\n",
       "      <td>0.546454</td>\n",
       "      <td>0.000000</td>\n",
       "      <td>0.322745</td>\n",
       "      <td>0.000000</td>\n",
       "      <td>0.000000</td>\n",
       "      <td>0.000000</td>\n",
       "      <td>0.546454</td>\n",
       "      <td>0.000000</td>\n",
       "      <td>0.000000</td>\n",
       "      <td>0.000000</td>\n",
       "    </tr>\n",
       "  </tbody>\n",
       "</table>\n",
       "</div>"
      ],
      "text/plain": [
       "   character      elsa  fascinating        is        it  learning   machine  \\\n",
       "0   0.000000  0.000000     0.424396  0.501310  0.424396  0.322764  0.322764   \n",
       "1   0.000000  0.000000     0.000000  0.315444  0.000000  0.406192  0.406192   \n",
       "2   0.546454  0.546454     0.000000  0.322745  0.000000  0.000000  0.000000   \n",
       "\n",
       "    popular  sensational  technology  wonderful  \n",
       "0  0.000000     0.000000    0.000000   0.424396  \n",
       "1  0.000000     0.534093    0.534093   0.000000  \n",
       "2  0.546454     0.000000    0.000000   0.000000  "
      ]
     },
     "execution_count": 107,
     "metadata": {},
     "output_type": "execute_result"
    }
   ],
   "source": [
    "TFIDFresult = pd.DataFrame(x.toarray(),columns = vec.get_feature_names()) \n",
    "TFIDFresult "
   ]
  },
  {
   "cell_type": "code",
   "execution_count": 109,
   "id": "4a9dea04",
   "metadata": {
    "ExecuteTime": {
     "end_time": "2022-07-06T09:07:16.405679Z",
     "start_time": "2022-07-06T09:07:16.353524Z"
    }
   },
   "outputs": [
    {
     "data": {
      "text/plain": [
       "character      0.0625\n",
       "elsa           0.0625\n",
       "fascinating    0.0625\n",
       "is             0.2500\n",
       "it             0.0625\n",
       "learning       0.1250\n",
       "machine        0.1250\n",
       "popular        0.0625\n",
       "sensational    0.0625\n",
       "technology     0.0625\n",
       "wonderful      0.0625\n",
       "dtype: float64"
      ]
     },
     "execution_count": 109,
     "metadata": {},
     "output_type": "execute_result"
    }
   ],
   "source": [
    "cvresult.sum(axis = 0)/cvresult.sum(axis = 0).sum()  "
   ]
  },
  {
   "cell_type": "code",
   "execution_count": 111,
   "id": "38c32a55",
   "metadata": {
    "ExecuteTime": {
     "end_time": "2022-07-06T09:08:31.566377Z",
     "start_time": "2022-07-06T09:08:31.559583Z"
    }
   },
   "outputs": [
    {
     "data": {
      "text/plain": [
       "character      0.083071\n",
       "elsa           0.083071\n",
       "fascinating    0.064516\n",
       "is             0.173225\n",
       "it             0.064516\n",
       "learning       0.110815\n",
       "machine        0.110815\n",
       "popular        0.083071\n",
       "sensational    0.081192\n",
       "technology     0.081192\n",
       "wonderful      0.064516\n",
       "dtype: float64"
      ]
     },
     "execution_count": 111,
     "metadata": {},
     "output_type": "execute_result"
    }
   ],
   "source": [
    "TFIDFresult.sum(axis = 0) / TFIDFresult.sum(axis = 0).sum() "
   ]
  },
  {
   "cell_type": "code",
   "execution_count": 112,
   "id": "b95361f2",
   "metadata": {
    "ExecuteTime": {
     "end_time": "2022-07-06T09:37:15.643327Z",
     "start_time": "2022-07-06T09:37:15.637934Z"
    }
   },
   "outputs": [],
   "source": [
    "from sklearn.datasets import fetch_20newsgroups "
   ]
  },
  {
   "cell_type": "code",
   "execution_count": 113,
   "id": "2020bd04",
   "metadata": {
    "ExecuteTime": {
     "end_time": "2022-07-06T09:38:46.629206Z",
     "start_time": "2022-07-06T09:37:28.670925Z"
    }
   },
   "outputs": [],
   "source": [
    "data = fetch_20newsgroups() "
   ]
  },
  {
   "cell_type": "code",
   "execution_count": 114,
   "id": "4ee52772",
   "metadata": {
    "ExecuteTime": {
     "end_time": "2022-07-06T09:39:36.601765Z",
     "start_time": "2022-07-06T09:39:36.597020Z"
    }
   },
   "outputs": [
    {
     "data": {
      "text/plain": [
       "['alt.atheism',\n",
       " 'comp.graphics',\n",
       " 'comp.os.ms-windows.misc',\n",
       " 'comp.sys.ibm.pc.hardware',\n",
       " 'comp.sys.mac.hardware',\n",
       " 'comp.windows.x',\n",
       " 'misc.forsale',\n",
       " 'rec.autos',\n",
       " 'rec.motorcycles',\n",
       " 'rec.sport.baseball',\n",
       " 'rec.sport.hockey',\n",
       " 'sci.crypt',\n",
       " 'sci.electronics',\n",
       " 'sci.med',\n",
       " 'sci.space',\n",
       " 'soc.religion.christian',\n",
       " 'talk.politics.guns',\n",
       " 'talk.politics.mideast',\n",
       " 'talk.politics.misc',\n",
       " 'talk.religion.misc']"
      ]
     },
     "execution_count": 114,
     "metadata": {},
     "output_type": "execute_result"
    }
   ],
   "source": [
    "data.target_names "
   ]
  },
  {
   "cell_type": "code",
   "execution_count": 116,
   "id": "1fadd96d",
   "metadata": {
    "ExecuteTime": {
     "end_time": "2022-07-07T02:25:07.540639Z",
     "start_time": "2022-07-07T02:25:06.750617Z"
    }
   },
   "outputs": [],
   "source": [
    "import numpy as np \n",
    "import pandas as pd \n",
    "\n",
    "categories = ['sci.space', \n",
    "             'rec.sport.hockey',\n",
    "             'talk.politics.guns', \n",
    "             'talk.politics.mideast'] \n",
    " \n",
    "train = fetch_20newsgroups(subset = 'train',categories = categories) \n",
    "test = fetch_20newsgroups(subset  = 'test', categories=  categories) \n"
   ]
  },
  {
   "cell_type": "code",
   "execution_count": 119,
   "id": "7206d096",
   "metadata": {
    "ExecuteTime": {
     "end_time": "2022-07-07T02:27:34.899678Z",
     "start_time": "2022-07-07T02:27:34.893130Z"
    }
   },
   "outputs": [
    {
     "data": {
      "text/plain": [
       "['rec.sport.hockey',\n",
       " 'sci.space',\n",
       " 'talk.politics.guns',\n",
       " 'talk.politics.mideast']"
      ]
     },
     "execution_count": 119,
     "metadata": {},
     "output_type": "execute_result"
    }
   ],
   "source": [
    "train.target_names "
   ]
  },
  {
   "cell_type": "code",
   "execution_count": 120,
   "id": "27b9cbbf",
   "metadata": {
    "ExecuteTime": {
     "end_time": "2022-07-07T02:28:06.937745Z",
     "start_time": "2022-07-07T02:28:06.931117Z"
    }
   },
   "outputs": [
    {
     "data": {
      "text/plain": [
       "2303"
      ]
     },
     "execution_count": 120,
     "metadata": {},
     "output_type": "execute_result"
    }
   ],
   "source": [
    "len(train.data) "
   ]
  },
  {
   "cell_type": "code",
   "execution_count": 122,
   "id": "134ca8ce",
   "metadata": {
    "ExecuteTime": {
     "end_time": "2022-07-07T02:28:28.614129Z",
     "start_time": "2022-07-07T02:28:28.607618Z"
    }
   },
   "outputs": [
    {
     "name": "stdout",
     "output_type": "stream",
     "text": [
      "From: tvartiai@vipunen.hut.fi (Tommi Vartiainen)\n",
      "Subject: Re: Finland/Sweden vs.NHL teams (WAS:Helsinki/Stockholm & NHL expansion)\n",
      "Nntp-Posting-Host: vipunen.hut.fi\n",
      "Organization: Helsinki University of Technology, Finland\n",
      "Lines: 51\n",
      "\n",
      "In <1993Apr16.195754.5476@ousrvr.oulu.fi> mep@phoenix.oulu.fi (Marko Poutiainen) writes:\n",
      "\n",
      ">: FINLAND:  \n",
      ">: \n",
      ">: D-Jyrki Lumme.......20\n",
      ">: D-Teppo Numminen....20\n",
      ">: D-Peter Ahola.......13\n",
      ">: \n",
      ">Well well, they don't like our defenders (mainly Lumme and Numminen)...\n",
      "\n",
      "About 25 is correct for Numminen and Lumme.\n",
      "\n",
      "\n",
      ">: R-Teemu Selanne.....27\n",
      ">: \n",
      ">Compared to Kurri, Selanne's points are too high, lets make it 25 or 26.\n",
      "\n",
      "No, Kurri's points are too low. 27 for Kurri and 28 for Sel{nne.\n",
      "\n",
      ">: well in the Canada Cup and World Championships largely due to the efforts of\n",
      ">: Markus Ketterer (the goalie), 3-4 or the players listed above and luck. There's\n",
      ">: presumably a lot of decent players in Finland that wouldn't be superstars at\n",
      ">: the highest level but still valuable role players, however. My guess would be\n",
      ">: that the Finnish Canada Cup team would be a .500 team in the NHL.\n",
      "\n",
      ">Wow, now, it looks like you don't like our players? What about guys like:\n",
      ">Nieminen, Jutila, Riihijarvi, Varvio, Laukkanen, Makela, Keskinen and (even\n",
      ">if he is aging) Ruotsalainen? The main difference between finnish and North-\n",
      ">American players is, that our players tend to be better in the larger rink.\n",
      ">The Canadian defenders are usually slower that defenders in Europe. \n",
      ">And I think that there was more in our success than Ketterer and luck (though\n",
      ">they helped). I think that the main reason was, that the team worked well\n",
      ">together.\n",
      "\n",
      "\n",
      "That's true. Game is so different here in Europe compared to NHL. North-ame-\n",
      "ricans are better in small rinks and europeans in large rinks. An average\n",
      "european player from Sweden, Finland, Russian or Tsech/Slovakia is a better \n",
      "skater and  puckhandler than his NHL colleague. Especially defenders in NHL\n",
      "are mainly slow and clumsy. Sel{nne has also said that in the Finnish Sm-league\n",
      "game is more based on skill than in NHL. In Finland he couldn't get so many \n",
      "breakaways because defenders here are an average much better skaters than in\n",
      "NHL. Also Alpo Suhonen said that in NHL Sel{nne's speed accentuates because\n",
      "of clumsy defensemen.\n",
      "\n",
      "I have to admit that the best players come from Canada, but those regulars\n",
      "aren't as skilful as regulars in the best european leagues. Also top europeans\n",
      "are in the same level as the best north-americans.(except Lemieux is in the\n",
      "class of his own). \n",
      "\n",
      "Tommi\n",
      "\n"
     ]
    }
   ],
   "source": [
    "print(train.data[0] ) "
   ]
  },
  {
   "cell_type": "code",
   "execution_count": 124,
   "id": "3f269555",
   "metadata": {
    "ExecuteTime": {
     "end_time": "2022-07-07T02:30:18.284652Z",
     "start_time": "2022-07-07T02:30:18.277597Z"
    }
   },
   "outputs": [
    {
     "data": {
      "text/plain": [
       "array([0, 1, 2, 3])"
      ]
     },
     "execution_count": 124,
     "metadata": {},
     "output_type": "execute_result"
    }
   ],
   "source": [
    " np.unique(train.target)  "
   ]
  },
  {
   "cell_type": "code",
   "execution_count": 127,
   "id": "c8e36a45",
   "metadata": {
    "ExecuteTime": {
     "end_time": "2022-07-07T02:32:43.612856Z",
     "start_time": "2022-07-07T02:32:43.607775Z"
    }
   },
   "outputs": [
    {
     "name": "stdout",
     "output_type": "stream",
     "text": [
      "0 0.26052974381241856\n",
      "1 0.25749023013460703\n",
      "2 0.23708206686930092\n",
      "3 0.24489795918367346\n"
     ]
    }
   ],
   "source": [
    "for i in [0,1,2,3]: \n",
    "    print(i,(train.target ==i).sum()/len(train.target))"
   ]
  },
  {
   "cell_type": "code",
   "execution_count": 129,
   "id": "db7ca707",
   "metadata": {
    "ExecuteTime": {
     "end_time": "2022-07-07T02:34:44.850053Z",
     "start_time": "2022-07-07T02:34:44.846235Z"
    }
   },
   "outputs": [],
   "source": [
    "from sklearn.feature_extraction.text import TfidfVectorizer as TFIDF "
   ]
  },
  {
   "cell_type": "code",
   "execution_count": 130,
   "id": "9f233bfc",
   "metadata": {
    "ExecuteTime": {
     "end_time": "2022-07-07T02:36:18.793509Z",
     "start_time": "2022-07-07T02:36:18.786607Z"
    }
   },
   "outputs": [],
   "source": [
    "Xtrain = train.data \n",
    "Xtest = test.data \n",
    "Ytrain = train.target \n",
    "Ytest = test.target \n"
   ]
  },
  {
   "cell_type": "code",
   "execution_count": 132,
   "id": "eed2305f",
   "metadata": {
    "ExecuteTime": {
     "end_time": "2022-07-07T02:37:11.606496Z",
     "start_time": "2022-07-07T02:37:09.369361Z"
    }
   },
   "outputs": [],
   "source": [
    "tfidf = TFIDF().fit(Xtrain) \n",
    "Xtrain_ = tfidf.transform(Xtrain) \n",
    "Xtest_ = tfidf.transform(Xtest ) \n"
   ]
  },
  {
   "cell_type": "code",
   "execution_count": 133,
   "id": "5ebd0b01",
   "metadata": {
    "ExecuteTime": {
     "end_time": "2022-07-07T02:37:41.591074Z",
     "start_time": "2022-07-07T02:37:41.586115Z"
    }
   },
   "outputs": [
    {
     "data": {
      "text/plain": [
       "<2303x40725 sparse matrix of type '<class 'numpy.float64'>'\n",
       "\twith 430306 stored elements in Compressed Sparse Row format>"
      ]
     },
     "execution_count": 133,
     "metadata": {},
     "output_type": "execute_result"
    }
   ],
   "source": [
    "Xtrain_ "
   ]
  },
  {
   "cell_type": "code",
   "execution_count": 134,
   "id": "2f7d2e4c",
   "metadata": {
    "ExecuteTime": {
     "end_time": "2022-07-07T02:38:43.330046Z",
     "start_time": "2022-07-07T02:38:42.855559Z"
    }
   },
   "outputs": [
    {
     "name": "stderr",
     "output_type": "stream",
     "text": [
      "/Applications/anaconda3/lib/python3.7/site-packages/sklearn/utils/deprecation.py:87: FutureWarning: Function get_feature_names is deprecated; get_feature_names is deprecated in 1.0 and will be removed in 1.2. Please use get_feature_names_out instead.\n",
      "  warnings.warn(msg, category=FutureWarning)\n"
     ]
    },
    {
     "data": {
      "text/html": [
       "<div>\n",
       "<style scoped>\n",
       "    .dataframe tbody tr th:only-of-type {\n",
       "        vertical-align: middle;\n",
       "    }\n",
       "\n",
       "    .dataframe tbody tr th {\n",
       "        vertical-align: top;\n",
       "    }\n",
       "\n",
       "    .dataframe thead th {\n",
       "        text-align: right;\n",
       "    }\n",
       "</style>\n",
       "<table border=\"1\" class=\"dataframe\">\n",
       "  <thead>\n",
       "    <tr style=\"text-align: right;\">\n",
       "      <th></th>\n",
       "      <th>00</th>\n",
       "      <th>000</th>\n",
       "      <th>0000</th>\n",
       "      <th>00000</th>\n",
       "      <th>000000</th>\n",
       "      <th>000021</th>\n",
       "      <th>000062david42</th>\n",
       "      <th>000152</th>\n",
       "      <th>000246</th>\n",
       "      <th>000256</th>\n",
       "      <th>...</th>\n",
       "      <th>zwrm</th>\n",
       "      <th>zx</th>\n",
       "      <th>zx6wre</th>\n",
       "      <th>zxp</th>\n",
       "      <th>zxqi</th>\n",
       "      <th>zy</th>\n",
       "      <th>zyg</th>\n",
       "      <th>zz</th>\n",
       "      <th>zz_g9q3</th>\n",
       "      <th>zzzzzz</th>\n",
       "    </tr>\n",
       "  </thead>\n",
       "  <tbody>\n",
       "    <tr>\n",
       "      <th>0</th>\n",
       "      <td>0.0</td>\n",
       "      <td>0.000000</td>\n",
       "      <td>0.0</td>\n",
       "      <td>0.0</td>\n",
       "      <td>0.0</td>\n",
       "      <td>0.0</td>\n",
       "      <td>0.0</td>\n",
       "      <td>0.0</td>\n",
       "      <td>0.0</td>\n",
       "      <td>0.0</td>\n",
       "      <td>...</td>\n",
       "      <td>0.0</td>\n",
       "      <td>0.0</td>\n",
       "      <td>0.0</td>\n",
       "      <td>0.0</td>\n",
       "      <td>0.0</td>\n",
       "      <td>0.0</td>\n",
       "      <td>0.0</td>\n",
       "      <td>0.0</td>\n",
       "      <td>0.0</td>\n",
       "      <td>0.0</td>\n",
       "    </tr>\n",
       "    <tr>\n",
       "      <th>1</th>\n",
       "      <td>0.0</td>\n",
       "      <td>0.000000</td>\n",
       "      <td>0.0</td>\n",
       "      <td>0.0</td>\n",
       "      <td>0.0</td>\n",
       "      <td>0.0</td>\n",
       "      <td>0.0</td>\n",
       "      <td>0.0</td>\n",
       "      <td>0.0</td>\n",
       "      <td>0.0</td>\n",
       "      <td>...</td>\n",
       "      <td>0.0</td>\n",
       "      <td>0.0</td>\n",
       "      <td>0.0</td>\n",
       "      <td>0.0</td>\n",
       "      <td>0.0</td>\n",
       "      <td>0.0</td>\n",
       "      <td>0.0</td>\n",
       "      <td>0.0</td>\n",
       "      <td>0.0</td>\n",
       "      <td>0.0</td>\n",
       "    </tr>\n",
       "    <tr>\n",
       "      <th>2</th>\n",
       "      <td>0.0</td>\n",
       "      <td>0.058046</td>\n",
       "      <td>0.0</td>\n",
       "      <td>0.0</td>\n",
       "      <td>0.0</td>\n",
       "      <td>0.0</td>\n",
       "      <td>0.0</td>\n",
       "      <td>0.0</td>\n",
       "      <td>0.0</td>\n",
       "      <td>0.0</td>\n",
       "      <td>...</td>\n",
       "      <td>0.0</td>\n",
       "      <td>0.0</td>\n",
       "      <td>0.0</td>\n",
       "      <td>0.0</td>\n",
       "      <td>0.0</td>\n",
       "      <td>0.0</td>\n",
       "      <td>0.0</td>\n",
       "      <td>0.0</td>\n",
       "      <td>0.0</td>\n",
       "      <td>0.0</td>\n",
       "    </tr>\n",
       "    <tr>\n",
       "      <th>3</th>\n",
       "      <td>0.0</td>\n",
       "      <td>0.000000</td>\n",
       "      <td>0.0</td>\n",
       "      <td>0.0</td>\n",
       "      <td>0.0</td>\n",
       "      <td>0.0</td>\n",
       "      <td>0.0</td>\n",
       "      <td>0.0</td>\n",
       "      <td>0.0</td>\n",
       "      <td>0.0</td>\n",
       "      <td>...</td>\n",
       "      <td>0.0</td>\n",
       "      <td>0.0</td>\n",
       "      <td>0.0</td>\n",
       "      <td>0.0</td>\n",
       "      <td>0.0</td>\n",
       "      <td>0.0</td>\n",
       "      <td>0.0</td>\n",
       "      <td>0.0</td>\n",
       "      <td>0.0</td>\n",
       "      <td>0.0</td>\n",
       "    </tr>\n",
       "    <tr>\n",
       "      <th>4</th>\n",
       "      <td>0.0</td>\n",
       "      <td>0.000000</td>\n",
       "      <td>0.0</td>\n",
       "      <td>0.0</td>\n",
       "      <td>0.0</td>\n",
       "      <td>0.0</td>\n",
       "      <td>0.0</td>\n",
       "      <td>0.0</td>\n",
       "      <td>0.0</td>\n",
       "      <td>0.0</td>\n",
       "      <td>...</td>\n",
       "      <td>0.0</td>\n",
       "      <td>0.0</td>\n",
       "      <td>0.0</td>\n",
       "      <td>0.0</td>\n",
       "      <td>0.0</td>\n",
       "      <td>0.0</td>\n",
       "      <td>0.0</td>\n",
       "      <td>0.0</td>\n",
       "      <td>0.0</td>\n",
       "      <td>0.0</td>\n",
       "    </tr>\n",
       "  </tbody>\n",
       "</table>\n",
       "<p>5 rows × 40725 columns</p>\n",
       "</div>"
      ],
      "text/plain": [
       "    00       000  0000  00000  000000  000021  000062david42  000152  000246  \\\n",
       "0  0.0  0.000000   0.0    0.0     0.0     0.0            0.0     0.0     0.0   \n",
       "1  0.0  0.000000   0.0    0.0     0.0     0.0            0.0     0.0     0.0   \n",
       "2  0.0  0.058046   0.0    0.0     0.0     0.0            0.0     0.0     0.0   \n",
       "3  0.0  0.000000   0.0    0.0     0.0     0.0            0.0     0.0     0.0   \n",
       "4  0.0  0.000000   0.0    0.0     0.0     0.0            0.0     0.0     0.0   \n",
       "\n",
       "   000256  ...  zwrm   zx  zx6wre  zxp  zxqi   zy  zyg   zz  zz_g9q3  zzzzzz  \n",
       "0     0.0  ...   0.0  0.0     0.0  0.0   0.0  0.0  0.0  0.0      0.0     0.0  \n",
       "1     0.0  ...   0.0  0.0     0.0  0.0   0.0  0.0  0.0  0.0      0.0     0.0  \n",
       "2     0.0  ...   0.0  0.0     0.0  0.0   0.0  0.0  0.0  0.0      0.0     0.0  \n",
       "3     0.0  ...   0.0  0.0     0.0  0.0   0.0  0.0  0.0  0.0      0.0     0.0  \n",
       "4     0.0  ...   0.0  0.0     0.0  0.0   0.0  0.0  0.0  0.0      0.0     0.0  \n",
       "\n",
       "[5 rows x 40725 columns]"
      ]
     },
     "execution_count": 134,
     "metadata": {},
     "output_type": "execute_result"
    }
   ],
   "source": [
    "tosee = pd.DataFrame(Xtrain_.toarray(), columns = tfidf.get_feature_names()) \n",
    "tosee.head() "
   ]
  },
  {
   "cell_type": "code",
   "execution_count": 135,
   "id": "1a1c12e7",
   "metadata": {
    "ExecuteTime": {
     "end_time": "2022-07-07T02:39:42.223996Z",
     "start_time": "2022-07-07T02:39:42.209069Z"
    }
   },
   "outputs": [
    {
     "data": {
      "text/plain": [
       "(2303, 40725)"
      ]
     },
     "execution_count": 135,
     "metadata": {},
     "output_type": "execute_result"
    }
   ],
   "source": [
    " tosee.shape "
   ]
  },
  {
   "cell_type": "code",
   "execution_count": 136,
   "id": "f95c3de8",
   "metadata": {
    "ExecuteTime": {
     "end_time": "2022-07-07T02:39:58.158854Z",
     "start_time": "2022-07-07T02:39:58.156165Z"
    }
   },
   "outputs": [],
   "source": [
    "## Bayes Model on Data "
   ]
  },
  {
   "cell_type": "code",
   "execution_count": 151,
   "id": "411dc9cf",
   "metadata": {
    "ExecuteTime": {
     "end_time": "2022-07-07T03:03:32.629316Z",
     "start_time": "2022-07-07T03:03:32.622473Z"
    }
   },
   "outputs": [],
   "source": [
    "# dummy variable of y \n",
    "Ytest_ = Ytest.copy() \n",
    "Ytest_ = pd.get_dummies(Ytest_) "
   ]
  },
  {
   "cell_type": "code",
   "execution_count": 157,
   "id": "0a1546f9",
   "metadata": {
    "ExecuteTime": {
     "end_time": "2022-07-07T03:05:25.824405Z",
     "start_time": "2022-07-07T03:05:25.720313Z"
    }
   },
   "outputs": [
    {
     "name": "stdout",
     "output_type": "stream",
     "text": [
      "Multinomial\n",
      "\tBrier under rec.sport.hockey:0.857\n",
      "\tBrier under sci.space:0.033\n",
      "\tBrier under talk.politics.guns:0.169\n",
      "\tBrier under talk.politics.mideast:0.178\n",
      "\tAverage Brier:0.309\n",
      "\tAccuracy:0.975\n",
      "\n",
      "\n",
      "Complement\n",
      "\tBrier under rec.sport.hockey:0.804\n",
      "\tBrier under sci.space:0.039\n",
      "\tBrier under talk.politics.guns:0.137\n",
      "\tBrier under talk.politics.mideast:0.160\n",
      "\tAverage Brier:0.285\n",
      "\tAccuracy:0.986\n",
      "\n",
      "\n",
      "Bernoulli\n",
      "\tBrier under rec.sport.hockey:0.925\n",
      "\tBrier under sci.space:0.025\n",
      "\tBrier under talk.politics.guns:0.205\n",
      "\tBrier under talk.politics.mideast:0.193\n",
      "\tAverage Brier:0.337\n",
      "\tAccuracy:0.902\n",
      "\n",
      "\n"
     ]
    }
   ],
   "source": [
    "from sklearn.naive_bayes import MultinomialNB,ComplementNB, BernoulliNB \n",
    "from sklearn.metrics import brier_score_loss as BS \n",
    "\n",
    "name = ['Multinomial','Complement','Bernoulli'] \n",
    "models = [MultinomialNB(),ComplementNB(),BernoulliNB()] \n",
    "\n",
    "for name, clf in zip(name,models): \n",
    "    clf.fit(Xtrain_,Ytrain) \n",
    "    y_pred = clf.predict(Xtest_) \n",
    "    proba = clf.predict_proba(Xtest_) \n",
    "    score = clf.score(Xtest_,Ytest) \n",
    "    print(name) \n",
    "    \n",
    "    Bscore = [] \n",
    "    for i in range(len(np.unique(Ytrain))): \n",
    "        bs = BS(Ytest_[i],proba[:,i],pos_label = i) \n",
    "        Bscore.append(bs) \n",
    "        \n",
    "        print('\\tBrier under {}:{:.3f}'.format(train.target_names[i],bs)) \n",
    "        \n",
    "    print('\\tAverage Brier:{:.3f}'.format(np.mean(Bscore))) \n",
    "    print('\\tAccuracy:{:.3f}'.format(score)) \n",
    "    print('\\n')  "
   ]
  },
  {
   "cell_type": "code",
   "execution_count": 165,
   "id": "23fe09f9",
   "metadata": {
    "ExecuteTime": {
     "end_time": "2022-07-07T03:18:08.864865Z",
     "start_time": "2022-07-07T03:18:08.862269Z"
    }
   },
   "outputs": [],
   "source": [
    "## calibration cv \n",
    "from sklearn.calibration import CalibratedClassifierCV "
   ]
  },
  {
   "cell_type": "code",
   "execution_count": 166,
   "id": "9152307a",
   "metadata": {
    "ExecuteTime": {
     "end_time": "2022-07-07T03:18:09.238070Z",
     "start_time": "2022-07-07T03:18:09.232281Z"
    }
   },
   "outputs": [],
   "source": [
    "name = [\"Multinomial\"\n",
    ",\"Multinomial + Isotonic\"\n",
    ",\"Multinomial + Sigmoid\"\n",
    ",\"Complement\"\n",
    ",\"Complement + Isotonic\"\n",
    ",\"Complement + Sigmoid\"\n",
    ",\"Bernoulli\"\n",
    ",\"Bernoulli + Isotonic\"\n",
    ",\"Bernoulli + Sigmoid\"]\n",
    "models = [MultinomialNB()\n",
    ",CalibratedClassifierCV(MultinomialNB(), cv=2, method='isotonic')\n",
    ",CalibratedClassifierCV(MultinomialNB(), cv=2, method='sigmoid')\n",
    ",ComplementNB()\n",
    ",CalibratedClassifierCV(ComplementNB(), cv=2, method='isotonic')\n",
    ",CalibratedClassifierCV(ComplementNB(), cv=2, method='sigmoid')\n",
    ",BernoulliNB()\n",
    ",CalibratedClassifierCV(BernoulliNB(), cv=2, method='isotonic')\n",
    ",CalibratedClassifierCV(BernoulliNB(), cv=2, method='sigmoid')\n",
    "]"
   ]
  },
  {
   "cell_type": "code",
   "execution_count": 167,
   "id": "85110eb2",
   "metadata": {
    "ExecuteTime": {
     "end_time": "2022-07-07T03:18:10.329002Z",
     "start_time": "2022-07-07T03:18:09.701077Z"
    }
   },
   "outputs": [
    {
     "name": "stdout",
     "output_type": "stream",
     "text": [
      "Multinomial\n",
      "\tBrier under rec.sport.hockey:0.857\n",
      "\tBrier under sci.space:0.033\n",
      "\tBrier under talk.politics.guns:0.169\n",
      "\tBrier under talk.politics.mideast:0.178\n",
      "\tAverage Brier:0.309\n",
      "\tAccuracy:0.975\n",
      "\n",
      "\n",
      "Multinomial + Isotonic\n",
      "\tBrier under rec.sport.hockey:0.980\n",
      "\tBrier under sci.space:0.012\n",
      "\tBrier under talk.politics.guns:0.226\n",
      "\tBrier under talk.politics.mideast:0.228\n",
      "\tAverage Brier:0.362\n",
      "\tAccuracy:0.973\n",
      "\n",
      "\n",
      "Multinomial + Sigmoid\n",
      "\tBrier under rec.sport.hockey:0.968\n",
      "\tBrier under sci.space:0.012\n",
      "\tBrier under talk.politics.guns:0.219\n",
      "\tBrier under talk.politics.mideast:0.222\n",
      "\tAverage Brier:0.355\n",
      "\tAccuracy:0.973\n",
      "\n",
      "\n",
      "Complement\n",
      "\tBrier under rec.sport.hockey:0.804\n",
      "\tBrier under sci.space:0.039\n",
      "\tBrier under talk.politics.guns:0.137\n",
      "\tBrier under talk.politics.mideast:0.160\n",
      "\tAverage Brier:0.285\n",
      "\tAccuracy:0.986\n",
      "\n",
      "\n",
      "Complement + Isotonic\n",
      "\tBrier under rec.sport.hockey:0.984\n",
      "\tBrier under sci.space:0.007\n",
      "\tBrier under talk.politics.guns:0.227\n",
      "\tBrier under talk.politics.mideast:0.230\n",
      "\tAverage Brier:0.362\n",
      "\tAccuracy:0.985\n",
      "\n",
      "\n",
      "Complement + Sigmoid\n",
      "\tBrier under rec.sport.hockey:0.970\n",
      "\tBrier under sci.space:0.009\n",
      "\tBrier under talk.politics.guns:0.217\n",
      "\tBrier under talk.politics.mideast:0.221\n",
      "\tAverage Brier:0.354\n",
      "\tAccuracy:0.986\n",
      "\n",
      "\n",
      "Bernoulli\n",
      "\tBrier under rec.sport.hockey:0.925\n",
      "\tBrier under sci.space:0.025\n",
      "\tBrier under talk.politics.guns:0.205\n",
      "\tBrier under talk.politics.mideast:0.193\n",
      "\tAverage Brier:0.337\n",
      "\tAccuracy:0.902\n",
      "\n",
      "\n",
      "Bernoulli + Isotonic\n",
      "\tBrier under rec.sport.hockey:0.930\n",
      "\tBrier under sci.space:0.017\n",
      "\tBrier under talk.politics.guns:0.181\n",
      "\tBrier under talk.politics.mideast:0.176\n",
      "\tAverage Brier:0.326\n",
      "\tAccuracy:0.937\n",
      "\n",
      "\n",
      "Bernoulli + Sigmoid\n",
      "\tBrier under rec.sport.hockey:0.825\n",
      "\tBrier under sci.space:0.030\n",
      "\tBrier under talk.politics.guns:0.153\n",
      "\tBrier under talk.politics.mideast:0.160\n",
      "\tAverage Brier:0.292\n",
      "\tAccuracy:0.879\n",
      "\n",
      "\n"
     ]
    }
   ],
   "source": [
    "for name,clf in zip(name,models):\n",
    "    clf.fit(Xtrain_,Ytrain)\n",
    "    y_pred = clf.predict(Xtest_)\n",
    "    proba = clf.predict_proba(Xtest_)\n",
    "    score = clf.score(Xtest_,Ytest)\n",
    "    print(name)\n",
    "    Bscore = []\n",
    "    for i in range(len(np.unique(Ytrain))):\n",
    "        bs = BS(Ytest_[i],proba[:,i],pos_label=i)\n",
    "        Bscore.append(bs)\n",
    "        print(\"\\tBrier under {}:{:.3f}\".format(train.target_names[i],bs))\n",
    "    print(\"\\tAverage Brier:{:.3f}\".format(np.mean(Bscore)))\n",
    "    print(\"\\tAccuracy:{:.3f}\".format(score))\n",
    "    print(\"\\n\")"
   ]
  },
  {
   "cell_type": "code",
   "execution_count": null,
   "id": "7dce0035",
   "metadata": {},
   "outputs": [],
   "source": []
  }
 ],
 "metadata": {
  "gist": {
   "data": {
    "description": "Naive Bayes",
    "public": true
   },
   "id": ""
  },
  "hide_input": false,
  "kernelspec": {
   "display_name": "Python 3 (ipykernel)",
   "language": "python",
   "name": "python3"
  },
  "language_info": {
   "codemirror_mode": {
    "name": "ipython",
    "version": 3
   },
   "file_extension": ".py",
   "mimetype": "text/x-python",
   "name": "python",
   "nbconvert_exporter": "python",
   "pygments_lexer": "ipython3",
   "version": "3.7.7"
  },
  "latex_envs": {
   "LaTeX_envs_menu_present": true,
   "autoclose": false,
   "autocomplete": true,
   "bibliofile": "biblio.bib",
   "cite_by": "apalike",
   "current_citInitial": 1,
   "eqLabelWithNumbers": true,
   "eqNumInitial": 1,
   "hotkeys": {
    "equation": "Ctrl-E",
    "itemize": "Ctrl-I"
   },
   "labels_anchors": false,
   "latex_user_defs": false,
   "report_style_numbering": false,
   "user_envs_cfg": false
  },
  "nbTranslate": {
   "displayLangs": [
    "*"
   ],
   "hotkey": "alt-t",
   "langInMainMenu": true,
   "sourceLang": "en",
   "targetLang": "fr",
   "useGoogleTranslate": true
  },
  "toc": {
   "base_numbering": 1,
   "nav_menu": {},
   "number_sections": true,
   "sideBar": true,
   "skip_h1_title": false,
   "title_cell": "Table of Contents",
   "title_sidebar": "Contents",
   "toc_cell": false,
   "toc_position": {},
   "toc_section_display": true,
   "toc_window_display": false
  }
 },
 "nbformat": 4,
 "nbformat_minor": 5
}
